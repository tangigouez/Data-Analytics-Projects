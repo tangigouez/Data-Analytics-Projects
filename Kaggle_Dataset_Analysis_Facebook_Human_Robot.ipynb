{
 "cells": [
  {
   "cell_type": "markdown",
   "metadata": {},
   "source": [
    "# **Kaggle Dataset Analysis : Facebook Recruiting IV: Human or Robot ?**"
   ]
  },
  {
   "cell_type": "markdown",
   "metadata": {},
   "source": [
    "The main goal of this project is to understand the patterns which allows a platform to identify whether an online bid is made by a machine or a human. \n",
    "\n",
    "To do so, I am going to investigate the following datasets :\n",
    "- \"train.csv\", which includes a list of bidder information, with their id, payment account, and address\n",
    "- \"bids.csv\" that includes 7.6 million bids on different auctions\n",
    "\n",
    "This notebook is organised in three separated parts :\n",
    "\n",
    "- **PART 1** : is dedicated to the preparation of the dataset to the analysis. In this section, I will firstly process to the **detection** of incomplete, incorrect, inaccurate or irrelevant parts within both datasets. Once I will have identified these data points I will either **replace, modify or delete** the dirty or coarse data.\n",
    "\n",
    "\n",
    "- **PART 2** : in this section, I will use the cleaned dataset to answer intermediary questions which are aimed to discover the interesting tracks to explore, which deserve to be analysed in greater depth. The questions that will be treated are the following : \n",
    "    - **1.** For each auction,identify the number of unique ip addresses\n",
    "    - **2.** For each merchandise type, identify the country which sent the maximum number of bids (in the csv, include also the number of bids sent by that country)\n",
    "    - **3.** For each country,the fraction of times a bid from that country was identified as coming from a robot\n",
    "\n",
    "\n",
    "- **PART 3** : this part is dedicated to the exploration of the interesting patterns identified in part 2 and to visualise the outputs thanks to data visualisation.\n",
    "\n",
    "Let's start !"
   ]
  },
  {
   "cell_type": "markdown",
   "metadata": {},
   "source": [
    "# **PART 1. DATA CLEANING**"
   ]
  },
  {
   "cell_type": "markdown",
   "metadata": {},
   "source": [
    "## **1.1. Reading Datasets**"
   ]
  },
  {
   "cell_type": "code",
   "execution_count": 1,
   "metadata": {},
   "outputs": [],
   "source": [
    "import pandas as pd\n",
    "import numpy as np\n",
    "import matplotlib.pyplot as plt\n",
    "import seaborn as sns\n",
    "%matplotlib inline"
   ]
  },
  {
   "cell_type": "code",
   "execution_count": 2,
   "metadata": {},
   "outputs": [],
   "source": [
    "train = pd.read_csv(\"/Users/tangigouez/Desktop/Kaggle_data_source/train.csv\", encoding = \"UTF-8\")"
   ]
  },
  {
   "cell_type": "code",
   "execution_count": 3,
   "metadata": {},
   "outputs": [],
   "source": [
    "bids = pd.read_csv(\"/Users/tangigouez/Desktop/Kaggle_data_source/bids.csv\", encoding = \"UTF-8\")"
   ]
  },
  {
   "cell_type": "code",
   "execution_count": 4,
   "metadata": {},
   "outputs": [
    {
     "name": "stdout",
     "output_type": "stream",
     "text": [
      "<class 'pandas.core.frame.DataFrame'>\n",
      "RangeIndex: 2013 entries, 0 to 2012\n",
      "Data columns (total 4 columns):\n",
      " #   Column           Non-Null Count  Dtype  \n",
      "---  ------           --------------  -----  \n",
      " 0   bidder_id        2013 non-null   object \n",
      " 1   payment_account  2013 non-null   object \n",
      " 2   address          2013 non-null   object \n",
      " 3   outcome          2013 non-null   float64\n",
      "dtypes: float64(1), object(3)\n",
      "memory usage: 63.0+ KB\n"
     ]
    }
   ],
   "source": [
    "train.info()"
   ]
  },
  {
   "cell_type": "code",
   "execution_count": 5,
   "metadata": {},
   "outputs": [
    {
     "data": {
      "text/html": [
       "<div>\n",
       "<style scoped>\n",
       "    .dataframe tbody tr th:only-of-type {\n",
       "        vertical-align: middle;\n",
       "    }\n",
       "\n",
       "    .dataframe tbody tr th {\n",
       "        vertical-align: top;\n",
       "    }\n",
       "\n",
       "    .dataframe thead th {\n",
       "        text-align: right;\n",
       "    }\n",
       "</style>\n",
       "<table border=\"1\" class=\"dataframe\">\n",
       "  <thead>\n",
       "    <tr style=\"text-align: right;\">\n",
       "      <th></th>\n",
       "      <th>bidder_id</th>\n",
       "      <th>payment_account</th>\n",
       "      <th>address</th>\n",
       "      <th>outcome</th>\n",
       "    </tr>\n",
       "  </thead>\n",
       "  <tbody>\n",
       "    <tr>\n",
       "      <th>0</th>\n",
       "      <td>91a3c57b13234af24875c56fb7e2b2f4rb56a</td>\n",
       "      <td>a3d2de7675556553a5f08e4c88d2c228754av</td>\n",
       "      <td>a3d2de7675556553a5f08e4c88d2c228vt0u4</td>\n",
       "      <td>0.0</td>\n",
       "    </tr>\n",
       "    <tr>\n",
       "      <th>1</th>\n",
       "      <td>624f258b49e77713fc34034560f93fb3hu3jo</td>\n",
       "      <td>a3d2de7675556553a5f08e4c88d2c228v1sga</td>\n",
       "      <td>ae87054e5a97a8f840a3991d12611fdcrfbq3</td>\n",
       "      <td>0.0</td>\n",
       "    </tr>\n",
       "    <tr>\n",
       "      <th>2</th>\n",
       "      <td>1c5f4fc669099bfbfac515cd26997bd12ruaj</td>\n",
       "      <td>a3d2de7675556553a5f08e4c88d2c2280cybl</td>\n",
       "      <td>92520288b50f03907041887884ba49c0cl0pd</td>\n",
       "      <td>0.0</td>\n",
       "    </tr>\n",
       "    <tr>\n",
       "      <th>3</th>\n",
       "      <td>4bee9aba2abda51bf43d639013d6efe12iycd</td>\n",
       "      <td>51d80e233f7b6a7dfdee484a3c120f3b2ita8</td>\n",
       "      <td>4cb9717c8ad7e88a9a284989dd79b98dbevyi</td>\n",
       "      <td>0.0</td>\n",
       "    </tr>\n",
       "    <tr>\n",
       "      <th>4</th>\n",
       "      <td>4ab12bc61c82ddd9c2d65e60555808acqgos1</td>\n",
       "      <td>a3d2de7675556553a5f08e4c88d2c22857ddh</td>\n",
       "      <td>2a96c3ce94b3be921e0296097b88b56a7x1ji</td>\n",
       "      <td>0.0</td>\n",
       "    </tr>\n",
       "  </tbody>\n",
       "</table>\n",
       "</div>"
      ],
      "text/plain": [
       "                               bidder_id  \\\n",
       "0  91a3c57b13234af24875c56fb7e2b2f4rb56a   \n",
       "1  624f258b49e77713fc34034560f93fb3hu3jo   \n",
       "2  1c5f4fc669099bfbfac515cd26997bd12ruaj   \n",
       "3  4bee9aba2abda51bf43d639013d6efe12iycd   \n",
       "4  4ab12bc61c82ddd9c2d65e60555808acqgos1   \n",
       "\n",
       "                         payment_account  \\\n",
       "0  a3d2de7675556553a5f08e4c88d2c228754av   \n",
       "1  a3d2de7675556553a5f08e4c88d2c228v1sga   \n",
       "2  a3d2de7675556553a5f08e4c88d2c2280cybl   \n",
       "3  51d80e233f7b6a7dfdee484a3c120f3b2ita8   \n",
       "4  a3d2de7675556553a5f08e4c88d2c22857ddh   \n",
       "\n",
       "                                 address  outcome  \n",
       "0  a3d2de7675556553a5f08e4c88d2c228vt0u4      0.0  \n",
       "1  ae87054e5a97a8f840a3991d12611fdcrfbq3      0.0  \n",
       "2  92520288b50f03907041887884ba49c0cl0pd      0.0  \n",
       "3  4cb9717c8ad7e88a9a284989dd79b98dbevyi      0.0  \n",
       "4  2a96c3ce94b3be921e0296097b88b56a7x1ji      0.0  "
      ]
     },
     "execution_count": 5,
     "metadata": {},
     "output_type": "execute_result"
    }
   ],
   "source": [
    "train.head()"
   ]
  },
  {
   "cell_type": "code",
   "execution_count": 6,
   "metadata": {},
   "outputs": [
    {
     "data": {
      "text/html": [
       "<div>\n",
       "<style scoped>\n",
       "    .dataframe tbody tr th:only-of-type {\n",
       "        vertical-align: middle;\n",
       "    }\n",
       "\n",
       "    .dataframe tbody tr th {\n",
       "        vertical-align: top;\n",
       "    }\n",
       "\n",
       "    .dataframe thead th {\n",
       "        text-align: right;\n",
       "    }\n",
       "</style>\n",
       "<table border=\"1\" class=\"dataframe\">\n",
       "  <thead>\n",
       "    <tr style=\"text-align: right;\">\n",
       "      <th></th>\n",
       "      <th>bidder_id</th>\n",
       "      <th>payment_account</th>\n",
       "      <th>address</th>\n",
       "      <th>outcome</th>\n",
       "    </tr>\n",
       "  </thead>\n",
       "  <tbody>\n",
       "    <tr>\n",
       "      <th>2008</th>\n",
       "      <td>369515b3af4f8ca582f90271d30b14b6r52aw</td>\n",
       "      <td>a1f85275793c4a782f0a668711f41b927ivc9</td>\n",
       "      <td>e6882cf204a9482edd042b6e31791dfctxzx8</td>\n",
       "      <td>0.0</td>\n",
       "    </tr>\n",
       "    <tr>\n",
       "      <th>2009</th>\n",
       "      <td>f939c17ffc7c39ac9b35b69e5e75179fv9pe2</td>\n",
       "      <td>a3d2de7675556553a5f08e4c88d2c2286s1m2</td>\n",
       "      <td>b9b03d5a127eb07aeb9163cdcf524e1344ac9</td>\n",
       "      <td>0.0</td>\n",
       "    </tr>\n",
       "    <tr>\n",
       "      <th>2010</th>\n",
       "      <td>c806dbb2decba0ed3c4ff5e2e60a74c2wjvbl</td>\n",
       "      <td>a3d2de7675556553a5f08e4c88d2c22856leq</td>\n",
       "      <td>d02c2b288b8aabd79ff47118aff41a2dqwzwc</td>\n",
       "      <td>0.0</td>\n",
       "    </tr>\n",
       "    <tr>\n",
       "      <th>2011</th>\n",
       "      <td>0381a69b7a061e9ace2798fd48f1f537mgq57</td>\n",
       "      <td>fd87037ce0304077079c749f420f0b4c54uo0</td>\n",
       "      <td>f030a221726fbcdfc4dc7dfd1b381a112hieq</td>\n",
       "      <td>0.0</td>\n",
       "    </tr>\n",
       "    <tr>\n",
       "      <th>2012</th>\n",
       "      <td>84a769adc98498f52debfe57b93a0789556f4</td>\n",
       "      <td>fbe0ce34d6546ebd9e4c63afc68b085byd2tf</td>\n",
       "      <td>a3d2de7675556553a5f08e4c88d2c228fib6p</td>\n",
       "      <td>0.0</td>\n",
       "    </tr>\n",
       "  </tbody>\n",
       "</table>\n",
       "</div>"
      ],
      "text/plain": [
       "                                  bidder_id  \\\n",
       "2008  369515b3af4f8ca582f90271d30b14b6r52aw   \n",
       "2009  f939c17ffc7c39ac9b35b69e5e75179fv9pe2   \n",
       "2010  c806dbb2decba0ed3c4ff5e2e60a74c2wjvbl   \n",
       "2011  0381a69b7a061e9ace2798fd48f1f537mgq57   \n",
       "2012  84a769adc98498f52debfe57b93a0789556f4   \n",
       "\n",
       "                            payment_account  \\\n",
       "2008  a1f85275793c4a782f0a668711f41b927ivc9   \n",
       "2009  a3d2de7675556553a5f08e4c88d2c2286s1m2   \n",
       "2010  a3d2de7675556553a5f08e4c88d2c22856leq   \n",
       "2011  fd87037ce0304077079c749f420f0b4c54uo0   \n",
       "2012  fbe0ce34d6546ebd9e4c63afc68b085byd2tf   \n",
       "\n",
       "                                    address  outcome  \n",
       "2008  e6882cf204a9482edd042b6e31791dfctxzx8      0.0  \n",
       "2009  b9b03d5a127eb07aeb9163cdcf524e1344ac9      0.0  \n",
       "2010  d02c2b288b8aabd79ff47118aff41a2dqwzwc      0.0  \n",
       "2011  f030a221726fbcdfc4dc7dfd1b381a112hieq      0.0  \n",
       "2012  a3d2de7675556553a5f08e4c88d2c228fib6p      0.0  "
      ]
     },
     "execution_count": 6,
     "metadata": {},
     "output_type": "execute_result"
    }
   ],
   "source": [
    "train.tail()"
   ]
  },
  {
   "cell_type": "markdown",
   "metadata": {},
   "source": [
    "Overall, the train dataset contains 2013 rows and a total of 4 columns. The details of the meaning of each column names are the following : \n",
    "- bidder_id – Unique identifier of a bidder.\n",
    "- payment_account – Payment account associated with a bidder. These are obfuscated to protect privacy. \n",
    "- address – Mailing address of a bidder. These are obfuscated to protect privacy. \n",
    "- outcome – Label of a bidder indicating whether or not it is a robot. Value 1.0 indicates a robot, where value 0.0 indicates human. "
   ]
  },
  {
   "cell_type": "code",
   "execution_count": 7,
   "metadata": {},
   "outputs": [
    {
     "name": "stdout",
     "output_type": "stream",
     "text": [
      "<class 'pandas.core.frame.DataFrame'>\n",
      "RangeIndex: 7656334 entries, 0 to 7656333\n",
      "Data columns (total 9 columns):\n",
      " #   Column       Dtype \n",
      "---  ------       ----- \n",
      " 0   bid_id       int64 \n",
      " 1   bidder_id    object\n",
      " 2   auction      object\n",
      " 3   merchandise  object\n",
      " 4   device       object\n",
      " 5   time         int64 \n",
      " 6   country      object\n",
      " 7   ip           object\n",
      " 8   url          object\n",
      "dtypes: int64(2), object(7)\n",
      "memory usage: 525.7+ MB\n"
     ]
    }
   ],
   "source": [
    "bids.info()"
   ]
  },
  {
   "cell_type": "code",
   "execution_count": 9,
   "metadata": {},
   "outputs": [
    {
     "data": {
      "text/html": [
       "<div>\n",
       "<style scoped>\n",
       "    .dataframe tbody tr th:only-of-type {\n",
       "        vertical-align: middle;\n",
       "    }\n",
       "\n",
       "    .dataframe tbody tr th {\n",
       "        vertical-align: top;\n",
       "    }\n",
       "\n",
       "    .dataframe thead th {\n",
       "        text-align: right;\n",
       "    }\n",
       "</style>\n",
       "<table border=\"1\" class=\"dataframe\">\n",
       "  <thead>\n",
       "    <tr style=\"text-align: right;\">\n",
       "      <th></th>\n",
       "      <th>bid_id</th>\n",
       "      <th>bidder_id</th>\n",
       "      <th>auction</th>\n",
       "      <th>merchandise</th>\n",
       "      <th>device</th>\n",
       "      <th>time</th>\n",
       "      <th>country</th>\n",
       "      <th>ip</th>\n",
       "      <th>url</th>\n",
       "    </tr>\n",
       "  </thead>\n",
       "  <tbody>\n",
       "    <tr>\n",
       "      <th>0</th>\n",
       "      <td>0</td>\n",
       "      <td>8dac2b259fd1c6d1120e519fb1ac14fbqvax8</td>\n",
       "      <td>ewmzr</td>\n",
       "      <td>jewelry</td>\n",
       "      <td>phone0</td>\n",
       "      <td>9759243157894736</td>\n",
       "      <td>us</td>\n",
       "      <td>69.166.231.58</td>\n",
       "      <td>vasstdc27m7nks3</td>\n",
       "    </tr>\n",
       "    <tr>\n",
       "      <th>1</th>\n",
       "      <td>1</td>\n",
       "      <td>668d393e858e8126275433046bbd35c6tywop</td>\n",
       "      <td>aeqok</td>\n",
       "      <td>furniture</td>\n",
       "      <td>phone1</td>\n",
       "      <td>9759243157894736</td>\n",
       "      <td>in</td>\n",
       "      <td>50.201.125.84</td>\n",
       "      <td>jmqlhflrzwuay9c</td>\n",
       "    </tr>\n",
       "    <tr>\n",
       "      <th>2</th>\n",
       "      <td>2</td>\n",
       "      <td>aa5f360084278b35d746fa6af3a7a1a5ra3xe</td>\n",
       "      <td>wa00e</td>\n",
       "      <td>home goods</td>\n",
       "      <td>phone2</td>\n",
       "      <td>9759243157894736</td>\n",
       "      <td>py</td>\n",
       "      <td>112.54.208.157</td>\n",
       "      <td>vasstdc27m7nks3</td>\n",
       "    </tr>\n",
       "    <tr>\n",
       "      <th>3</th>\n",
       "      <td>3</td>\n",
       "      <td>3939ac3ef7d472a59a9c5f893dd3e39fh9ofi</td>\n",
       "      <td>jefix</td>\n",
       "      <td>jewelry</td>\n",
       "      <td>phone4</td>\n",
       "      <td>9759243157894736</td>\n",
       "      <td>in</td>\n",
       "      <td>18.99.175.133</td>\n",
       "      <td>vasstdc27m7nks3</td>\n",
       "    </tr>\n",
       "    <tr>\n",
       "      <th>4</th>\n",
       "      <td>4</td>\n",
       "      <td>8393c48eaf4b8fa96886edc7cf27b372dsibi</td>\n",
       "      <td>jefix</td>\n",
       "      <td>jewelry</td>\n",
       "      <td>phone5</td>\n",
       "      <td>9759243157894736</td>\n",
       "      <td>in</td>\n",
       "      <td>145.138.5.37</td>\n",
       "      <td>vasstdc27m7nks3</td>\n",
       "    </tr>\n",
       "  </tbody>\n",
       "</table>\n",
       "</div>"
      ],
      "text/plain": [
       "   bid_id                              bidder_id auction merchandise  device  \\\n",
       "0       0  8dac2b259fd1c6d1120e519fb1ac14fbqvax8   ewmzr     jewelry  phone0   \n",
       "1       1  668d393e858e8126275433046bbd35c6tywop   aeqok   furniture  phone1   \n",
       "2       2  aa5f360084278b35d746fa6af3a7a1a5ra3xe   wa00e  home goods  phone2   \n",
       "3       3  3939ac3ef7d472a59a9c5f893dd3e39fh9ofi   jefix     jewelry  phone4   \n",
       "4       4  8393c48eaf4b8fa96886edc7cf27b372dsibi   jefix     jewelry  phone5   \n",
       "\n",
       "               time country              ip              url  \n",
       "0  9759243157894736      us   69.166.231.58  vasstdc27m7nks3  \n",
       "1  9759243157894736      in   50.201.125.84  jmqlhflrzwuay9c  \n",
       "2  9759243157894736      py  112.54.208.157  vasstdc27m7nks3  \n",
       "3  9759243157894736      in   18.99.175.133  vasstdc27m7nks3  \n",
       "4  9759243157894736      in    145.138.5.37  vasstdc27m7nks3  "
      ]
     },
     "execution_count": 9,
     "metadata": {},
     "output_type": "execute_result"
    }
   ],
   "source": [
    "bids.head()"
   ]
  },
  {
   "cell_type": "code",
   "execution_count": 8,
   "metadata": {},
   "outputs": [
    {
     "data": {
      "text/html": [
       "<div>\n",
       "<style scoped>\n",
       "    .dataframe tbody tr th:only-of-type {\n",
       "        vertical-align: middle;\n",
       "    }\n",
       "\n",
       "    .dataframe tbody tr th {\n",
       "        vertical-align: top;\n",
       "    }\n",
       "\n",
       "    .dataframe thead th {\n",
       "        text-align: right;\n",
       "    }\n",
       "</style>\n",
       "<table border=\"1\" class=\"dataframe\">\n",
       "  <thead>\n",
       "    <tr style=\"text-align: right;\">\n",
       "      <th></th>\n",
       "      <th>bid_id</th>\n",
       "      <th>bidder_id</th>\n",
       "      <th>auction</th>\n",
       "      <th>merchandise</th>\n",
       "      <th>device</th>\n",
       "      <th>time</th>\n",
       "      <th>country</th>\n",
       "      <th>ip</th>\n",
       "      <th>url</th>\n",
       "    </tr>\n",
       "  </thead>\n",
       "  <tbody>\n",
       "    <tr>\n",
       "      <th>7656329</th>\n",
       "      <td>7656329</td>\n",
       "      <td>626159dd6f2228ede002d9f9340f75b7puk8d</td>\n",
       "      <td>3e64w</td>\n",
       "      <td>jewelry</td>\n",
       "      <td>phone91</td>\n",
       "      <td>9709222052631578</td>\n",
       "      <td>ru</td>\n",
       "      <td>140.204.227.63</td>\n",
       "      <td>cghhmomsaxi6pug</td>\n",
       "    </tr>\n",
       "    <tr>\n",
       "      <th>7656330</th>\n",
       "      <td>7656330</td>\n",
       "      <td>a318ea333ceee1ba39a494476386136a826dv</td>\n",
       "      <td>xn0y0</td>\n",
       "      <td>mobile</td>\n",
       "      <td>phone236</td>\n",
       "      <td>9709222052631578</td>\n",
       "      <td>pl</td>\n",
       "      <td>24.232.159.118</td>\n",
       "      <td>wgggpdg2gx5pesn</td>\n",
       "    </tr>\n",
       "    <tr>\n",
       "      <th>7656331</th>\n",
       "      <td>7656331</td>\n",
       "      <td>f5b2bbad20d1d7ded3ed960393bec0f40u6hn</td>\n",
       "      <td>gja6c</td>\n",
       "      <td>sporting goods</td>\n",
       "      <td>phone80</td>\n",
       "      <td>9709222052631578</td>\n",
       "      <td>za</td>\n",
       "      <td>80.237.28.246</td>\n",
       "      <td>5xgysg14grlersa</td>\n",
       "    </tr>\n",
       "    <tr>\n",
       "      <th>7656332</th>\n",
       "      <td>7656332</td>\n",
       "      <td>d4bd412590f5106b9d887a43c51b254eldo4f</td>\n",
       "      <td>hmwk8</td>\n",
       "      <td>jewelry</td>\n",
       "      <td>phone349</td>\n",
       "      <td>9709222052631578</td>\n",
       "      <td>my</td>\n",
       "      <td>91.162.27.152</td>\n",
       "      <td>bhtrek44bzi2wfl</td>\n",
       "    </tr>\n",
       "    <tr>\n",
       "      <th>7656333</th>\n",
       "      <td>7656333</td>\n",
       "      <td>0ea62aaa9c3ffcc6db584cb69c1f6c4bcripp</td>\n",
       "      <td>c9ox9</td>\n",
       "      <td>mobile</td>\n",
       "      <td>phone82</td>\n",
       "      <td>9709222052631578</td>\n",
       "      <td>jo</td>\n",
       "      <td>160.243.101.60</td>\n",
       "      <td>vasstdc27m7nks3</td>\n",
       "    </tr>\n",
       "  </tbody>\n",
       "</table>\n",
       "</div>"
      ],
      "text/plain": [
       "          bid_id                              bidder_id auction  \\\n",
       "7656329  7656329  626159dd6f2228ede002d9f9340f75b7puk8d   3e64w   \n",
       "7656330  7656330  a318ea333ceee1ba39a494476386136a826dv   xn0y0   \n",
       "7656331  7656331  f5b2bbad20d1d7ded3ed960393bec0f40u6hn   gja6c   \n",
       "7656332  7656332  d4bd412590f5106b9d887a43c51b254eldo4f   hmwk8   \n",
       "7656333  7656333  0ea62aaa9c3ffcc6db584cb69c1f6c4bcripp   c9ox9   \n",
       "\n",
       "            merchandise    device              time country              ip  \\\n",
       "7656329         jewelry   phone91  9709222052631578      ru  140.204.227.63   \n",
       "7656330          mobile  phone236  9709222052631578      pl  24.232.159.118   \n",
       "7656331  sporting goods   phone80  9709222052631578      za   80.237.28.246   \n",
       "7656332         jewelry  phone349  9709222052631578      my   91.162.27.152   \n",
       "7656333          mobile   phone82  9709222052631578      jo  160.243.101.60   \n",
       "\n",
       "                     url  \n",
       "7656329  cghhmomsaxi6pug  \n",
       "7656330  wgggpdg2gx5pesn  \n",
       "7656331  5xgysg14grlersa  \n",
       "7656332  bhtrek44bzi2wfl  \n",
       "7656333  vasstdc27m7nks3  "
      ]
     },
     "execution_count": 8,
     "metadata": {},
     "output_type": "execute_result"
    }
   ],
   "source": [
    "bids.tail()"
   ]
  },
  {
   "cell_type": "markdown",
   "metadata": {},
   "source": [
    "The dataset contains more than 7 millions entries and 9 columns. To better understand the meaning of each columns, here is the description of the table :\n",
    "- bid_id - unique id for this bid\n",
    "- bidder_id – Unique identifier of a bidder (same as the bidder_id used in train.csv and test.csv)\n",
    "- auction – Unique identifier of an auction\n",
    "- merchandise –  The category of the auction site campaign, which means the bidder might come to this site by way of searching for \"home goods\" but ended up bidding for \"sporting goods\" - and that leads to this field being \"home goods\". This categorical field could be a search term, or online advertisement. \n",
    "- device – Phone model of a visitor\n",
    "- time - Time that the bid is made (transformed to protect privacy).\n",
    "- country - The country that the IP belongs to\n",
    "- ip – IP address of a bidder (obfuscated to protect privacy).\n",
    "- url - url where the bidder was referred from (obfuscated to protect privacy). "
   ]
  },
  {
   "cell_type": "markdown",
   "metadata": {},
   "source": [
    "After exploring both datasets, we can clearly identify that both of them share the column 'bidder_id', which is a unique identifier of a bidder. As the data in this column is a primary key for each rows, we can join both datasets based on this column values. The joined dataset will be named 'data'."
   ]
  },
  {
   "cell_type": "code",
   "execution_count": 10,
   "metadata": {},
   "outputs": [],
   "source": [
    "data = pd.merge(train, bids, on='bidder_id', how='left')"
   ]
  },
  {
   "cell_type": "markdown",
   "metadata": {},
   "source": [
    "## **1.2. Identify Missing Data**"
   ]
  },
  {
   "cell_type": "code",
   "execution_count": 11,
   "metadata": {},
   "outputs": [
    {
     "name": "stdout",
     "output_type": "stream",
     "text": [
      "<class 'pandas.core.frame.DataFrame'>\n",
      "Int64Index: 3071253 entries, 0 to 3071252\n",
      "Data columns (total 12 columns):\n",
      " #   Column           Dtype  \n",
      "---  ------           -----  \n",
      " 0   bidder_id        object \n",
      " 1   payment_account  object \n",
      " 2   address          object \n",
      " 3   outcome          float64\n",
      " 4   bid_id           float64\n",
      " 5   auction          object \n",
      " 6   merchandise      object \n",
      " 7   device           object \n",
      " 8   time             float64\n",
      " 9   country          object \n",
      " 10  ip               object \n",
      " 11  url              object \n",
      "dtypes: float64(3), object(9)\n",
      "memory usage: 304.6+ MB\n"
     ]
    }
   ],
   "source": [
    "data.info()"
   ]
  },
  {
   "cell_type": "markdown",
   "metadata": {},
   "source": [
    "The new dataset is composed of 12 columns and a total of 3 071 253 rows. As the number of entries between each joined datasets was significantly different, we are going to check if there are not missing data points within the new dataset that is going to be our main base of work for the analysis."
   ]
  },
  {
   "cell_type": "code",
   "execution_count": 12,
   "metadata": {},
   "outputs": [
    {
     "data": {
      "text/plain": [
       "<matplotlib.axes._subplots.AxesSubplot at 0x110fbc5c0>"
      ]
     },
     "execution_count": 12,
     "metadata": {},
     "output_type": "execute_result"
    },
    {
     "data": {
      "image/png": "[encoded data removed]",
      "text/plain": [
       "<Figure size 432x288 with 2 Axes>"
      ]
     },
     "metadata": {
      "needs_background": "light"
     },
     "output_type": "display_data"
    }
   ],
   "source": [
    "colours = ['#000099', '#ffff00'] # specify the colours - yellow is missing. blue is not missing.\n",
    "sns.heatmap(data.isnull(), cmap=sns.color_palette(colours))"
   ]
  },
  {
   "cell_type": "markdown",
   "metadata": {},
   "source": [
    "The above chart maps the missing datas in the dataset in yellow color. As it is all blue, we can assert that there is no missing data in the main dataset. However, as this last contains more than 3 million entries, while this chart is useful to give us a big picture of the quality of the merged dataset, we can't be sure that there is absolutely 0 missing data. Thus, in the next cell, we will take a more granular approach to identify potential missing datas in each columns."
   ]
  },
  {
   "cell_type": "code",
   "execution_count": 13,
   "metadata": {},
   "outputs": [
    {
     "name": "stdout",
     "output_type": "stream",
     "text": [
      "bidder_id - 0.0%\n",
      "payment_account - 0.0%\n",
      "address - 0.0%\n",
      "outcome - 0.0%\n",
      "bid_id - 0.0009442400219063686%\n",
      "auction - 0.0009442400219063686%\n",
      "merchandise - 0.0009442400219063686%\n",
      "device - 0.0009442400219063686%\n",
      "time - 0.0009442400219063686%\n",
      "country - 0.0888888020622202%\n",
      "ip - 0.0009442400219063686%\n",
      "url - 0.0009442400219063686%\n"
     ]
    }
   ],
   "source": [
    "for col in data.columns:\n",
    "    pct_missing = np.mean(data[col].isnull())\n",
    "    print('{} - {}%'.format(col,(pct_missing*100)))"
   ]
  },
  {
   "cell_type": "markdown",
   "metadata": {},
   "source": [
    "This output shows us that there very few missing datas that mainly concern the original columns of the bid dataset. As we merged both dataset based on the bidder_id column, we can guess that there exist some of bidder_id that do not have any bids. Let's look closer at the bidder_id column and check the number on null values."
   ]
  },
  {
   "cell_type": "code",
   "execution_count": 14,
   "metadata": {},
   "outputs": [
    {
     "data": {
      "text/plain": [
       "29"
      ]
     },
     "execution_count": 14,
     "metadata": {},
     "output_type": "execute_result"
    }
   ],
   "source": [
    "bidder_id_null_values = data[pd.isnull(data['bid_id'])]['bidder_id'].unique()\n",
    "len(bidder_id_null_values)"
   ]
  },
  {
   "cell_type": "markdown",
   "metadata": {},
   "source": [
    "There are 29 bidder_id that don't have any corresponding bids in the main dataset. To make a decision about whether we delete these rows or replace them, we will refer to our main goal which is identifying the behaviour differences between bots and human on auctions. Let's check if these missing data points come from a human or a robot source."
   ]
  },
  {
   "cell_type": "code",
   "execution_count": 15,
   "metadata": {},
   "outputs": [
    {
     "data": {
      "text/plain": [
       "17583      0.0\n",
       "42424      0.0\n",
       "129439     0.0\n",
       "214915     0.0\n",
       "221776     0.0\n",
       "226432     0.0\n",
       "255107     0.0\n",
       "305088     0.0\n",
       "333331     0.0\n",
       "409451     0.0\n",
       "654549     0.0\n",
       "657208     0.0\n",
       "788183     0.0\n",
       "790914     0.0\n",
       "794927     0.0\n",
       "810369     0.0\n",
       "883351     0.0\n",
       "1018748    0.0\n",
       "1019599    0.0\n",
       "1021349    0.0\n",
       "1123023    0.0\n",
       "1139921    0.0\n",
       "1217466    0.0\n",
       "1465813    0.0\n",
       "1482542    0.0\n",
       "1648201    0.0\n",
       "1974826    0.0\n",
       "2139077    0.0\n",
       "2999380    0.0\n",
       "Name: outcome, dtype: float64"
      ]
     },
     "execution_count": 15,
     "metadata": {},
     "output_type": "execute_result"
    }
   ],
   "source": [
    "data[data['bidder_id'].isin(bidder_id_null_values)]['outcome']"
   ]
  },
  {
   "cell_type": "markdown",
   "metadata": {},
   "source": [
    "The output shows us that the missing data points only comes from a human source. As we are more focusing on bots in our general analysis, we will just ignore them."
   ]
  },
  {
   "cell_type": "code",
   "execution_count": 16,
   "metadata": {},
   "outputs": [],
   "source": [
    "data = data[~data['bidder_id'].isin(bidder_id_null_values)]"
   ]
  },
  {
   "cell_type": "code",
   "execution_count": 17,
   "metadata": {},
   "outputs": [
    {
     "data": {
      "text/plain": [
       "bidder_id          False\n",
       "payment_account    False\n",
       "address            False\n",
       "outcome            False\n",
       "bid_id             False\n",
       "auction            False\n",
       "merchandise        False\n",
       "device             False\n",
       "time               False\n",
       "country             True\n",
       "ip                 False\n",
       "url                False\n",
       "dtype: bool"
      ]
     },
     "execution_count": 17,
     "metadata": {},
     "output_type": "execute_result"
    }
   ],
   "source": [
    "pd.isnull(data).any()"
   ]
  },
  {
   "cell_type": "markdown",
   "metadata": {},
   "source": [
    "There are still some missing values within the country column. Let's check if the number of NaN is meaningful and if we can drop them without affecting too much the dataset."
   ]
  },
  {
   "cell_type": "code",
   "execution_count": 18,
   "metadata": {},
   "outputs": [
    {
     "name": "stdout",
     "output_type": "stream",
     "text": [
      "The proportion of missing entries in the country column is about 0.09%\n"
     ]
    }
   ],
   "source": [
    "country_miss_ratio = pd.isnull(data['country']).sum()/len(data)*100\n",
    "print('The proportion of missing entries in the country column is about ' + str(round(country_miss_ratio,2)) + \"%\")"
   ]
  },
  {
   "cell_type": "markdown",
   "metadata": {},
   "source": [
    "Thus, we can simply drop them from the dataset. Let's check now if our dataset is clean and ready for further analysis."
   ]
  },
  {
   "cell_type": "code",
   "execution_count": 19,
   "metadata": {},
   "outputs": [
    {
     "data": {
      "text/plain": [
       "bidder_id          False\n",
       "payment_account    False\n",
       "address            False\n",
       "outcome            False\n",
       "bid_id             False\n",
       "auction            False\n",
       "merchandise        False\n",
       "device             False\n",
       "time               False\n",
       "country            False\n",
       "ip                 False\n",
       "url                False\n",
       "dtype: bool"
      ]
     },
     "execution_count": 19,
     "metadata": {},
     "output_type": "execute_result"
    }
   ],
   "source": [
    "data = data.dropna()\n",
    "pd.isnull(data).any()"
   ]
  },
  {
   "cell_type": "markdown",
   "metadata": {},
   "source": [
    "## **1.3. Identify outliers**"
   ]
  },
  {
   "cell_type": "code",
   "execution_count": 20,
   "metadata": {},
   "outputs": [
    {
     "name": "stdout",
     "output_type": "stream",
     "text": [
      "<class 'pandas.core.frame.DataFrame'>\n",
      "Int64Index: 3068523 entries, 0 to 3071252\n",
      "Data columns (total 12 columns):\n",
      " #   Column           Dtype  \n",
      "---  ------           -----  \n",
      " 0   bidder_id        object \n",
      " 1   payment_account  object \n",
      " 2   address          object \n",
      " 3   outcome          float64\n",
      " 4   bid_id           float64\n",
      " 5   auction          object \n",
      " 6   merchandise      object \n",
      " 7   device           object \n",
      " 8   time             float64\n",
      " 9   country          object \n",
      " 10  ip               object \n",
      " 11  url              object \n",
      "dtypes: float64(3), object(9)\n",
      "memory usage: 304.3+ MB\n"
     ]
    }
   ],
   "source": [
    "data.info()"
   ]
  },
  {
   "cell_type": "markdown",
   "metadata": {},
   "source": [
    "Looking closer at our dataset, there are 3 columns containing numeric values : outcome (ranged between 0 and 1), bid_id and time. As the bid_id columns has not any logical order or specific meaning, as well as the time column which has been obfuscated, it is not possible to identify specific outliers thanks as there are no specific expected ranges in which we expect data points to be ordered."
   ]
  },
  {
   "cell_type": "markdown",
   "metadata": {},
   "source": [
    "## **1.4. Uninformative / Repetitive data points**"
   ]
  },
  {
   "cell_type": "markdown",
   "metadata": {},
   "source": [
    "In this section, we will check if some column are uninformative based on the fact that it has too many rows being the same value. Thus, I will create a list of features with a high percentage of the same value. Let's display the features with over 95% rows being the same value."
   ]
  },
  {
   "cell_type": "code",
   "execution_count": 21,
   "metadata": {},
   "outputs": [],
   "source": [
    "num_rows = len(data.index)\n",
    "low_information_cols = [] #\n",
    "\n",
    "for col in data.columns:\n",
    "    cnts = data[col].value_counts(dropna=False)\n",
    "    top_pct = (cnts/num_rows).iloc[0]\n",
    "    \n",
    "    if top_pct > 0.90:\n",
    "        low_information_cols.append(col)\n",
    "        print('{0}: {1:.5f}%'.format(col, top_pct*100))\n",
    "        print(cnts)\n",
    "        print()"
   ]
  },
  {
   "cell_type": "markdown",
   "metadata": {},
   "source": [
    "There are not any columns with more that 95% of its rows containing the same value. Thus, there are no reasons for us to investigate further to eventually drop a feature."
   ]
  },
  {
   "cell_type": "markdown",
   "metadata": {},
   "source": [
    "Here we are ! The dataset is ready to be used, let's start the analysis by answering intermediary questions in part 2."
   ]
  },
  {
   "cell_type": "markdown",
   "metadata": {},
   "source": [
    "# **PART 2.INTERMEDIARY QUESTIONS**"
   ]
  },
  {
   "cell_type": "markdown",
   "metadata": {},
   "source": [
    "## **2.1. How much unique ip addresses is there per auction ?**"
   ]
  },
  {
   "cell_type": "code",
   "execution_count": 22,
   "metadata": {},
   "outputs": [],
   "source": [
    "unique_ip_per_auction = data.groupby('auction')['ip'].nunique()"
   ]
  },
  {
   "cell_type": "code",
   "execution_count": 23,
   "metadata": {},
   "outputs": [],
   "source": [
    "unique_ip_per_auction = unique_ip_per_auction.sort_values(ascending = False)"
   ]
  },
  {
   "cell_type": "code",
   "execution_count": 24,
   "metadata": {},
   "outputs": [],
   "source": [
    "final_df_1 = pd.DataFrame(unique_ip_per_auction)"
   ]
  },
  {
   "cell_type": "code",
   "execution_count": 25,
   "metadata": {},
   "outputs": [],
   "source": [
    "final_df_1 = final_df_1.reset_index()"
   ]
  },
  {
   "cell_type": "code",
   "execution_count": 26,
   "metadata": {},
   "outputs": [],
   "source": [
    "final_df_1 = final_df_1.rename(columns={\"auction\": \"unique_auctions\", \"ip\": \"n_unique_ip_address\"}).sort_values(\"n_unique_ip_address\",ascending = False)"
   ]
  },
  {
   "cell_type": "code",
   "execution_count": 27,
   "metadata": {},
   "outputs": [],
   "source": [
    "final_df_1.to_csv (r'/Users/tangigouez/Desktop/question_1.csv', index = False, header=True)"
   ]
  },
  {
   "cell_type": "code",
   "execution_count": 28,
   "metadata": {},
   "outputs": [
    {
     "data": {
      "text/html": [
       "<div>\n",
       "<style scoped>\n",
       "    .dataframe tbody tr th:only-of-type {\n",
       "        vertical-align: middle;\n",
       "    }\n",
       "\n",
       "    .dataframe tbody tr th {\n",
       "        vertical-align: top;\n",
       "    }\n",
       "\n",
       "    .dataframe thead th {\n",
       "        text-align: right;\n",
       "    }\n",
       "</style>\n",
       "<table border=\"1\" class=\"dataframe\">\n",
       "  <thead>\n",
       "    <tr style=\"text-align: right;\">\n",
       "      <th></th>\n",
       "      <th>unique_auctions</th>\n",
       "      <th>n_unique_ip_address</th>\n",
       "    </tr>\n",
       "  </thead>\n",
       "  <tbody>\n",
       "    <tr>\n",
       "      <th>0</th>\n",
       "      <td>jqx39</td>\n",
       "      <td>126460</td>\n",
       "    </tr>\n",
       "    <tr>\n",
       "      <th>1</th>\n",
       "      <td>jefix</td>\n",
       "      <td>16404</td>\n",
       "    </tr>\n",
       "    <tr>\n",
       "      <th>2</th>\n",
       "      <td>opnq4</td>\n",
       "      <td>13725</td>\n",
       "    </tr>\n",
       "    <tr>\n",
       "      <th>3</th>\n",
       "      <td>du967</td>\n",
       "      <td>11537</td>\n",
       "    </tr>\n",
       "    <tr>\n",
       "      <th>4</th>\n",
       "      <td>i506w</td>\n",
       "      <td>10633</td>\n",
       "    </tr>\n",
       "  </tbody>\n",
       "</table>\n",
       "</div>"
      ],
      "text/plain": [
       "  unique_auctions  n_unique_ip_address\n",
       "0           jqx39               126460\n",
       "1           jefix                16404\n",
       "2           opnq4                13725\n",
       "3           du967                11537\n",
       "4           i506w                10633"
      ]
     },
     "execution_count": 28,
     "metadata": {},
     "output_type": "execute_result"
    }
   ],
   "source": [
    "final_df_1.head()"
   ]
  },
  {
   "cell_type": "code",
   "execution_count": 29,
   "metadata": {},
   "outputs": [
    {
     "data": {
      "text/html": [
       "<div>\n",
       "<style scoped>\n",
       "    .dataframe tbody tr th:only-of-type {\n",
       "        vertical-align: middle;\n",
       "    }\n",
       "\n",
       "    .dataframe tbody tr th {\n",
       "        vertical-align: top;\n",
       "    }\n",
       "\n",
       "    .dataframe thead th {\n",
       "        text-align: right;\n",
       "    }\n",
       "</style>\n",
       "<table border=\"1\" class=\"dataframe\">\n",
       "  <thead>\n",
       "    <tr style=\"text-align: right;\">\n",
       "      <th></th>\n",
       "      <th>n_unique_ip_address</th>\n",
       "    </tr>\n",
       "  </thead>\n",
       "  <tbody>\n",
       "    <tr>\n",
       "      <th>count</th>\n",
       "      <td>12740.000000</td>\n",
       "    </tr>\n",
       "    <tr>\n",
       "      <th>mean</th>\n",
       "      <td>122.328414</td>\n",
       "    </tr>\n",
       "    <tr>\n",
       "      <th>std</th>\n",
       "      <td>1219.153492</td>\n",
       "    </tr>\n",
       "    <tr>\n",
       "      <th>min</th>\n",
       "      <td>1.000000</td>\n",
       "    </tr>\n",
       "    <tr>\n",
       "      <th>25%</th>\n",
       "      <td>3.000000</td>\n",
       "    </tr>\n",
       "    <tr>\n",
       "      <th>50%</th>\n",
       "      <td>14.000000</td>\n",
       "    </tr>\n",
       "    <tr>\n",
       "      <th>75%</th>\n",
       "      <td>57.000000</td>\n",
       "    </tr>\n",
       "    <tr>\n",
       "      <th>max</th>\n",
       "      <td>126460.000000</td>\n",
       "    </tr>\n",
       "  </tbody>\n",
       "</table>\n",
       "</div>"
      ],
      "text/plain": [
       "       n_unique_ip_address\n",
       "count         12740.000000\n",
       "mean            122.328414\n",
       "std            1219.153492\n",
       "min               1.000000\n",
       "25%               3.000000\n",
       "50%              14.000000\n",
       "75%              57.000000\n",
       "max          126460.000000"
      ]
     },
     "execution_count": 29,
     "metadata": {},
     "output_type": "execute_result"
    }
   ],
   "source": [
    "final_df_1.describe()"
   ]
  },
  {
   "cell_type": "markdown",
   "metadata": {},
   "source": [
    "There are 12 740 different auctions in the dataset. The one with the most unique ip addresses is \"jqx39\", far above the other auctions as the second one contains 110 856 less unique ip adresses. The mean of unique ip adresses per auction is around 122 per auction, considering this number, I will investigate further in the third part why some auctions have so much more unique ips than other and if an auction is more likely to be populated by bots when there are more ips."
   ]
  },
  {
   "cell_type": "markdown",
   "metadata": {},
   "source": [
    "## **2.2. Which is the country with the maximum number of bids per merchandise type ?**"
   ]
  },
  {
   "cell_type": "code",
   "execution_count": 30,
   "metadata": {},
   "outputs": [],
   "source": [
    "unique_country_per_merchandise = data.groupby('merchandise')['country'].value_counts()"
   ]
  },
  {
   "cell_type": "code",
   "execution_count": 31,
   "metadata": {},
   "outputs": [],
   "source": [
    "merchandise_type = data[\"merchandise\"].unique()"
   ]
  },
  {
   "cell_type": "code",
   "execution_count": 32,
   "metadata": {},
   "outputs": [
    {
     "data": {
      "text/plain": [
       "array(['home goods', 'office equipment', 'sporting goods',\n",
       "       'books and music', 'mobile', 'jewelry', 'computers', 'clothing',\n",
       "       'furniture', 'auto parts'], dtype=object)"
      ]
     },
     "execution_count": 32,
     "metadata": {},
     "output_type": "execute_result"
    }
   ],
   "source": [
    "merchandise_type"
   ]
  },
  {
   "cell_type": "code",
   "execution_count": 33,
   "metadata": {},
   "outputs": [],
   "source": [
    "merchandise = []\n",
    "country = []\n",
    "n_bids = []\n",
    "for element in merchandise_type:\n",
    "    sliced_df = bids[[\"merchandise\",\"country\"]] \n",
    "    condition = sliced_df[\"merchandise\"]== element\n",
    "    output_1 = sliced_df[condition][\"country\"].value_counts().head(1).index.tolist()\n",
    "    output_2 = sliced_df[condition][\"country\"].value_counts().head(1).tolist()\n",
    "    merchandise.append(element)\n",
    "    country.append(output_1)\n",
    "    n_bids.append(output_2)"
   ]
  },
  {
   "cell_type": "code",
   "execution_count": 34,
   "metadata": {},
   "outputs": [],
   "source": [
    "final_df_2 = pd.DataFrame({\"merchandise type\": merchandise,\n",
    "                           \"country\": country,\n",
    "                           \"n_bids\": n_bids\n",
    "                          }).sort_values(\"n_bids\",ascending = False)"
   ]
  },
  {
   "cell_type": "code",
   "execution_count": 35,
   "metadata": {},
   "outputs": [],
   "source": [
    "final_df_2.to_csv(r'/Users/tangigouez/Desktop/question_2.csv', index = False, header=True)"
   ]
  },
  {
   "cell_type": "code",
   "execution_count": 36,
   "metadata": {},
   "outputs": [
    {
     "data": {
      "text/html": [
       "<div>\n",
       "<style scoped>\n",
       "    .dataframe tbody tr th:only-of-type {\n",
       "        vertical-align: middle;\n",
       "    }\n",
       "\n",
       "    .dataframe tbody tr th {\n",
       "        vertical-align: top;\n",
       "    }\n",
       "\n",
       "    .dataframe thead th {\n",
       "        text-align: right;\n",
       "    }\n",
       "</style>\n",
       "<table border=\"1\" class=\"dataframe\">\n",
       "  <thead>\n",
       "    <tr style=\"text-align: right;\">\n",
       "      <th></th>\n",
       "      <th>merchandise type</th>\n",
       "      <th>country</th>\n",
       "      <th>n_bids</th>\n",
       "    </tr>\n",
       "  </thead>\n",
       "  <tbody>\n",
       "    <tr>\n",
       "      <th>4</th>\n",
       "      <td>mobile</td>\n",
       "      <td>[in]</td>\n",
       "      <td>[578076]</td>\n",
       "    </tr>\n",
       "    <tr>\n",
       "      <th>5</th>\n",
       "      <td>jewelry</td>\n",
       "      <td>[in]</td>\n",
       "      <td>[560773]</td>\n",
       "    </tr>\n",
       "    <tr>\n",
       "      <th>2</th>\n",
       "      <td>sporting goods</td>\n",
       "      <td>[in]</td>\n",
       "      <td>[346852]</td>\n",
       "    </tr>\n",
       "    <tr>\n",
       "      <th>0</th>\n",
       "      <td>home goods</td>\n",
       "      <td>[in]</td>\n",
       "      <td>[169649]</td>\n",
       "    </tr>\n",
       "    <tr>\n",
       "      <th>1</th>\n",
       "      <td>office equipment</td>\n",
       "      <td>[in]</td>\n",
       "      <td>[56140]</td>\n",
       "    </tr>\n",
       "    <tr>\n",
       "      <th>8</th>\n",
       "      <td>furniture</td>\n",
       "      <td>[in]</td>\n",
       "      <td>[47031]</td>\n",
       "    </tr>\n",
       "    <tr>\n",
       "      <th>6</th>\n",
       "      <td>computers</td>\n",
       "      <td>[th]</td>\n",
       "      <td>[16731]</td>\n",
       "    </tr>\n",
       "    <tr>\n",
       "      <th>3</th>\n",
       "      <td>books and music</td>\n",
       "      <td>[in]</td>\n",
       "      <td>[11820]</td>\n",
       "    </tr>\n",
       "    <tr>\n",
       "      <th>7</th>\n",
       "      <td>clothing</td>\n",
       "      <td>[in]</td>\n",
       "      <td>[7619]</td>\n",
       "    </tr>\n",
       "    <tr>\n",
       "      <th>9</th>\n",
       "      <td>auto parts</td>\n",
       "      <td>[in]</td>\n",
       "      <td>[2243]</td>\n",
       "    </tr>\n",
       "  </tbody>\n",
       "</table>\n",
       "</div>"
      ],
      "text/plain": [
       "   merchandise type country    n_bids\n",
       "4            mobile    [in]  [578076]\n",
       "5           jewelry    [in]  [560773]\n",
       "2    sporting goods    [in]  [346852]\n",
       "0        home goods    [in]  [169649]\n",
       "1  office equipment    [in]   [56140]\n",
       "8         furniture    [in]   [47031]\n",
       "6         computers    [th]   [16731]\n",
       "3   books and music    [in]   [11820]\n",
       "7          clothing    [in]    [7619]\n",
       "9        auto parts    [in]    [2243]"
      ]
     },
     "execution_count": 36,
     "metadata": {},
     "output_type": "execute_result"
    }
   ],
   "source": [
    "final_df_2"
   ]
  },
  {
   "cell_type": "markdown",
   "metadata": {},
   "source": [
    "Overall, we can observe from the dataframe that the country labelled \"in\" is the top country in terms of number of bids in 90% of the merchandise types. Why this country is so much dominant in terms of number of bids in each of the merchandise type ? Is there some particularities linked to this specific country ? I will investigate it further in part 3."
   ]
  },
  {
   "cell_type": "markdown",
   "metadata": {},
   "source": [
    "## **2.3. What is the fraction of times a bid is identified as coming from a robot for each country ?**"
   ]
  },
  {
   "cell_type": "markdown",
   "metadata": {},
   "source": [
    "For each country, compute the fraction of times a bid from that country was identified as coming from a robot."
   ]
  },
  {
   "cell_type": "code",
   "execution_count": 39,
   "metadata": {},
   "outputs": [
    {
     "data": {
      "text/html": [
       "<div>\n",
       "<style scoped>\n",
       "    .dataframe tbody tr th:only-of-type {\n",
       "        vertical-align: middle;\n",
       "    }\n",
       "\n",
       "    .dataframe tbody tr th {\n",
       "        vertical-align: top;\n",
       "    }\n",
       "\n",
       "    .dataframe thead th {\n",
       "        text-align: right;\n",
       "    }\n",
       "</style>\n",
       "<table border=\"1\" class=\"dataframe\">\n",
       "  <thead>\n",
       "    <tr style=\"text-align: right;\">\n",
       "      <th></th>\n",
       "      <th>country</th>\n",
       "      <th>robot</th>\n",
       "      <th>total</th>\n",
       "      <th>%robot</th>\n",
       "    </tr>\n",
       "  </thead>\n",
       "  <tbody>\n",
       "    <tr>\n",
       "      <th>130</th>\n",
       "      <td>nc</td>\n",
       "      <td>11</td>\n",
       "      <td>11</td>\n",
       "      <td>100.000000</td>\n",
       "    </tr>\n",
       "    <tr>\n",
       "      <th>190</th>\n",
       "      <td>vi</td>\n",
       "      <td>8</td>\n",
       "      <td>8</td>\n",
       "      <td>100.000000</td>\n",
       "    </tr>\n",
       "    <tr>\n",
       "      <th>66</th>\n",
       "      <td>gi</td>\n",
       "      <td>1</td>\n",
       "      <td>1</td>\n",
       "      <td>100.000000</td>\n",
       "    </tr>\n",
       "    <tr>\n",
       "      <th>70</th>\n",
       "      <td>gp</td>\n",
       "      <td>2</td>\n",
       "      <td>2</td>\n",
       "      <td>100.000000</td>\n",
       "    </tr>\n",
       "    <tr>\n",
       "      <th>6</th>\n",
       "      <td>an</td>\n",
       "      <td>1</td>\n",
       "      <td>1</td>\n",
       "      <td>100.000000</td>\n",
       "    </tr>\n",
       "    <tr>\n",
       "      <th>11</th>\n",
       "      <td>aw</td>\n",
       "      <td>7</td>\n",
       "      <td>7</td>\n",
       "      <td>100.000000</td>\n",
       "    </tr>\n",
       "    <tr>\n",
       "      <th>171</th>\n",
       "      <td>tc</td>\n",
       "      <td>1</td>\n",
       "      <td>1</td>\n",
       "      <td>100.000000</td>\n",
       "    </tr>\n",
       "    <tr>\n",
       "      <th>119</th>\n",
       "      <td>mo</td>\n",
       "      <td>140</td>\n",
       "      <td>143</td>\n",
       "      <td>97.902098</td>\n",
       "    </tr>\n",
       "    <tr>\n",
       "      <th>92</th>\n",
       "      <td>jp</td>\n",
       "      <td>7921</td>\n",
       "      <td>8419</td>\n",
       "      <td>94.084808</td>\n",
       "    </tr>\n",
       "    <tr>\n",
       "      <th>96</th>\n",
       "      <td>kr</td>\n",
       "      <td>6340</td>\n",
       "      <td>6974</td>\n",
       "      <td>90.909091</td>\n",
       "    </tr>\n",
       "  </tbody>\n",
       "</table>\n",
       "</div>"
      ],
      "text/plain": [
       "    country  robot  total      %robot\n",
       "130      nc     11     11  100.000000\n",
       "190      vi      8      8  100.000000\n",
       "66       gi      1      1  100.000000\n",
       "70       gp      2      2  100.000000\n",
       "6        an      1      1  100.000000\n",
       "11       aw      7      7  100.000000\n",
       "171      tc      1      1  100.000000\n",
       "119      mo    140    143   97.902098\n",
       "92       jp   7921   8419   94.084808\n",
       "96       kr   6340   6974   90.909091"
      ]
     },
     "execution_count": 39,
     "metadata": {},
     "output_type": "execute_result"
    }
   ],
   "source": [
    "country = []\n",
    "robot = []\n",
    "total = []\n",
    "for c in data.groupby('country'):\n",
    "    a = data[data['country'] == c[0]].count()[1]\n",
    "    b = data[(data['country'] == c[0]) & (data['outcome'] == 1.0)].count()[1]\n",
    "    country.append(c[0])\n",
    "    robot.append(b)\n",
    "    total.append(a)\n",
    "final_df_3 = pd.DataFrame({'country': country, 'robot': robot, 'total': total})\n",
    "final_df_3['%robot'] = final_df_3['robot'] / final_df_3['total'] *100\n",
    "final_df_3.sort_values(\"%robot\",ascending = False).dropna().head(10)"
   ]
  },
  {
   "cell_type": "code",
   "execution_count": 41,
   "metadata": {},
   "outputs": [
    {
     "data": {
      "text/html": [
       "<div>\n",
       "<style scoped>\n",
       "    .dataframe tbody tr th:only-of-type {\n",
       "        vertical-align: middle;\n",
       "    }\n",
       "\n",
       "    .dataframe tbody tr th {\n",
       "        vertical-align: top;\n",
       "    }\n",
       "\n",
       "    .dataframe thead th {\n",
       "        text-align: right;\n",
       "    }\n",
       "</style>\n",
       "<table border=\"1\" class=\"dataframe\">\n",
       "  <thead>\n",
       "    <tr style=\"text-align: right;\">\n",
       "      <th></th>\n",
       "      <th>robot</th>\n",
       "      <th>total</th>\n",
       "      <th>%robot</th>\n",
       "    </tr>\n",
       "  </thead>\n",
       "  <tbody>\n",
       "    <tr>\n",
       "      <th>count</th>\n",
       "      <td>198.000000</td>\n",
       "      <td>198.000000</td>\n",
       "      <td>198.000000</td>\n",
       "    </tr>\n",
       "    <tr>\n",
       "      <th>mean</th>\n",
       "      <td>2081.580808</td>\n",
       "      <td>15497.590909</td>\n",
       "      <td>22.442484</td>\n",
       "    </tr>\n",
       "    <tr>\n",
       "      <th>std</th>\n",
       "      <td>8238.020367</td>\n",
       "      <td>57728.973734</td>\n",
       "      <td>26.370298</td>\n",
       "    </tr>\n",
       "    <tr>\n",
       "      <th>min</th>\n",
       "      <td>0.000000</td>\n",
       "      <td>1.000000</td>\n",
       "      <td>0.000000</td>\n",
       "    </tr>\n",
       "    <tr>\n",
       "      <th>25%</th>\n",
       "      <td>13.000000</td>\n",
       "      <td>167.250000</td>\n",
       "      <td>3.544110</td>\n",
       "    </tr>\n",
       "    <tr>\n",
       "      <th>50%</th>\n",
       "      <td>131.000000</td>\n",
       "      <td>1717.500000</td>\n",
       "      <td>12.414902</td>\n",
       "    </tr>\n",
       "    <tr>\n",
       "      <th>75%</th>\n",
       "      <td>728.750000</td>\n",
       "      <td>7125.500000</td>\n",
       "      <td>28.151337</td>\n",
       "    </tr>\n",
       "    <tr>\n",
       "      <th>max</th>\n",
       "      <td>86386.000000</td>\n",
       "      <td>645631.000000</td>\n",
       "      <td>100.000000</td>\n",
       "    </tr>\n",
       "  </tbody>\n",
       "</table>\n",
       "</div>"
      ],
      "text/plain": [
       "              robot          total      %robot\n",
       "count    198.000000     198.000000  198.000000\n",
       "mean    2081.580808   15497.590909   22.442484\n",
       "std     8238.020367   57728.973734   26.370298\n",
       "min        0.000000       1.000000    0.000000\n",
       "25%       13.000000     167.250000    3.544110\n",
       "50%      131.000000    1717.500000   12.414902\n",
       "75%      728.750000    7125.500000   28.151337\n",
       "max    86386.000000  645631.000000  100.000000"
      ]
     },
     "execution_count": 41,
     "metadata": {},
     "output_type": "execute_result"
    }
   ],
   "source": [
    "final_df_3.describe()"
   ]
  },
  {
   "cell_type": "code",
   "execution_count": 40,
   "metadata": {},
   "outputs": [],
   "source": [
    "final_df_3.to_csv(r'/Users/tangigouez/Desktop/question_3.csv', index = False, header=True)"
   ]
  },
  {
   "cell_type": "markdown",
   "metadata": {},
   "source": [
    "From this dataframe, we can identify that some countries such as \"gp\" and \"tc\" only have robots sending bids on the auctions. However, to make this data more meaningful, we should put them in perspective with the total number of bids sent by these countries. \n",
    "There are also some countries which haven't any robots sending bids, as the minimum bot ratio is 0%. \n",
    "Overall, the average bot ratio for each country is around 11%. "
   ]
  },
  {
   "cell_type": "markdown",
   "metadata": {},
   "source": [
    "# **PART 3. DATA VISUALISATION**"
   ]
  },
  {
   "cell_type": "markdown",
   "metadata": {},
   "source": [
    "This section is aimed to visualise the main insights emerging from the dataset. The analysis is organized in three parts :\n",
    "- **1 -** In the first one, I will plot the proportion of robots among bidders and within each merchandise. This should give you a big picture of the dataset\n",
    "- **2 -** In the second part, I will study the correlation between the number of bids and the robot presence per auction, device and country. \n",
    "- **3 -** Finally in the third part, I will focus on the patterns that may help differentiate a robot bidder from a human"
   ]
  },
  {
   "cell_type": "markdown",
   "metadata": {},
   "source": [
    "## **3.1. Overview of the dataset**"
   ]
  },
  {
   "cell_type": "code",
   "execution_count": 467,
   "metadata": {},
   "outputs": [
    {
     "data": {
      "text/plain": [
       "[Text(0, 0.5, 'Number of bidders'), Text(0.5, 0, '0.0 = Human vs 1.0 = Robot')]"
      ]
     },
     "execution_count": 467,
     "metadata": {},
     "output_type": "execute_result"
    },
    {
     "data": {
      "image/png": "[encoded data removed]",
      "text/plain": [
       "<Figure size 432x288 with 1 Axes>"
      ]
     },
     "metadata": {
      "needs_background": "light"
     },
     "output_type": "display_data"
    }
   ],
   "source": [
    "ax = sns.countplot(x='outcome',data = data,palette=\"hls\")\n",
    "sns.set_color_codes(\"pastel\")\n",
    "plt.title('Robot Bidders vs Human Bidders')\n",
    "ax.set(xlabel='0.0 = Human vs 1.0 = Robot', ylabel='Number of bidders')"
   ]
  },
  {
   "cell_type": "code",
   "execution_count": 390,
   "metadata": {},
   "outputs": [
    {
     "name": "stdout",
     "output_type": "stream",
     "text": [
      "There is 13.4 % of robot bidders in the dataset\n",
      "There is 86.6 % of human bidders in the dataset\n"
     ]
    }
   ],
   "source": [
    "p_robot = round(((data[data['outcome']==1].count())/(data['outcome'].count())),3)*100\n",
    "p_human = 100 - p_robot\n",
    "print('There is '+ str(p_robot['outcome'])+' % of robot bidders in the dataset')\n",
    "print('There is '+ str(p_human['outcome'])+' % of human bidders in the dataset')"
   ]
  },
  {
   "cell_type": "code",
   "execution_count": 391,
   "metadata": {},
   "outputs": [
    {
     "data": {
      "text/plain": [
       "<matplotlib.axes._subplots.AxesSubplot at 0x14c6ca710>"
      ]
     },
     "execution_count": 391,
     "metadata": {},
     "output_type": "execute_result"
    },
    {
     "data": {
      "image/png": "[encoded data removed]",
      "text/plain": [
       "<Figure size 1080x360 with 1 Axes>"
      ]
     },
     "metadata": {
      "needs_background": "light"
     },
     "output_type": "display_data"
    }
   ],
   "source": [
    "robot = data[data['outcome'] == 1.0]\n",
    "human = data[data['outcome'] == 0.0]\n",
    "plt.figure(figsize=(15,5))\n",
    "plt.title('Number of robot bids per type of merchandise')\n",
    "sns.countplot(x=\"merchandise\",data = robot)"
   ]
  },
  {
   "cell_type": "markdown",
   "metadata": {},
   "source": [
    "The first chart compares the number of bids coming from robots against humans. Overall, we can see that there are much more human bidders active on the platform as they concern around 87% of all bids. \n",
    "The second chart plots the number of bids coming from robots in each merchandise. As you can see, the number of bids coming from robots is not equally distributed on each merchandise, they are clearly more numerous on sporting goods and mobile ones. Some merchandises such as books and music and office equipment nearly don't contain any robot bidders."
   ]
  },
  {
   "cell_type": "markdown",
   "metadata": {},
   "source": [
    "## **3.2. Study of the correlation between the number of bids and the robot presence**"
   ]
  },
  {
   "cell_type": "code",
   "execution_count": 300,
   "metadata": {},
   "outputs": [],
   "source": [
    "# proportion of robots per device\n",
    "bots_vs_humans_device = (data[data['outcome'] == 1].groupby(\n",
    "    'device').size()/data.groupby('device').size())*100\n",
    "bots_vs_humans_device = bots_vs_humans_device.fillna(0)\n",
    "bots_vs_humans_device = bots_vs_humans_device.to_frame()\n",
    "bots_vs_humans_device.columns = ['%bots']\n",
    "bots_vs_humans_device['n_bids'] = data.groupby('device').size()\n",
    "bots_vs_humans_device = bots_vs_humans_device.reset_index()\n",
    "\n",
    "#proportion of robots per auction\n",
    "bots_vs_humans_auction = (data[data['outcome'] == 1].groupby(\n",
    "    'auction').size()/data.groupby('auction').size())*100\n",
    "bots_vs_humans_auction = bots_vs_humans_auction.fillna(0)\n",
    "bots_vs_humans_auction = bots_vs_humans_auction.to_frame()\n",
    "bots_vs_humans_auction.columns = ['%bots']\n",
    "bots_vs_humans_auction['n_bids'] = data.groupby('auction').size()\n",
    "bots_vs_humans_auction = bots_vs_humans_auction.reset_index()\n",
    "\n",
    "#proportion of robots per country\n",
    "bots_vs_humans_country = (data[data['outcome'] == 1].groupby(\n",
    "    'country').size()/data.groupby('country').size())*100\n",
    "bots_vs_humans_country = bots_vs_humans_country.fillna(0)\n",
    "bots_vs_humans_country = bots_vs_humans_country.to_frame()\n",
    "bots_vs_humans_country.columns = ['%bots']\n",
    "bots_vs_humans_country['n_bids'] = data.groupby('country').size()\n",
    "bots_vs_humans_country = bots_vs_humans_country.reset_index()"
   ]
  },
  {
   "cell_type": "code",
   "execution_count": 472,
   "metadata": {},
   "outputs": [
    {
     "data": {
      "text/plain": [
       "Text(0, 0.5, 'Number of countries')"
      ]
     },
     "execution_count": 472,
     "metadata": {},
     "output_type": "execute_result"
    },
    {
     "data": {
      "image/png": "[encoded data removed]",
      "text/plain": [
       "<Figure size 864x720 with 6 Axes>"
      ]
     },
     "metadata": {
      "needs_background": "light"
     },
     "output_type": "display_data"
    }
   ],
   "source": [
    "fig = plt.figure(figsize = (12,10))\n",
    "ax1 = fig.add_subplot(3,2,1)\n",
    "ax2 = fig.add_subplot(3,2,2)\n",
    "ax3 = fig.add_subplot(3,2,3)\n",
    "ax4 = fig.add_subplot(3,2,4)\n",
    "ax5 = fig.add_subplot(3,2,5)\n",
    "ax6 = fig.add_subplot(3,2,6)\n",
    "\n",
    "ax1.scatter(bots_vs_humans_auction['n_bids'],bots_vs_humans_auction['%bots'], c = 'darkblue')\n",
    "ax1.set_xlabel(\"Number of bids per auction\")\n",
    "ax1.set_ylabel(\"% robots\")\n",
    "\n",
    "ax2.hist(bots_vs_humans_auction['%bots'], bins = 10, color = 'darkblue')\n",
    "ax2.set_xlabel(\"% robots\")\n",
    "ax2.set_ylabel(\"Number of auctions\")\n",
    "\n",
    "ax3.scatter(bots_vs_humans_device['n_bids'],bots_vs_humans_device['%bots'], c = 'slateblue')\n",
    "ax3.set_xlabel(\"Number of bids per device\")\n",
    "ax3.set_ylabel(\"% robots\")\n",
    "\n",
    "ax4.hist(bots_vs_humans_device['%bots'], bins = 10, color = 'slateblue')\n",
    "ax4.set_xlabel(\"% robots\")\n",
    "ax4.set_ylabel(\"Number of devices\")\n",
    "\n",
    "ax5.scatter(bots_vs_humans_country['n_bids'],bots_vs_humans_country['%bots'], c = 'rebeccapurple')\n",
    "ax5.set_xlabel(\"Number of bids per country\")\n",
    "ax5.set_ylabel(\"% bots\")\n",
    "\n",
    "ax6.hist(bots_vs_humans_country['%bots'], bins = 10, color = 'rebeccapurple')\n",
    "ax6.set_xlabel(\"% robots\")\n",
    "ax6.set_ylabel(\"Number of countries\")"
   ]
  },
  {
   "cell_type": "markdown",
   "metadata": {},
   "source": [
    "The scatter plots on the left show the correlation between the number of bids and the poportion of robots respectively per auctions, devices and countries. There is not any positive or negative correlation between the number of bids and the proportion of robots. Thus, we can't say that the higher number of bids, the higher the proportion of robots and conversely.  \n",
    "\n",
    "The histograms on the left plot the distribution of the proportion of robots respectively per auctions, devices and countries. We can oberve that most auctions, devices and countries present a low proportion of robots, between 0% and 10%. Each of the distribution confirm our observation on the first plot in the overview of the dataset, there are much less robots than human."
   ]
  },
  {
   "cell_type": "markdown",
   "metadata": {},
   "source": [
    "## **3.3. Analysis of the robot bidders patterns**"
   ]
  },
  {
   "cell_type": "code",
   "execution_count": 423,
   "metadata": {},
   "outputs": [],
   "source": [
    "n_country_robot = robot[['bidder_id','country']].drop_duplicates().groupby('bidder_id').count()['country']\n",
    "n_country_human = human[['bidder_id','country']].drop_duplicates().groupby('bidder_id').count()['country']\n",
    "avg_country_robot = round(n_country_robot.mean())\n",
    "avg_country_human = round(n_country_human.mean())\n",
    "n_ip_robot = robot[['bidder_id','ip']].drop_duplicates().groupby('bidder_id').count()['ip']\n",
    "n_ip_human = human[['bidder_id','ip']].drop_duplicates().groupby('bidder_id').count()['ip']\n",
    "avg_ip_robot = round(n_ip_robot.mean())\n",
    "avg_ip_human = round(n_ip_human.mean())"
   ]
  },
  {
   "cell_type": "code",
   "execution_count": 460,
   "metadata": {},
   "outputs": [
    {
     "data": {
      "text/html": [
       "<div>\n",
       "<style scoped>\n",
       "    .dataframe tbody tr th:only-of-type {\n",
       "        vertical-align: middle;\n",
       "    }\n",
       "\n",
       "    .dataframe tbody tr th {\n",
       "        vertical-align: top;\n",
       "    }\n",
       "\n",
       "    .dataframe thead th {\n",
       "        text-align: right;\n",
       "    }\n",
       "</style>\n",
       "<table border=\"1\" class=\"dataframe\">\n",
       "  <thead>\n",
       "    <tr style=\"text-align: right;\">\n",
       "      <th></th>\n",
       "      <th>Avg_countries_bidder</th>\n",
       "      <th>Avg_ip_bidder</th>\n",
       "    </tr>\n",
       "    <tr>\n",
       "      <th>category</th>\n",
       "      <th></th>\n",
       "      <th></th>\n",
       "    </tr>\n",
       "  </thead>\n",
       "  <tbody>\n",
       "    <tr>\n",
       "      <th>robot</th>\n",
       "      <td>26</td>\n",
       "      <td>2386</td>\n",
       "    </tr>\n",
       "    <tr>\n",
       "      <th>human</th>\n",
       "      <td>13</td>\n",
       "      <td>580</td>\n",
       "    </tr>\n",
       "  </tbody>\n",
       "</table>\n",
       "</div>"
      ],
      "text/plain": [
       "          Avg_countries_bidder  Avg_ip_bidder\n",
       "category                                     \n",
       "robot                       26           2386\n",
       "human                       13            580"
      ]
     },
     "execution_count": 460,
     "metadata": {},
     "output_type": "execute_result"
    }
   ],
   "source": [
    "summary = pd.DataFrame({'category': ['robot','human'],\n",
    "              'Avg_countries_bidder' : [avg_country_robot,avg_country_human],\n",
    "              'Avg_ip_bidder': [avg_ip_robot, avg_ip_human]\n",
    "             })\n",
    "summary.set_index('category')"
   ]
  },
  {
   "cell_type": "code",
   "execution_count": 461,
   "metadata": {},
   "outputs": [
    {
     "data": {
      "text/plain": [
       "Text(0.5, 1.0, 'Average number of countries used by bidder')"
      ]
     },
     "execution_count": 461,
     "metadata": {},
     "output_type": "execute_result"
    },
    {
     "data": {
      "image/png": "[encoded data removed]",
      "text/plain": [
       "<Figure size 432x288 with 1 Axes>"
      ]
     },
     "metadata": {},
     "output_type": "display_data"
    }
   ],
   "source": [
    "summary['Avg_countries_bidder'].plot(kind='pie')\n",
    "pie =plt.legend()\n",
    "pie.get_texts()[0].set_text('Robot')\n",
    "pie.get_texts()[1].set_text('Human')\n",
    "plt.title('Average number of countries used by bidder')"
   ]
  },
  {
   "cell_type": "code",
   "execution_count": 462,
   "metadata": {},
   "outputs": [
    {
     "data": {
      "text/plain": [
       "Text(0.5, 1.0, 'Average number of ip addresses used by bidder')"
      ]
     },
     "execution_count": 462,
     "metadata": {},
     "output_type": "execute_result"
    },
    {
     "data": {
      "image/png": "[encoded data removed]",
      "text/plain": [
       "<Figure size 432x288 with 1 Axes>"
      ]
     },
     "metadata": {},
     "output_type": "display_data"
    }
   ],
   "source": [
    "summary['Avg_ip_bidder'].plot(kind='pie')\n",
    "pie =plt.legend()\n",
    "pie.get_texts()[0].set_text('Robot')\n",
    "pie.get_texts()[1].set_text('Human')\n",
    "plt.title('Average number of ip addresses used by bidder')"
   ]
  },
  {
   "cell_type": "markdown",
   "metadata": {},
   "source": [
    "The first pie compares the average number of countries used respectively by robot and human bidders. The second one compares the average number of ip adresses used respectively by robot and human bidders.\n",
    "\n",
    "We can clearly observe interesting patterns emerging from robots bidders. Indeed, a robot bidder is much more likely than a human to use different ip addresses (26 on average against 13 for humans) and to be present in more different countries (2386 on average against 580 for humans)."
   ]
  },
  {
   "cell_type": "markdown",
   "metadata": {},
   "source": [
    "## **3.4. Conclusions**"
   ]
  },
  {
   "cell_type": "markdown",
   "metadata": {},
   "source": [
    "Overall, I recommand Facebook to overlook more closely the mobile and sporting goods merchandises, as they are more likely to contain robot bidders. Furthermore, as we identified specific patterns differentiating human and bot bidders, I also recommend Facebook to track closely the number of countries and ip adresses used by a unique bidder. If both of these indicators are above the human average, the platform should sanction the bidder and block his access to the platform. "
   ]
  }
 ],
 "metadata": {
  "kernelspec": {
   "display_name": "Python 3",
   "language": "python",
   "name": "python3"
  },
  "language_info": {
   "codemirror_mode": {
    "name": "ipython",
    "version": 3
   },
   "file_extension": ".py",
   "mimetype": "text/x-python",
   "name": "python",
   "nbconvert_exporter": "python",
   "pygments_lexer": "ipython3",
   "version": "3.7.3"
  }
 },
 "nbformat": 4,
 "nbformat_minor": 2
}
