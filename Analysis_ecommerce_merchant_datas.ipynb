{
 "cells": [
  {
   "cell_type": "markdown",
   "metadata": {},
   "source": [
    "# **ANALYSIS OF E-COMMERCE MERCHANT DATAS**"
   ]
  },
  {
   "cell_type": "markdown",
   "metadata": {},
   "source": [
    "# **PARTIE 1 - PRÉPARATION DU DATASET**"
   ]
  },
  {
   "cell_type": "markdown",
   "metadata": {},
   "source": [
    "Avant de procéder à l'analyse du dataset, je vais réaliser l'étape de \"nettoyage\", destinée à préparer le terrain pour l'analyse. **L'objectif est de garantir la consistance des données au sein du dataset** pour éviter de se baser sur des données imprécises ou non significatives dans la phase d'analyse. Cette partie va donc consister en l'identification des données incomplètes, incorrectes, inexactes ou non pertinentes, puis à leur éventuel remplacement, modification ou suppression."
   ]
  },
  {
   "cell_type": "markdown",
   "metadata": {},
   "source": [
    "## **1.1. Importation des données**"
   ]
  },
  {
   "cell_type": "markdown",
   "metadata": {},
   "source": [
    "Dans cette sous-partie, je vais dans un premier temps **importer les librairies** qui vont être utiles pour analyser le dataset. Par la suite, je vais **importer le fichier Excel** dans l'objectif d'obtenir une première vue globale sur sa composition et la signification des colonnes."
   ]
  },
  {
   "cell_type": "code",
   "execution_count": 1,
   "metadata": {},
   "outputs": [],
   "source": [
    "import pandas as pd\n",
    "import numpy as np\n",
    "import matplotlib.pyplot as plt\n",
    "import seaborn as sns\n",
    "%matplotlib inline\n",
    "import warnings\n",
    "warnings.filterwarnings(\"ignore\")\n",
    "sns.set_palette(\"Set2\")"
   ]
  },
  {
   "cell_type": "code",
   "execution_count": 2,
   "metadata": {},
   "outputs": [],
   "source": [
    "data = pd.read_excel(\"/Users/tangigouez/Desktop/data.xlsx\")"
   ]
  },
  {
   "cell_type": "code",
   "execution_count": 3,
   "metadata": {},
   "outputs": [
    {
     "data": {
      "text/html": [
       "<div>\n",
       "<style scoped>\n",
       "    .dataframe tbody tr th:only-of-type {\n",
       "        vertical-align: middle;\n",
       "    }\n",
       "\n",
       "    .dataframe tbody tr th {\n",
       "        vertical-align: top;\n",
       "    }\n",
       "\n",
       "    .dataframe thead th {\n",
       "        text-align: right;\n",
       "    }\n",
       "</style>\n",
       "<table border=\"1\" class=\"dataframe\">\n",
       "  <thead>\n",
       "    <tr style=\"text-align: right;\">\n",
       "      <th></th>\n",
       "      <th>brand_name</th>\n",
       "      <th>category_0</th>\n",
       "      <th>category_1</th>\n",
       "      <th>category_2</th>\n",
       "      <th>customer_gender</th>\n",
       "      <th>id_flat_table</th>\n",
       "      <th>id_order</th>\n",
       "      <th>is_customer_amazon_2016</th>\n",
       "      <th>is_customer_amazon_2018</th>\n",
       "      <th>is_customer_cdiscount_2016</th>\n",
       "      <th>...</th>\n",
       "      <th>order_total_fees</th>\n",
       "      <th>order_total_paid</th>\n",
       "      <th>order_total_paid_price_range</th>\n",
       "      <th>order_total_promo</th>\n",
       "      <th>payment_method_name</th>\n",
       "      <th>product_description</th>\n",
       "      <th>product_name</th>\n",
       "      <th>rank_merchant_customer</th>\n",
       "      <th>seller_name</th>\n",
       "      <th>total_order_item_quantity_per_order</th>\n",
       "    </tr>\n",
       "  </thead>\n",
       "  <tbody>\n",
       "    <tr>\n",
       "      <th>0</th>\n",
       "      <td>NaN</td>\n",
       "      <td>epicerie</td>\n",
       "      <td>bieres, vins et spiritueux</td>\n",
       "      <td>bières</td>\n",
       "      <td>1.0</td>\n",
       "      <td>2229173</td>\n",
       "      <td>1116549</td>\n",
       "      <td>NaN</td>\n",
       "      <td>NaN</td>\n",
       "      <td>NaN</td>\n",
       "      <td>...</td>\n",
       "      <td>0.0</td>\n",
       "      <td>35.4</td>\n",
       "      <td>30 - 50</td>\n",
       "      <td>0.0</td>\n",
       "      <td>NaN</td>\n",
       "      <td>NaN</td>\n",
       "      <td>brasserie flying dog racing bitch biere ambree...</td>\n",
       "      <td>4</td>\n",
       "      <td>cdiscount</td>\n",
       "      <td>12</td>\n",
       "    </tr>\n",
       "    <tr>\n",
       "      <th>1</th>\n",
       "      <td>chateau maucaillou</td>\n",
       "      <td>epicerie</td>\n",
       "      <td>bieres, vins et spiritueux</td>\n",
       "      <td>vin</td>\n",
       "      <td>2.0</td>\n",
       "      <td>1488372</td>\n",
       "      <td>740767</td>\n",
       "      <td>NaN</td>\n",
       "      <td>NaN</td>\n",
       "      <td>NaN</td>\n",
       "      <td>...</td>\n",
       "      <td>6.0</td>\n",
       "      <td>109.5</td>\n",
       "      <td>100 - 200</td>\n",
       "      <td>0.0</td>\n",
       "      <td>carte</td>\n",
       "      <td>NaN</td>\n",
       "      <td>magnum, chateau maucaillou, 2015 - moulis aoc,...</td>\n",
       "      <td>8</td>\n",
       "      <td>chateau maucaillou</td>\n",
       "      <td>2</td>\n",
       "    </tr>\n",
       "    <tr>\n",
       "      <th>2</th>\n",
       "      <td>chateau maucaillou</td>\n",
       "      <td>epicerie</td>\n",
       "      <td>bieres, vins et spiritueux</td>\n",
       "      <td>vin</td>\n",
       "      <td>2.0</td>\n",
       "      <td>1488375</td>\n",
       "      <td>740767</td>\n",
       "      <td>NaN</td>\n",
       "      <td>NaN</td>\n",
       "      <td>NaN</td>\n",
       "      <td>...</td>\n",
       "      <td>6.0</td>\n",
       "      <td>109.5</td>\n",
       "      <td>100 - 200</td>\n",
       "      <td>0.0</td>\n",
       "      <td>carte</td>\n",
       "      <td>NaN</td>\n",
       "      <td>maucaillou haut-medoc, 2015, rouge - 6 x 75 cl...</td>\n",
       "      <td>8</td>\n",
       "      <td>chateau maucaillou</td>\n",
       "      <td>2</td>\n",
       "    </tr>\n",
       "    <tr>\n",
       "      <th>3</th>\n",
       "      <td>lunii</td>\n",
       "      <td>epicerie</td>\n",
       "      <td>bieres, vins et spiritueux</td>\n",
       "      <td>NaN</td>\n",
       "      <td>1.0</td>\n",
       "      <td>2031228</td>\n",
       "      <td>1023897</td>\n",
       "      <td>NaN</td>\n",
       "      <td>NaN</td>\n",
       "      <td>NaN</td>\n",
       "      <td>...</td>\n",
       "      <td>0.0</td>\n",
       "      <td>59.9</td>\n",
       "      <td>50 - 100</td>\n",
       "      <td>0.0</td>\n",
       "      <td>carte</td>\n",
       "      <td>NaN</td>\n",
       "      <td>la fabrique a histoires - la fabrique a histoi...</td>\n",
       "      <td>3</td>\n",
       "      <td>lunii</td>\n",
       "      <td>1</td>\n",
       "    </tr>\n",
       "    <tr>\n",
       "      <th>4</th>\n",
       "      <td>bjorg</td>\n",
       "      <td>epicerie</td>\n",
       "      <td>bieres, vins et spiritueux</td>\n",
       "      <td>NaN</td>\n",
       "      <td>2.0</td>\n",
       "      <td>2022298</td>\n",
       "      <td>1018952</td>\n",
       "      <td>1.0</td>\n",
       "      <td>NaN</td>\n",
       "      <td>NaN</td>\n",
       "      <td>...</td>\n",
       "      <td>17.0</td>\n",
       "      <td>154.3</td>\n",
       "      <td>100 - 200</td>\n",
       "      <td>0.0</td>\n",
       "      <td>carte</td>\n",
       "      <td>NaN</td>\n",
       "      <td>sel et herbes bio |250g - 2108</td>\n",
       "      <td>5</td>\n",
       "      <td>bjorg</td>\n",
       "      <td>13</td>\n",
       "    </tr>\n",
       "  </tbody>\n",
       "</table>\n",
       "<p>5 rows × 37 columns</p>\n",
       "</div>"
      ],
      "text/plain": [
       "           brand_name category_0                  category_1 category_2  \\\n",
       "0                 NaN   epicerie  bieres, vins et spiritueux     bières   \n",
       "1  chateau maucaillou   epicerie  bieres, vins et spiritueux        vin   \n",
       "2  chateau maucaillou   epicerie  bieres, vins et spiritueux        vin   \n",
       "3               lunii   epicerie  bieres, vins et spiritueux        NaN   \n",
       "4               bjorg   epicerie  bieres, vins et spiritueux        NaN   \n",
       "\n",
       "   customer_gender  id_flat_table  id_order  is_customer_amazon_2016  \\\n",
       "0              1.0        2229173   1116549                      NaN   \n",
       "1              2.0        1488372    740767                      NaN   \n",
       "2              2.0        1488375    740767                      NaN   \n",
       "3              1.0        2031228   1023897                      NaN   \n",
       "4              2.0        2022298   1018952                      1.0   \n",
       "\n",
       "   is_customer_amazon_2018  is_customer_cdiscount_2016  ...  order_total_fees  \\\n",
       "0                      NaN                         NaN  ...               0.0   \n",
       "1                      NaN                         NaN  ...               6.0   \n",
       "2                      NaN                         NaN  ...               6.0   \n",
       "3                      NaN                         NaN  ...               0.0   \n",
       "4                      NaN                         NaN  ...              17.0   \n",
       "\n",
       "   order_total_paid  order_total_paid_price_range order_total_promo  \\\n",
       "0              35.4                       30 - 50               0.0   \n",
       "1             109.5                     100 - 200               0.0   \n",
       "2             109.5                     100 - 200               0.0   \n",
       "3              59.9                      50 - 100               0.0   \n",
       "4             154.3                     100 - 200               0.0   \n",
       "\n",
       "  payment_method_name product_description  \\\n",
       "0                 NaN                 NaN   \n",
       "1               carte                 NaN   \n",
       "2               carte                 NaN   \n",
       "3               carte                 NaN   \n",
       "4               carte                 NaN   \n",
       "\n",
       "                                        product_name  rank_merchant_customer  \\\n",
       "0  brasserie flying dog racing bitch biere ambree...                       4   \n",
       "1  magnum, chateau maucaillou, 2015 - moulis aoc,...                       8   \n",
       "2  maucaillou haut-medoc, 2015, rouge - 6 x 75 cl...                       8   \n",
       "3  la fabrique a histoires - la fabrique a histoi...                       3   \n",
       "4                     sel et herbes bio |250g - 2108                       5   \n",
       "\n",
       "          seller_name  total_order_item_quantity_per_order  \n",
       "0           cdiscount                                   12  \n",
       "1  chateau maucaillou                                    2  \n",
       "2  chateau maucaillou                                    2  \n",
       "3               lunii                                    1  \n",
       "4               bjorg                                   13  \n",
       "\n",
       "[5 rows x 37 columns]"
      ]
     },
     "execution_count": 3,
     "metadata": {},
     "output_type": "execute_result"
    }
   ],
   "source": [
    "data.head()"
   ]
  },
  {
   "cell_type": "code",
   "execution_count": 4,
   "metadata": {},
   "outputs": [
    {
     "data": {
      "text/html": [
       "<div>\n",
       "<style scoped>\n",
       "    .dataframe tbody tr th:only-of-type {\n",
       "        vertical-align: middle;\n",
       "    }\n",
       "\n",
       "    .dataframe tbody tr th {\n",
       "        vertical-align: top;\n",
       "    }\n",
       "\n",
       "    .dataframe thead th {\n",
       "        text-align: right;\n",
       "    }\n",
       "</style>\n",
       "<table border=\"1\" class=\"dataframe\">\n",
       "  <thead>\n",
       "    <tr style=\"text-align: right;\">\n",
       "      <th></th>\n",
       "      <th>brand_name</th>\n",
       "      <th>category_0</th>\n",
       "      <th>category_1</th>\n",
       "      <th>category_2</th>\n",
       "      <th>customer_gender</th>\n",
       "      <th>id_flat_table</th>\n",
       "      <th>id_order</th>\n",
       "      <th>is_customer_amazon_2016</th>\n",
       "      <th>is_customer_amazon_2018</th>\n",
       "      <th>is_customer_cdiscount_2016</th>\n",
       "      <th>...</th>\n",
       "      <th>order_total_fees</th>\n",
       "      <th>order_total_paid</th>\n",
       "      <th>order_total_paid_price_range</th>\n",
       "      <th>order_total_promo</th>\n",
       "      <th>payment_method_name</th>\n",
       "      <th>product_description</th>\n",
       "      <th>product_name</th>\n",
       "      <th>rank_merchant_customer</th>\n",
       "      <th>seller_name</th>\n",
       "      <th>total_order_item_quantity_per_order</th>\n",
       "    </tr>\n",
       "  </thead>\n",
       "  <tbody>\n",
       "    <tr>\n",
       "      <th>9734</th>\n",
       "      <td>chupa chups</td>\n",
       "      <td>epicerie</td>\n",
       "      <td>bieres, vins et spiritueux</td>\n",
       "      <td>NaN</td>\n",
       "      <td>2.0</td>\n",
       "      <td>72898430</td>\n",
       "      <td>39920687</td>\n",
       "      <td>NaN</td>\n",
       "      <td>1.0</td>\n",
       "      <td>NaN</td>\n",
       "      <td>...</td>\n",
       "      <td>6.5</td>\n",
       "      <td>61.5</td>\n",
       "      <td>50 - 100</td>\n",
       "      <td>0.0</td>\n",
       "      <td>carte</td>\n",
       "      <td>NaN</td>\n",
       "      <td>persica peche - 210 pieces - 102881</td>\n",
       "      <td>10</td>\n",
       "      <td>chupa chups</td>\n",
       "      <td>7</td>\n",
       "    </tr>\n",
       "    <tr>\n",
       "      <th>9735</th>\n",
       "      <td>chupa chups</td>\n",
       "      <td>epicerie</td>\n",
       "      <td>bieres, vins et spiritueux</td>\n",
       "      <td>NaN</td>\n",
       "      <td>2.0</td>\n",
       "      <td>72898470</td>\n",
       "      <td>39920687</td>\n",
       "      <td>NaN</td>\n",
       "      <td>1.0</td>\n",
       "      <td>NaN</td>\n",
       "      <td>...</td>\n",
       "      <td>6.5</td>\n",
       "      <td>61.5</td>\n",
       "      <td>50 - 100</td>\n",
       "      <td>0.0</td>\n",
       "      <td>carte</td>\n",
       "      <td>NaN</td>\n",
       "      <td>crocodiles - 210 pieces - 102873</td>\n",
       "      <td>10</td>\n",
       "      <td>chupa chups</td>\n",
       "      <td>7</td>\n",
       "    </tr>\n",
       "    <tr>\n",
       "      <th>9736</th>\n",
       "      <td>chupa chups</td>\n",
       "      <td>epicerie</td>\n",
       "      <td>bieres, vins et spiritueux</td>\n",
       "      <td>NaN</td>\n",
       "      <td>2.0</td>\n",
       "      <td>72898512</td>\n",
       "      <td>39920687</td>\n",
       "      <td>NaN</td>\n",
       "      <td>1.0</td>\n",
       "      <td>NaN</td>\n",
       "      <td>...</td>\n",
       "      <td>6.5</td>\n",
       "      <td>61.5</td>\n",
       "      <td>50 - 100</td>\n",
       "      <td>0.0</td>\n",
       "      <td>carte</td>\n",
       "      <td>NaN</td>\n",
       "      <td>happy cherry - 105 pieces - 102904</td>\n",
       "      <td>10</td>\n",
       "      <td>chupa chups</td>\n",
       "      <td>7</td>\n",
       "    </tr>\n",
       "    <tr>\n",
       "      <th>9737</th>\n",
       "      <td>mixologie</td>\n",
       "      <td>epicerie</td>\n",
       "      <td>bieres, vins et spiritueux</td>\n",
       "      <td>gin</td>\n",
       "      <td>1.0</td>\n",
       "      <td>72105295</td>\n",
       "      <td>39464336</td>\n",
       "      <td>1.0</td>\n",
       "      <td>1.0</td>\n",
       "      <td>NaN</td>\n",
       "      <td>...</td>\n",
       "      <td>4.0</td>\n",
       "      <td>41.0</td>\n",
       "      <td>30 - 50</td>\n",
       "      <td>0.0</td>\n",
       "      <td>carte</td>\n",
       "      <td>NaN</td>\n",
       "      <td>coffret gin gold 70 cl + 4 bouteilles de ledge...</td>\n",
       "      <td>3</td>\n",
       "      <td>mixologie</td>\n",
       "      <td>1</td>\n",
       "    </tr>\n",
       "    <tr>\n",
       "      <th>9738</th>\n",
       "      <td>NaN</td>\n",
       "      <td>epicerie</td>\n",
       "      <td>bieres, vins et spiritueux</td>\n",
       "      <td>NaN</td>\n",
       "      <td>2.0</td>\n",
       "      <td>72482189</td>\n",
       "      <td>39701170</td>\n",
       "      <td>NaN</td>\n",
       "      <td>1.0</td>\n",
       "      <td>NaN</td>\n",
       "      <td>...</td>\n",
       "      <td>5.0</td>\n",
       "      <td>16.7</td>\n",
       "      <td>15 - 30</td>\n",
       "      <td>0.0</td>\n",
       "      <td>mastercard</td>\n",
       "      <td>kindle edition</td>\n",
       "      <td>what a time to be alone</td>\n",
       "      <td>8</td>\n",
       "      <td>momox</td>\n",
       "      <td>1</td>\n",
       "    </tr>\n",
       "  </tbody>\n",
       "</table>\n",
       "<p>5 rows × 37 columns</p>\n",
       "</div>"
      ],
      "text/plain": [
       "       brand_name category_0                  category_1 category_2  \\\n",
       "9734  chupa chups   epicerie  bieres, vins et spiritueux        NaN   \n",
       "9735  chupa chups   epicerie  bieres, vins et spiritueux        NaN   \n",
       "9736  chupa chups   epicerie  bieres, vins et spiritueux        NaN   \n",
       "9737    mixologie   epicerie  bieres, vins et spiritueux        gin   \n",
       "9738          NaN   epicerie  bieres, vins et spiritueux        NaN   \n",
       "\n",
       "      customer_gender  id_flat_table  id_order  is_customer_amazon_2016  \\\n",
       "9734              2.0       72898430  39920687                      NaN   \n",
       "9735              2.0       72898470  39920687                      NaN   \n",
       "9736              2.0       72898512  39920687                      NaN   \n",
       "9737              1.0       72105295  39464336                      1.0   \n",
       "9738              2.0       72482189  39701170                      NaN   \n",
       "\n",
       "      is_customer_amazon_2018  is_customer_cdiscount_2016  ...  \\\n",
       "9734                      1.0                         NaN  ...   \n",
       "9735                      1.0                         NaN  ...   \n",
       "9736                      1.0                         NaN  ...   \n",
       "9737                      1.0                         NaN  ...   \n",
       "9738                      1.0                         NaN  ...   \n",
       "\n",
       "      order_total_fees  order_total_paid  order_total_paid_price_range  \\\n",
       "9734               6.5              61.5                      50 - 100   \n",
       "9735               6.5              61.5                      50 - 100   \n",
       "9736               6.5              61.5                      50 - 100   \n",
       "9737               4.0              41.0                       30 - 50   \n",
       "9738               5.0              16.7                       15 - 30   \n",
       "\n",
       "     order_total_promo payment_method_name product_description  \\\n",
       "9734               0.0               carte                 NaN   \n",
       "9735               0.0               carte                 NaN   \n",
       "9736               0.0               carte                 NaN   \n",
       "9737               0.0               carte                 NaN   \n",
       "9738               0.0          mastercard      kindle edition   \n",
       "\n",
       "                                           product_name  \\\n",
       "9734                persica peche - 210 pieces - 102881   \n",
       "9735                   crocodiles - 210 pieces - 102873   \n",
       "9736                 happy cherry - 105 pieces - 102904   \n",
       "9737  coffret gin gold 70 cl + 4 bouteilles de ledge...   \n",
       "9738                            what a time to be alone   \n",
       "\n",
       "      rank_merchant_customer  seller_name  total_order_item_quantity_per_order  \n",
       "9734                      10  chupa chups                                    7  \n",
       "9735                      10  chupa chups                                    7  \n",
       "9736                      10  chupa chups                                    7  \n",
       "9737                       3    mixologie                                    1  \n",
       "9738                       8        momox                                    1  \n",
       "\n",
       "[5 rows x 37 columns]"
      ]
     },
     "execution_count": 4,
     "metadata": {},
     "output_type": "execute_result"
    }
   ],
   "source": [
    "data.tail()"
   ]
  },
  {
   "cell_type": "code",
   "execution_count": 5,
   "metadata": {},
   "outputs": [
    {
     "name": "stdout",
     "output_type": "stream",
     "text": [
      "<class 'pandas.core.frame.DataFrame'>\n",
      "RangeIndex: 9739 entries, 0 to 9738\n",
      "Data columns (total 37 columns):\n",
      " #   Column                                                     Non-Null Count  Dtype         \n",
      "---  ------                                                     --------------  -----         \n",
      " 0   brand_name                                                 5723 non-null   object        \n",
      " 1   category_0                                                 9739 non-null   object        \n",
      " 2   category_1                                                 9739 non-null   object        \n",
      " 3   category_2                                                 7425 non-null   object        \n",
      " 4   customer_gender                                            9543 non-null   float64       \n",
      " 5   id_flat_table                                              9739 non-null   int64         \n",
      " 6   id_order                                                   9739 non-null   int64         \n",
      " 7   is_customer_amazon_2016                                    6575 non-null   float64       \n",
      " 8   is_customer_amazon_2018                                    7965 non-null   float64       \n",
      " 9   is_customer_cdiscount_2016                                 3744 non-null   float64       \n",
      " 10  is_customer_cdiscount_2018                                 4241 non-null   float64       \n",
      " 11  is_customer_venteprivee_2016                               4045 non-null   float64       \n",
      " 12  is_customer_venteprivee_2018                               4639 non-null   float64       \n",
      " 13  merchant_name                                              9739 non-null   object        \n",
      " 14  order_currency                                             9739 non-null   object        \n",
      " 15  order_datetime                                             9739 non-null   datetime64[ns]\n",
      " 16  order_delivery_fee                                         6061 non-null   float64       \n",
      " 17  order_distinct_item_quantity                               9739 non-null   int64         \n",
      " 18  order_has_promo                                            1500 non-null   float64       \n",
      " 19  order_item_is_marketplace                                  9739 non-null   int64         \n",
      " 20  order_item_quantity                                        9739 non-null   int64         \n",
      " 21  order_item_total_price_paid                                9739 non-null   float64       \n",
      " 22  order_item_total_price_paid_price_range                    9739 non-null   object        \n",
      " 23  order_item_total_price_paid_with_contributions             9739 non-null   float64       \n",
      " 24  order_item_total_price_paid_with_contributions_coef        9739 non-null   float64       \n",
      " 25  order_item_total_price_paid_with_contributions_ponderated  9739 non-null   float64       \n",
      " 26  order_processing_fee                                       2609 non-null   float64       \n",
      " 27  order_total_fees                                           9739 non-null   float64       \n",
      " 28  order_total_paid                                           9738 non-null   float64       \n",
      " 29  order_total_paid_price_range                               9739 non-null   object        \n",
      " 30  order_total_promo                                          9739 non-null   float64       \n",
      " 31  payment_method_name                                        6177 non-null   object        \n",
      " 32  product_description                                        372 non-null    object        \n",
      " 33  product_name                                               9739 non-null   object        \n",
      " 34  rank_merchant_customer                                     9739 non-null   int64         \n",
      " 35  seller_name                                                9733 non-null   object        \n",
      " 36  total_order_item_quantity_per_order                        9739 non-null   int64         \n",
      "dtypes: datetime64[ns](1), float64(17), int64(7), object(12)\n",
      "memory usage: 2.7+ MB\n"
     ]
    }
   ],
   "source": [
    "data.info()"
   ]
  },
  {
   "cell_type": "markdown",
   "metadata": {},
   "source": [
    "Le dataset contient au total **37 colonnes et 9739 lignes**. Parmi les colonnes, près de **65%** d'entre elles sont composées de données numériques (floats et integer confondus), **33%** sont composées d'objets et **3%** sont des données de type datetime. Nous pouvons également noter que certaines colonnes comprennent des données nulles.\n",
    "\n",
    "Chaque ligne correspond à un article distinct dans commande réalisée par un client sur l'une des 3 plateformes de e-commerce suivantes : **Vente-privée, Amazon et Cdiscount**.\n",
    "\n",
    "A première vue, d'après l'intitulé des colonnes, chaque ligne nous donne les informations suivantes à propos de la commande d'un article : \n",
    "\n",
    "- **Le client** : sexe (*customer_gender*) ;\n",
    "- **La catégorie** à laquelle les articles commandés appartiennent (*category_0, category_1, category_2*) ;\n",
    "- **Le produit** commandé : nom de la marque (*brand_name*), le nom du produit (*product_name*) et sa description (*product_description*) ;\n",
    "- **La plateforme de e-commerce** sur laquelle l'article a été commandé (*merchant_name*);\n",
    "- **Les paramètres de la commande** : le numéro de commande unique (*id_order*), le nombre d'articles commandés (*order_item_quantity, order_distinct_item_quantity, total_order_item_quantity_per_order*) et la date (*order_datetime*) ;\n",
    "- **Le paiement de la commande** : la devise (*order_currency*) et la méthode de paiement (*payment_method_name*) ; \n",
    "- **Le prix** de la commande et les éventuelles **promotions** et **frais** associés (*order_total_price_paid, order_item_total_price_paid_price_range, order_item_total_price_paid_with_contributions, order_item_total_price_paid_with_contributions_coef, order_item_total_price_paid_with_contributions_ponderated, order_processing_fee, order_delivery_fee, order_total_fees, order_total_paid, order_total_promo*) \n",
    "\n",
    "\n",
    "D'autres colonnes disposent d'un nom à partir duquel nous ne pouvons pas affirmer avec certitude leur correspondance, **j'ai donc réalisé les hypothèses suivantes** : \n",
    "- *is_customer_merchantname_year* : les colonnes concernées correspondent potentiellement à une classification des clients, permettant notamment d'identifier si une commande d'article est reliée à un client qui a réalisé des achats sur d'autres sites marchands au cours de 2016 et 2018 (*is_customer_amazon_2016, is_customer_amazon_2018, is_customer_venteprivee_2016, is_customer_venteprivee_2018, is_customer_cdiscount_2016, is_customer_cdiscount_2018, merchant_name*);\n",
    "- *rank_merchant_customer* : cette colonne désigne certainement le classement de l'article par la plateforme de e-commerce dans la catégorie à laquelle il appartient parmi les autres annonces du même type ; \n",
    "- *order_item_is_marketplace* : cette colonne devrait nous permettre d'identifier si l'article commandé provient de la marketplace directement ou d'un vendeur tiers ; \n",
    "- *order_item_total_price_paid_with_contributions* : je déduis de l'intitulé de cette colonne qu'une contribution correspond à la commission payée par le vendeur au site marchand lors de la vente de l'article, rémunérant ainsi la plateforme qui a permis la réalisation de la commande ;\n",
    "- *order_item_total_price_paid_with_contributions_coef* : nous étudierons la signification de cette colonne dans les étapes à suivre pour comprendre les paramètres de ce coefficient\n",
    "- La différence entre *id_flat_table* et *order_id* reste à préciser.\n",
    "\n",
    "Nous apprendrons à mieux connaitre le dataset grâce aux étapes suivantes. Je pourrais ainsi **confirmer ou non** ces premières hypothèses réalisées sur l'utilité des colonnes listées ci-dessus."
   ]
  },
  {
   "cell_type": "markdown",
   "metadata": {},
   "source": [
    "## **1.2. Identification des données manquantes**"
   ]
  },
  {
   "cell_type": "markdown",
   "metadata": {},
   "source": [
    "L'objectif de cette partie est d'identifier les données manquantes par colonne et d'arbitrer l'éventuelle nécessité de supprimer ou modifier la donnée concernée."
   ]
  },
  {
   "cell_type": "code",
   "execution_count": 6,
   "metadata": {},
   "outputs": [
    {
     "data": {
      "text/plain": [
       "<matplotlib.axes._subplots.AxesSubplot at 0x1211b1c18>"
      ]
     },
     "execution_count": 6,
     "metadata": {},
     "output_type": "execute_result"
    },
    {
     "data": {
      "image/png": "[encoded data removed]",
      "text/plain": [
       "<Figure size 432x288 with 2 Axes>"
      ]
     },
     "metadata": {
      "needs_background": "light"
     },
     "output_type": "display_data"
    }
   ],
   "source": [
    "colours = ['#000099', '#ffff00']\n",
    "sns.heatmap(data.isnull(), cmap=sns.color_palette(colours))"
   ]
  },
  {
   "cell_type": "markdown",
   "metadata": {},
   "source": [
    "Le graphique ci-dessus visualise les **données manquantes** par colonne à l'aide de la couleur **jaune**. Il nous permet d'obtenir une première vue d'ensemble sur les colonnes présentant des valeurs non définies. Afin d'avoir plus de granularité sur la proportion de données manquantes par colonne, nous allons compléter ce graphique par le **calcul de leur proportion au sein de chaque colonne**.  "
   ]
  },
  {
   "cell_type": "code",
   "execution_count": 7,
   "metadata": {},
   "outputs": [
    {
     "data": {
      "text/html": [
       "<div>\n",
       "<style scoped>\n",
       "    .dataframe tbody tr th:only-of-type {\n",
       "        vertical-align: middle;\n",
       "    }\n",
       "\n",
       "    .dataframe tbody tr th {\n",
       "        vertical-align: top;\n",
       "    }\n",
       "\n",
       "    .dataframe thead th {\n",
       "        text-align: right;\n",
       "    }\n",
       "</style>\n",
       "<table border=\"1\" class=\"dataframe\">\n",
       "  <thead>\n",
       "    <tr style=\"text-align: right;\">\n",
       "      <th></th>\n",
       "      <th>pct_missing</th>\n",
       "    </tr>\n",
       "    <tr>\n",
       "      <th>columns</th>\n",
       "      <th></th>\n",
       "    </tr>\n",
       "  </thead>\n",
       "  <tbody>\n",
       "    <tr>\n",
       "      <th>brand_name</th>\n",
       "      <td>41.24%</td>\n",
       "    </tr>\n",
       "    <tr>\n",
       "      <th>category_0</th>\n",
       "      <td>0.0%</td>\n",
       "    </tr>\n",
       "    <tr>\n",
       "      <th>category_1</th>\n",
       "      <td>0.0%</td>\n",
       "    </tr>\n",
       "    <tr>\n",
       "      <th>category_2</th>\n",
       "      <td>23.76%</td>\n",
       "    </tr>\n",
       "    <tr>\n",
       "      <th>customer_gender</th>\n",
       "      <td>2.01%</td>\n",
       "    </tr>\n",
       "    <tr>\n",
       "      <th>id_flat_table</th>\n",
       "      <td>0.0%</td>\n",
       "    </tr>\n",
       "    <tr>\n",
       "      <th>id_order</th>\n",
       "      <td>0.0%</td>\n",
       "    </tr>\n",
       "    <tr>\n",
       "      <th>is_customer_amazon_2016</th>\n",
       "      <td>32.49%</td>\n",
       "    </tr>\n",
       "    <tr>\n",
       "      <th>is_customer_amazon_2018</th>\n",
       "      <td>18.22%</td>\n",
       "    </tr>\n",
       "    <tr>\n",
       "      <th>is_customer_cdiscount_2016</th>\n",
       "      <td>61.56%</td>\n",
       "    </tr>\n",
       "    <tr>\n",
       "      <th>is_customer_cdiscount_2018</th>\n",
       "      <td>56.45%</td>\n",
       "    </tr>\n",
       "    <tr>\n",
       "      <th>is_customer_venteprivee_2016</th>\n",
       "      <td>58.47%</td>\n",
       "    </tr>\n",
       "    <tr>\n",
       "      <th>is_customer_venteprivee_2018</th>\n",
       "      <td>52.37%</td>\n",
       "    </tr>\n",
       "    <tr>\n",
       "      <th>merchant_name</th>\n",
       "      <td>0.0%</td>\n",
       "    </tr>\n",
       "    <tr>\n",
       "      <th>order_currency</th>\n",
       "      <td>0.0%</td>\n",
       "    </tr>\n",
       "    <tr>\n",
       "      <th>order_datetime</th>\n",
       "      <td>0.0%</td>\n",
       "    </tr>\n",
       "    <tr>\n",
       "      <th>order_delivery_fee</th>\n",
       "      <td>37.77%</td>\n",
       "    </tr>\n",
       "    <tr>\n",
       "      <th>order_distinct_item_quantity</th>\n",
       "      <td>0.0%</td>\n",
       "    </tr>\n",
       "    <tr>\n",
       "      <th>order_has_promo</th>\n",
       "      <td>84.6%</td>\n",
       "    </tr>\n",
       "    <tr>\n",
       "      <th>order_item_is_marketplace</th>\n",
       "      <td>0.0%</td>\n",
       "    </tr>\n",
       "    <tr>\n",
       "      <th>order_item_quantity</th>\n",
       "      <td>0.0%</td>\n",
       "    </tr>\n",
       "    <tr>\n",
       "      <th>order_item_total_price_paid</th>\n",
       "      <td>0.0%</td>\n",
       "    </tr>\n",
       "    <tr>\n",
       "      <th>order_item_total_price_paid_price_range</th>\n",
       "      <td>0.0%</td>\n",
       "    </tr>\n",
       "    <tr>\n",
       "      <th>order_item_total_price_paid_with_contributions</th>\n",
       "      <td>0.0%</td>\n",
       "    </tr>\n",
       "    <tr>\n",
       "      <th>order_item_total_price_paid_with_contributions_coef</th>\n",
       "      <td>0.0%</td>\n",
       "    </tr>\n",
       "    <tr>\n",
       "      <th>order_item_total_price_paid_with_contributions_ponderated</th>\n",
       "      <td>0.0%</td>\n",
       "    </tr>\n",
       "    <tr>\n",
       "      <th>order_processing_fee</th>\n",
       "      <td>73.21%</td>\n",
       "    </tr>\n",
       "    <tr>\n",
       "      <th>order_total_fees</th>\n",
       "      <td>0.0%</td>\n",
       "    </tr>\n",
       "    <tr>\n",
       "      <th>order_total_paid</th>\n",
       "      <td>0.01%</td>\n",
       "    </tr>\n",
       "    <tr>\n",
       "      <th>order_total_paid_price_range</th>\n",
       "      <td>0.0%</td>\n",
       "    </tr>\n",
       "    <tr>\n",
       "      <th>order_total_promo</th>\n",
       "      <td>0.0%</td>\n",
       "    </tr>\n",
       "    <tr>\n",
       "      <th>payment_method_name</th>\n",
       "      <td>36.57%</td>\n",
       "    </tr>\n",
       "    <tr>\n",
       "      <th>product_description</th>\n",
       "      <td>96.18%</td>\n",
       "    </tr>\n",
       "    <tr>\n",
       "      <th>product_name</th>\n",
       "      <td>0.0%</td>\n",
       "    </tr>\n",
       "    <tr>\n",
       "      <th>rank_merchant_customer</th>\n",
       "      <td>0.0%</td>\n",
       "    </tr>\n",
       "    <tr>\n",
       "      <th>seller_name</th>\n",
       "      <td>0.06%</td>\n",
       "    </tr>\n",
       "    <tr>\n",
       "      <th>total_order_item_quantity_per_order</th>\n",
       "      <td>0.0%</td>\n",
       "    </tr>\n",
       "  </tbody>\n",
       "</table>\n",
       "</div>"
      ],
      "text/plain": [
       "                                                   pct_missing\n",
       "columns                                                       \n",
       "brand_name                                              41.24%\n",
       "category_0                                                0.0%\n",
       "category_1                                                0.0%\n",
       "category_2                                              23.76%\n",
       "customer_gender                                          2.01%\n",
       "id_flat_table                                             0.0%\n",
       "id_order                                                  0.0%\n",
       "is_customer_amazon_2016                                 32.49%\n",
       "is_customer_amazon_2018                                 18.22%\n",
       "is_customer_cdiscount_2016                              61.56%\n",
       "is_customer_cdiscount_2018                              56.45%\n",
       "is_customer_venteprivee_2016                            58.47%\n",
       "is_customer_venteprivee_2018                            52.37%\n",
       "merchant_name                                             0.0%\n",
       "order_currency                                            0.0%\n",
       "order_datetime                                            0.0%\n",
       "order_delivery_fee                                      37.77%\n",
       "order_distinct_item_quantity                              0.0%\n",
       "order_has_promo                                          84.6%\n",
       "order_item_is_marketplace                                 0.0%\n",
       "order_item_quantity                                       0.0%\n",
       "order_item_total_price_paid                               0.0%\n",
       "order_item_total_price_paid_price_range                   0.0%\n",
       "order_item_total_price_paid_with_contributions            0.0%\n",
       "order_item_total_price_paid_with_contributions_...        0.0%\n",
       "order_item_total_price_paid_with_contributions_...        0.0%\n",
       "order_processing_fee                                    73.21%\n",
       "order_total_fees                                          0.0%\n",
       "order_total_paid                                         0.01%\n",
       "order_total_paid_price_range                              0.0%\n",
       "order_total_promo                                         0.0%\n",
       "payment_method_name                                     36.57%\n",
       "product_description                                     96.18%\n",
       "product_name                                              0.0%\n",
       "rank_merchant_customer                                    0.0%\n",
       "seller_name                                              0.06%\n",
       "total_order_item_quantity_per_order                       0.0%"
      ]
     },
     "execution_count": 7,
     "metadata": {},
     "output_type": "execute_result"
    }
   ],
   "source": [
    "col_name = []\n",
    "col_pct_missing = []\n",
    "for col in data.columns:\n",
    "    col_name.append(col)\n",
    "    pct_missing = np.mean(data[col].isnull())\n",
    "    col_pct_missing.append('{}%'.format(round(pct_missing*100,2)))\n",
    "    \n",
    "df_col_missing = pd.DataFrame({ 'columns' : col_name,\n",
    "                            'pct_missing' : col_pct_missing\n",
    "                           })\n",
    "df_col_missing.set_index('columns')"
   ]
  },
  {
   "cell_type": "markdown",
   "metadata": {},
   "source": [
    "Certaines colonnes présentent une **proportion élevée de données manquantes**. Nous allons les explorer plus en profondeur.\n",
    "\n",
    "Tout d'abord, la colonne *product_description*, disposant de près de **97% de données manquantes** ne semble pas essentielle à notre analyse. De même pour les colonnes *order_processing_fee* et *order_has_promo* qui disposent respectivement de **85% et 74% de données manquantes**. De part leur manque de représentativité, nous allons supprimer ces 3 colonnes.\n",
    "\n",
    "D'autres colonnes, comme *order_delivery_fee*, *brand_name* ont respectivement **38% et 42% de valeurs manquantes**. Pour le moment nous conserverons ces colonnes car elles peuvent d'avérer utiles pour l'analyse à venir. De même, malgré que les colonnes *is_customer_merchantname_year* présentent chacune une proportion importante de données manquantes, ces colonnes étant composées de \"1.0\", \"client\", et de valeurs NaN, nous pouvons faire l'hypothèse que NaN revient à \"0.0 et donc à \"non client\"."
   ]
  },
  {
   "cell_type": "code",
   "execution_count": 8,
   "metadata": {},
   "outputs": [],
   "source": [
    "data = data.drop(columns=['product_description','order_has_promo','order_processing_fee'])"
   ]
  },
  {
   "cell_type": "markdown",
   "metadata": {},
   "source": [
    "## **1.3. Identification des données répétitives**"
   ]
  },
  {
   "cell_type": "markdown",
   "metadata": {},
   "source": [
    "Dans cette section, nous allons vérifier si certaines colonnes manque de pertinence en raison d'un nombre trop important de valeurs identiques, n'apportant donc aucune valeur ajoutée. Je vais donc identifier les éventuelles colonnes qui présentent un **pourcentage de similitude supérieur à 90%**."
   ]
  },
  {
   "cell_type": "code",
   "execution_count": 9,
   "metadata": {},
   "outputs": [
    {
     "data": {
      "text/html": [
       "<div>\n",
       "<style scoped>\n",
       "    .dataframe tbody tr th:only-of-type {\n",
       "        vertical-align: middle;\n",
       "    }\n",
       "\n",
       "    .dataframe tbody tr th {\n",
       "        vertical-align: top;\n",
       "    }\n",
       "\n",
       "    .dataframe thead th {\n",
       "        text-align: right;\n",
       "    }\n",
       "</style>\n",
       "<table border=\"1\" class=\"dataframe\">\n",
       "  <thead>\n",
       "    <tr style=\"text-align: right;\">\n",
       "      <th></th>\n",
       "      <th>pct_similarity</th>\n",
       "    </tr>\n",
       "    <tr>\n",
       "      <th>columns</th>\n",
       "      <th></th>\n",
       "    </tr>\n",
       "  </thead>\n",
       "  <tbody>\n",
       "    <tr>\n",
       "      <th>category_0</th>\n",
       "      <td>100.00%</td>\n",
       "    </tr>\n",
       "    <tr>\n",
       "      <th>category_1</th>\n",
       "      <td>100.00%</td>\n",
       "    </tr>\n",
       "  </tbody>\n",
       "</table>\n",
       "</div>"
      ],
      "text/plain": [
       "           pct_similarity\n",
       "columns                  \n",
       "category_0        100.00%\n",
       "category_1        100.00%"
      ]
     },
     "execution_count": 9,
     "metadata": {},
     "output_type": "execute_result"
    }
   ],
   "source": [
    "num_rows = len(data.index)\n",
    "low_information_cols = [] #\n",
    "low_information_cols_pct_rep = []\n",
    "\n",
    "for col in data.columns:\n",
    "    cnts = data[col].value_counts(dropna=False)\n",
    "    top_pct = (cnts/num_rows).iloc[0]\n",
    "    \n",
    "    if top_pct > 0.90:\n",
    "        low_information_cols.append(col)\n",
    "        low_information_cols_pct_rep.append('{:.2f}%'.format(top_pct*100))\n",
    "        \n",
    "df_repetitive_cols = pd.DataFrame({ 'columns' : low_information_cols,\n",
    "                            'pct_similarity' : low_information_cols_pct_rep\n",
    "                           })\n",
    "df_repetitive_cols.set_index('columns')"
   ]
  },
  {
   "cell_type": "markdown",
   "metadata": {},
   "source": [
    "Nous pouvons clairement identifier que les colonnes *category_0* et *category_1* n'apportent aucune valeur ajoutée pour notre analyse puisqu'elles ne contiennent **qu'une seule et unique valeur**. Nous allons donc les supprimer."
   ]
  },
  {
   "cell_type": "markdown",
   "metadata": {},
   "source": [
    "Cependant, nous pouvons tirer une information importante de cette observation : l'ensemble des articles commandés référencées dans le dataset **appartiennent à la catégorie épicerie et plus précisément des \"bières, vins et spiritueux\"**."
   ]
  },
  {
   "cell_type": "code",
   "execution_count": 10,
   "metadata": {},
   "outputs": [],
   "source": [
    "data = data.drop(columns=['category_0','category_1'])"
   ]
  },
  {
   "cell_type": "markdown",
   "metadata": {},
   "source": [
    "## **1.4. Identification des données erronnées**"
   ]
  },
  {
   "cell_type": "markdown",
   "metadata": {},
   "source": [
    "Dans cette sous-partie nous allons rentrer plus en profondeur dans le contenu des colonnes pour vérifier qu'elles ne contiennent pas d'erreurs. L'objectif est de **garantir la consistance des données de chaque commande** pour notre analyse à venir."
   ]
  },
  {
   "cell_type": "markdown",
   "metadata": {},
   "source": [
    "## 1.4.1. Etude des colonnes *is_customer_merchantname_year*"
   ]
  },
  {
   "cell_type": "markdown",
   "metadata": {},
   "source": [
    "Chaque ligne du dataset correspond aux informations d'un article commandé sur **un site marchand** à une **date précise**. En parallèle, d'après mes hypothèses, le dataset nous donne également des informations sur le client par l'intermédiaire des colonnes *is_customer_merchantname_year*, détaillant si l'auteur de la commande est aussi client sur les autres sites marchands, et ce sur les années 2016 et 2018. \n",
    "\n",
    "Pour vérifier notre hypothèse, vérifions par exemple si des articles commandés concernent des clients qui ont commandé des articles sur les 3 sites marchands au cours de l'année 2016."
   ]
  },
  {
   "cell_type": "code",
   "execution_count": 11,
   "metadata": {},
   "outputs": [],
   "source": [
    "keys_1 = (data['is_customer_amazon_2016'] == 1.0) & (data['is_customer_cdiscount_2016'] == 1.0) & (data['is_customer_venteprivee_2016']) "
   ]
  },
  {
   "cell_type": "code",
   "execution_count": 12,
   "metadata": {},
   "outputs": [
    {
     "data": {
      "text/html": [
       "<div>\n",
       "<style scoped>\n",
       "    .dataframe tbody tr th:only-of-type {\n",
       "        vertical-align: middle;\n",
       "    }\n",
       "\n",
       "    .dataframe tbody tr th {\n",
       "        vertical-align: top;\n",
       "    }\n",
       "\n",
       "    .dataframe thead th {\n",
       "        text-align: right;\n",
       "    }\n",
       "</style>\n",
       "<table border=\"1\" class=\"dataframe\">\n",
       "  <thead>\n",
       "    <tr style=\"text-align: right;\">\n",
       "      <th></th>\n",
       "      <th>brand_name</th>\n",
       "      <th>category_2</th>\n",
       "      <th>customer_gender</th>\n",
       "      <th>id_flat_table</th>\n",
       "      <th>id_order</th>\n",
       "      <th>is_customer_amazon_2016</th>\n",
       "      <th>is_customer_amazon_2018</th>\n",
       "      <th>is_customer_cdiscount_2016</th>\n",
       "      <th>is_customer_cdiscount_2018</th>\n",
       "      <th>is_customer_venteprivee_2016</th>\n",
       "      <th>...</th>\n",
       "      <th>order_item_total_price_paid_with_contributions_ponderated</th>\n",
       "      <th>order_total_fees</th>\n",
       "      <th>order_total_paid</th>\n",
       "      <th>order_total_paid_price_range</th>\n",
       "      <th>order_total_promo</th>\n",
       "      <th>payment_method_name</th>\n",
       "      <th>product_name</th>\n",
       "      <th>rank_merchant_customer</th>\n",
       "      <th>seller_name</th>\n",
       "      <th>total_order_item_quantity_per_order</th>\n",
       "    </tr>\n",
       "  </thead>\n",
       "  <tbody>\n",
       "    <tr>\n",
       "      <th>29</th>\n",
       "      <td>vins grands formats</td>\n",
       "      <td>vin</td>\n",
       "      <td>1.0</td>\n",
       "      <td>5344411</td>\n",
       "      <td>2528546</td>\n",
       "      <td>1.0</td>\n",
       "      <td>NaN</td>\n",
       "      <td>1.0</td>\n",
       "      <td>NaN</td>\n",
       "      <td>1.0</td>\n",
       "      <td>...</td>\n",
       "      <td>12.5</td>\n",
       "      <td>6.0</td>\n",
       "      <td>25.0</td>\n",
       "      <td>15 - 30</td>\n",
       "      <td>0.0</td>\n",
       "      <td>carte</td>\n",
       "      <td>magnum de cahors, rouge 2014| heritage de mass...</td>\n",
       "      <td>1</td>\n",
       "      <td>vins grands formats</td>\n",
       "      <td>1</td>\n",
       "    </tr>\n",
       "    <tr>\n",
       "      <th>30</th>\n",
       "      <td>lorgeril</td>\n",
       "      <td>vin</td>\n",
       "      <td>1.0</td>\n",
       "      <td>4815121</td>\n",
       "      <td>2295727</td>\n",
       "      <td>1.0</td>\n",
       "      <td>NaN</td>\n",
       "      <td>1.0</td>\n",
       "      <td>NaN</td>\n",
       "      <td>1.0</td>\n",
       "      <td>...</td>\n",
       "      <td>25.2</td>\n",
       "      <td>10.0</td>\n",
       "      <td>94.0</td>\n",
       "      <td>50 - 100</td>\n",
       "      <td>0.0</td>\n",
       "      <td>carte</td>\n",
       "      <td>pinot noir, le saint jean, pays d'oc, rouge, 2...</td>\n",
       "      <td>1</td>\n",
       "      <td>lorgeril</td>\n",
       "      <td>2</td>\n",
       "    </tr>\n",
       "    <tr>\n",
       "      <th>98</th>\n",
       "      <td>nikka</td>\n",
       "      <td>whisky</td>\n",
       "      <td>2.0</td>\n",
       "      <td>1333448</td>\n",
       "      <td>661337</td>\n",
       "      <td>1.0</td>\n",
       "      <td>1.0</td>\n",
       "      <td>1.0</td>\n",
       "      <td>NaN</td>\n",
       "      <td>1.0</td>\n",
       "      <td>...</td>\n",
       "      <td>103.7</td>\n",
       "      <td>0.0</td>\n",
       "      <td>39.9</td>\n",
       "      <td>30 - 50</td>\n",
       "      <td>0.0</td>\n",
       "      <td>NaN</td>\n",
       "      <td>nikka from barrel 50 cl 51.4deg - 1</td>\n",
       "      <td>3</td>\n",
       "      <td>cdiscount</td>\n",
       "      <td>1</td>\n",
       "    </tr>\n",
       "    <tr>\n",
       "      <th>99</th>\n",
       "      <td>rhum j.m</td>\n",
       "      <td>rhum</td>\n",
       "      <td>2.0</td>\n",
       "      <td>1532841</td>\n",
       "      <td>762565</td>\n",
       "      <td>1.0</td>\n",
       "      <td>1.0</td>\n",
       "      <td>1.0</td>\n",
       "      <td>NaN</td>\n",
       "      <td>1.0</td>\n",
       "      <td>...</td>\n",
       "      <td>23.1</td>\n",
       "      <td>4.5</td>\n",
       "      <td>38.5</td>\n",
       "      <td>30 - 50</td>\n",
       "      <td>0.0</td>\n",
       "      <td>carte</td>\n",
       "      <td>rhum single cask millesime 2008 - 50 cl</td>\n",
       "      <td>3</td>\n",
       "      <td>vente-privee</td>\n",
       "      <td>1</td>\n",
       "    </tr>\n",
       "    <tr>\n",
       "      <th>100</th>\n",
       "      <td>bjorg</td>\n",
       "      <td>NaN</td>\n",
       "      <td>2.0</td>\n",
       "      <td>1532922</td>\n",
       "      <td>762607</td>\n",
       "      <td>1.0</td>\n",
       "      <td>1.0</td>\n",
       "      <td>1.0</td>\n",
       "      <td>NaN</td>\n",
       "      <td>1.0</td>\n",
       "      <td>...</td>\n",
       "      <td>1.7</td>\n",
       "      <td>12.0</td>\n",
       "      <td>113.9</td>\n",
       "      <td>100 - 200</td>\n",
       "      <td>0.0</td>\n",
       "      <td>carte</td>\n",
       "      <td>sel et herbes bio |250g - 2108</td>\n",
       "      <td>1</td>\n",
       "      <td>bjorg</td>\n",
       "      <td>8</td>\n",
       "    </tr>\n",
       "    <tr>\n",
       "      <th>...</th>\n",
       "      <td>...</td>\n",
       "      <td>...</td>\n",
       "      <td>...</td>\n",
       "      <td>...</td>\n",
       "      <td>...</td>\n",
       "      <td>...</td>\n",
       "      <td>...</td>\n",
       "      <td>...</td>\n",
       "      <td>...</td>\n",
       "      <td>...</td>\n",
       "      <td>...</td>\n",
       "      <td>...</td>\n",
       "      <td>...</td>\n",
       "      <td>...</td>\n",
       "      <td>...</td>\n",
       "      <td>...</td>\n",
       "      <td>...</td>\n",
       "      <td>...</td>\n",
       "      <td>...</td>\n",
       "      <td>...</td>\n",
       "      <td>...</td>\n",
       "    </tr>\n",
       "    <tr>\n",
       "      <th>9724</th>\n",
       "      <td>vins du sud-ouest</td>\n",
       "      <td>vin</td>\n",
       "      <td>2.0</td>\n",
       "      <td>72626351</td>\n",
       "      <td>39776812</td>\n",
       "      <td>1.0</td>\n",
       "      <td>1.0</td>\n",
       "      <td>1.0</td>\n",
       "      <td>1.0</td>\n",
       "      <td>1.0</td>\n",
       "      <td>...</td>\n",
       "      <td>49.7</td>\n",
       "      <td>14.0</td>\n",
       "      <td>149.0</td>\n",
       "      <td>100 - 200</td>\n",
       "      <td>0.0</td>\n",
       "      <td>carte</td>\n",
       "      <td>domaine du mioula, marcillac, rouge 2013|1 x 7...</td>\n",
       "      <td>19</td>\n",
       "      <td>vins du sud-ouest</td>\n",
       "      <td>24</td>\n",
       "    </tr>\n",
       "    <tr>\n",
       "      <th>9725</th>\n",
       "      <td>mouton cadet</td>\n",
       "      <td>vin</td>\n",
       "      <td>2.0</td>\n",
       "      <td>72626414</td>\n",
       "      <td>39776832</td>\n",
       "      <td>1.0</td>\n",
       "      <td>1.0</td>\n",
       "      <td>1.0</td>\n",
       "      <td>1.0</td>\n",
       "      <td>1.0</td>\n",
       "      <td>...</td>\n",
       "      <td>50.8</td>\n",
       "      <td>10.0</td>\n",
       "      <td>88.0</td>\n",
       "      <td>50 - 100</td>\n",
       "      <td>0.0</td>\n",
       "      <td>carte</td>\n",
       "      <td>bordeaux, mouton cadet, rouge 2012 |75 cl - 32...</td>\n",
       "      <td>17</td>\n",
       "      <td>mouton cadet</td>\n",
       "      <td>12</td>\n",
       "    </tr>\n",
       "    <tr>\n",
       "      <th>9726</th>\n",
       "      <td>mouton cadet</td>\n",
       "      <td>vin</td>\n",
       "      <td>2.0</td>\n",
       "      <td>72626429</td>\n",
       "      <td>39776832</td>\n",
       "      <td>1.0</td>\n",
       "      <td>1.0</td>\n",
       "      <td>1.0</td>\n",
       "      <td>1.0</td>\n",
       "      <td>1.0</td>\n",
       "      <td>...</td>\n",
       "      <td>37.2</td>\n",
       "      <td>10.0</td>\n",
       "      <td>88.0</td>\n",
       "      <td>50 - 100</td>\n",
       "      <td>0.0</td>\n",
       "      <td>carte</td>\n",
       "      <td>cabernet sauvignon, casillero del diablo, roug...</td>\n",
       "      <td>17</td>\n",
       "      <td>mouton cadet</td>\n",
       "      <td>12</td>\n",
       "    </tr>\n",
       "    <tr>\n",
       "      <th>9727</th>\n",
       "      <td>chateau meric</td>\n",
       "      <td>vin</td>\n",
       "      <td>2.0</td>\n",
       "      <td>72626446</td>\n",
       "      <td>39776837</td>\n",
       "      <td>1.0</td>\n",
       "      <td>1.0</td>\n",
       "      <td>1.0</td>\n",
       "      <td>1.0</td>\n",
       "      <td>1.0</td>\n",
       "      <td>...</td>\n",
       "      <td>118.0</td>\n",
       "      <td>10.0</td>\n",
       "      <td>118.0</td>\n",
       "      <td>100 - 200</td>\n",
       "      <td>0.0</td>\n",
       "      <td>carte</td>\n",
       "      <td>medoc cru bourgeois aoc - 2012 - rouge - 75 cl</td>\n",
       "      <td>16</td>\n",
       "      <td>vente-privee</td>\n",
       "      <td>12</td>\n",
       "    </tr>\n",
       "    <tr>\n",
       "      <th>9729</th>\n",
       "      <td>foire aux vins</td>\n",
       "      <td>vin</td>\n",
       "      <td>1.0</td>\n",
       "      <td>72862470</td>\n",
       "      <td>39896338</td>\n",
       "      <td>1.0</td>\n",
       "      <td>1.0</td>\n",
       "      <td>1.0</td>\n",
       "      <td>1.0</td>\n",
       "      <td>1.0</td>\n",
       "      <td>...</td>\n",
       "      <td>31.0</td>\n",
       "      <td>6.0</td>\n",
       "      <td>62.0</td>\n",
       "      <td>50 - 100</td>\n",
       "      <td>10.0</td>\n",
       "      <td>carte</td>\n",
       "      <td>roccheviberti|barbera d'alba doc, italie, vign...</td>\n",
       "      <td>9</td>\n",
       "      <td>foire aux vins</td>\n",
       "      <td>2</td>\n",
       "    </tr>\n",
       "  </tbody>\n",
       "</table>\n",
       "<p>1185 rows × 32 columns</p>\n",
       "</div>"
      ],
      "text/plain": [
       "               brand_name category_2  customer_gender  id_flat_table  \\\n",
       "29    vins grands formats        vin              1.0        5344411   \n",
       "30               lorgeril        vin              1.0        4815121   \n",
       "98                  nikka     whisky              2.0        1333448   \n",
       "99               rhum j.m       rhum              2.0        1532841   \n",
       "100                 bjorg        NaN              2.0        1532922   \n",
       "...                   ...        ...              ...            ...   \n",
       "9724    vins du sud-ouest        vin              2.0       72626351   \n",
       "9725         mouton cadet        vin              2.0       72626414   \n",
       "9726         mouton cadet        vin              2.0       72626429   \n",
       "9727        chateau meric        vin              2.0       72626446   \n",
       "9729       foire aux vins        vin              1.0       72862470   \n",
       "\n",
       "      id_order  is_customer_amazon_2016  is_customer_amazon_2018  \\\n",
       "29     2528546                      1.0                      NaN   \n",
       "30     2295727                      1.0                      NaN   \n",
       "98      661337                      1.0                      1.0   \n",
       "99      762565                      1.0                      1.0   \n",
       "100     762607                      1.0                      1.0   \n",
       "...        ...                      ...                      ...   \n",
       "9724  39776812                      1.0                      1.0   \n",
       "9725  39776832                      1.0                      1.0   \n",
       "9726  39776832                      1.0                      1.0   \n",
       "9727  39776837                      1.0                      1.0   \n",
       "9729  39896338                      1.0                      1.0   \n",
       "\n",
       "      is_customer_cdiscount_2016  is_customer_cdiscount_2018  \\\n",
       "29                           1.0                         NaN   \n",
       "30                           1.0                         NaN   \n",
       "98                           1.0                         NaN   \n",
       "99                           1.0                         NaN   \n",
       "100                          1.0                         NaN   \n",
       "...                          ...                         ...   \n",
       "9724                         1.0                         1.0   \n",
       "9725                         1.0                         1.0   \n",
       "9726                         1.0                         1.0   \n",
       "9727                         1.0                         1.0   \n",
       "9729                         1.0                         1.0   \n",
       "\n",
       "      is_customer_venteprivee_2016  ...  \\\n",
       "29                             1.0  ...   \n",
       "30                             1.0  ...   \n",
       "98                             1.0  ...   \n",
       "99                             1.0  ...   \n",
       "100                            1.0  ...   \n",
       "...                            ...  ...   \n",
       "9724                           1.0  ...   \n",
       "9725                           1.0  ...   \n",
       "9726                           1.0  ...   \n",
       "9727                           1.0  ...   \n",
       "9729                           1.0  ...   \n",
       "\n",
       "      order_item_total_price_paid_with_contributions_ponderated  \\\n",
       "29                                                 12.5           \n",
       "30                                                 25.2           \n",
       "98                                                103.7           \n",
       "99                                                 23.1           \n",
       "100                                                 1.7           \n",
       "...                                                 ...           \n",
       "9724                                               49.7           \n",
       "9725                                               50.8           \n",
       "9726                                               37.2           \n",
       "9727                                              118.0           \n",
       "9729                                               31.0           \n",
       "\n",
       "     order_total_fees order_total_paid order_total_paid_price_range  \\\n",
       "29                6.0             25.0                      15 - 30   \n",
       "30               10.0             94.0                     50 - 100   \n",
       "98                0.0             39.9                      30 - 50   \n",
       "99                4.5             38.5                      30 - 50   \n",
       "100              12.0            113.9                    100 - 200   \n",
       "...               ...              ...                          ...   \n",
       "9724             14.0            149.0                    100 - 200   \n",
       "9725             10.0             88.0                     50 - 100   \n",
       "9726             10.0             88.0                     50 - 100   \n",
       "9727             10.0            118.0                    100 - 200   \n",
       "9729              6.0             62.0                     50 - 100   \n",
       "\n",
       "      order_total_promo  payment_method_name  \\\n",
       "29                  0.0                carte   \n",
       "30                  0.0                carte   \n",
       "98                  0.0                  NaN   \n",
       "99                  0.0                carte   \n",
       "100                 0.0                carte   \n",
       "...                 ...                  ...   \n",
       "9724                0.0                carte   \n",
       "9725                0.0                carte   \n",
       "9726                0.0                carte   \n",
       "9727                0.0                carte   \n",
       "9729               10.0                carte   \n",
       "\n",
       "                                           product_name  \\\n",
       "29    magnum de cahors, rouge 2014| heritage de mass...   \n",
       "30    pinot noir, le saint jean, pays d'oc, rouge, 2...   \n",
       "98                  nikka from barrel 50 cl 51.4deg - 1   \n",
       "99              rhum single cask millesime 2008 - 50 cl   \n",
       "100                      sel et herbes bio |250g - 2108   \n",
       "...                                                 ...   \n",
       "9724  domaine du mioula, marcillac, rouge 2013|1 x 7...   \n",
       "9725  bordeaux, mouton cadet, rouge 2012 |75 cl - 32...   \n",
       "9726  cabernet sauvignon, casillero del diablo, roug...   \n",
       "9727     medoc cru bourgeois aoc - 2012 - rouge - 75 cl   \n",
       "9729  roccheviberti|barbera d'alba doc, italie, vign...   \n",
       "\n",
       "      rank_merchant_customer          seller_name  \\\n",
       "29                         1  vins grands formats   \n",
       "30                         1             lorgeril   \n",
       "98                         3            cdiscount   \n",
       "99                         3         vente-privee   \n",
       "100                        1                bjorg   \n",
       "...                      ...                  ...   \n",
       "9724                      19    vins du sud-ouest   \n",
       "9725                      17         mouton cadet   \n",
       "9726                      17         mouton cadet   \n",
       "9727                      16         vente-privee   \n",
       "9729                       9       foire aux vins   \n",
       "\n",
       "     total_order_item_quantity_per_order  \n",
       "29                                     1  \n",
       "30                                     2  \n",
       "98                                     1  \n",
       "99                                     1  \n",
       "100                                    8  \n",
       "...                                  ...  \n",
       "9724                                  24  \n",
       "9725                                  12  \n",
       "9726                                  12  \n",
       "9727                                  12  \n",
       "9729                                   2  \n",
       "\n",
       "[1185 rows x 32 columns]"
      ]
     },
     "execution_count": 12,
     "metadata": {},
     "output_type": "execute_result"
    }
   ],
   "source": [
    "data[keys_1]"
   ]
  },
  {
   "cell_type": "markdown",
   "metadata": {},
   "source": [
    "**1185** articles commandés concernent des clients qui ont réalisé des achats sur les **3 sites marchands** en **2016** (attention plusieurs articles commandés peuvent concerner la même commande et donc le même client). Vérifions s'il est également possible que des clients aient commandé sur un même site marchand en **2016 et en 2018**, par exemple sur **Amazon**."
   ]
  },
  {
   "cell_type": "code",
   "execution_count": 13,
   "metadata": {},
   "outputs": [],
   "source": [
    "keys_2 = ((data['is_customer_amazon_2016'] == 1.0) & (data['is_customer_amazon_2018'] == 1.0))"
   ]
  },
  {
   "cell_type": "code",
   "execution_count": 14,
   "metadata": {},
   "outputs": [
    {
     "data": {
      "text/html": [
       "<div>\n",
       "<style scoped>\n",
       "    .dataframe tbody tr th:only-of-type {\n",
       "        vertical-align: middle;\n",
       "    }\n",
       "\n",
       "    .dataframe tbody tr th {\n",
       "        vertical-align: top;\n",
       "    }\n",
       "\n",
       "    .dataframe thead th {\n",
       "        text-align: right;\n",
       "    }\n",
       "</style>\n",
       "<table border=\"1\" class=\"dataframe\">\n",
       "  <thead>\n",
       "    <tr style=\"text-align: right;\">\n",
       "      <th></th>\n",
       "      <th>brand_name</th>\n",
       "      <th>category_2</th>\n",
       "      <th>customer_gender</th>\n",
       "      <th>id_flat_table</th>\n",
       "      <th>id_order</th>\n",
       "      <th>is_customer_amazon_2016</th>\n",
       "      <th>is_customer_amazon_2018</th>\n",
       "      <th>is_customer_cdiscount_2016</th>\n",
       "      <th>is_customer_cdiscount_2018</th>\n",
       "      <th>is_customer_venteprivee_2016</th>\n",
       "      <th>...</th>\n",
       "      <th>order_item_total_price_paid_with_contributions_ponderated</th>\n",
       "      <th>order_total_fees</th>\n",
       "      <th>order_total_paid</th>\n",
       "      <th>order_total_paid_price_range</th>\n",
       "      <th>order_total_promo</th>\n",
       "      <th>payment_method_name</th>\n",
       "      <th>product_name</th>\n",
       "      <th>rank_merchant_customer</th>\n",
       "      <th>seller_name</th>\n",
       "      <th>total_order_item_quantity_per_order</th>\n",
       "    </tr>\n",
       "  </thead>\n",
       "  <tbody>\n",
       "    <tr>\n",
       "      <th>95</th>\n",
       "      <td>crazy horse</td>\n",
       "      <td>champagne &amp; crémants</td>\n",
       "      <td>2.0</td>\n",
       "      <td>1645486</td>\n",
       "      <td>820206</td>\n",
       "      <td>1.0</td>\n",
       "      <td>1.0</td>\n",
       "      <td>NaN</td>\n",
       "      <td>NaN</td>\n",
       "      <td>1.0</td>\n",
       "      <td>...</td>\n",
       "      <td>390.0</td>\n",
       "      <td>0.0</td>\n",
       "      <td>150.0</td>\n",
       "      <td>100 - 200</td>\n",
       "      <td>0.0</td>\n",
       "      <td>carte</td>\n",
       "      <td>billet open - show + 1/2 bouteille de champagn...</td>\n",
       "      <td>1</td>\n",
       "      <td>crazy horse</td>\n",
       "      <td>2</td>\n",
       "    </tr>\n",
       "    <tr>\n",
       "      <th>96</th>\n",
       "      <td>jose cuervo</td>\n",
       "      <td>autres &amp; liqueurs</td>\n",
       "      <td>1.0</td>\n",
       "      <td>1751808</td>\n",
       "      <td>879531</td>\n",
       "      <td>1.0</td>\n",
       "      <td>1.0</td>\n",
       "      <td>1.0</td>\n",
       "      <td>NaN</td>\n",
       "      <td>NaN</td>\n",
       "      <td>...</td>\n",
       "      <td>40.0</td>\n",
       "      <td>0.0</td>\n",
       "      <td>29.9</td>\n",
       "      <td>15 - 30</td>\n",
       "      <td>0.0</td>\n",
       "      <td>visa</td>\n",
       "      <td>jose cuervo tequila jose cuervo reposado 70 cl</td>\n",
       "      <td>10</td>\n",
       "      <td>amazon</td>\n",
       "      <td>2</td>\n",
       "    </tr>\n",
       "    <tr>\n",
       "      <th>97</th>\n",
       "      <td>NaN</td>\n",
       "      <td>NaN</td>\n",
       "      <td>1.0</td>\n",
       "      <td>2034296</td>\n",
       "      <td>1025905</td>\n",
       "      <td>1.0</td>\n",
       "      <td>1.0</td>\n",
       "      <td>NaN</td>\n",
       "      <td>NaN</td>\n",
       "      <td>NaN</td>\n",
       "      <td>...</td>\n",
       "      <td>34.4</td>\n",
       "      <td>10.5</td>\n",
       "      <td>68.8</td>\n",
       "      <td>50 - 100</td>\n",
       "      <td>0.0</td>\n",
       "      <td>visa</td>\n",
       "      <td>arcane - extraroma en coffret 2 verres</td>\n",
       "      <td>5</td>\n",
       "      <td>excellencerhum</td>\n",
       "      <td>1</td>\n",
       "    </tr>\n",
       "    <tr>\n",
       "      <th>98</th>\n",
       "      <td>nikka</td>\n",
       "      <td>whisky</td>\n",
       "      <td>2.0</td>\n",
       "      <td>1333448</td>\n",
       "      <td>661337</td>\n",
       "      <td>1.0</td>\n",
       "      <td>1.0</td>\n",
       "      <td>1.0</td>\n",
       "      <td>NaN</td>\n",
       "      <td>1.0</td>\n",
       "      <td>...</td>\n",
       "      <td>103.7</td>\n",
       "      <td>0.0</td>\n",
       "      <td>39.9</td>\n",
       "      <td>30 - 50</td>\n",
       "      <td>0.0</td>\n",
       "      <td>NaN</td>\n",
       "      <td>nikka from barrel 50 cl 51.4deg - 1</td>\n",
       "      <td>3</td>\n",
       "      <td>cdiscount</td>\n",
       "      <td>1</td>\n",
       "    </tr>\n",
       "    <tr>\n",
       "      <th>99</th>\n",
       "      <td>rhum j.m</td>\n",
       "      <td>rhum</td>\n",
       "      <td>2.0</td>\n",
       "      <td>1532841</td>\n",
       "      <td>762565</td>\n",
       "      <td>1.0</td>\n",
       "      <td>1.0</td>\n",
       "      <td>1.0</td>\n",
       "      <td>NaN</td>\n",
       "      <td>1.0</td>\n",
       "      <td>...</td>\n",
       "      <td>23.1</td>\n",
       "      <td>4.5</td>\n",
       "      <td>38.5</td>\n",
       "      <td>30 - 50</td>\n",
       "      <td>0.0</td>\n",
       "      <td>carte</td>\n",
       "      <td>rhum single cask millesime 2008 - 50 cl</td>\n",
       "      <td>3</td>\n",
       "      <td>vente-privee</td>\n",
       "      <td>1</td>\n",
       "    </tr>\n",
       "    <tr>\n",
       "      <th>...</th>\n",
       "      <td>...</td>\n",
       "      <td>...</td>\n",
       "      <td>...</td>\n",
       "      <td>...</td>\n",
       "      <td>...</td>\n",
       "      <td>...</td>\n",
       "      <td>...</td>\n",
       "      <td>...</td>\n",
       "      <td>...</td>\n",
       "      <td>...</td>\n",
       "      <td>...</td>\n",
       "      <td>...</td>\n",
       "      <td>...</td>\n",
       "      <td>...</td>\n",
       "      <td>...</td>\n",
       "      <td>...</td>\n",
       "      <td>...</td>\n",
       "      <td>...</td>\n",
       "      <td>...</td>\n",
       "      <td>...</td>\n",
       "      <td>...</td>\n",
       "    </tr>\n",
       "    <tr>\n",
       "      <th>9729</th>\n",
       "      <td>foire aux vins</td>\n",
       "      <td>vin</td>\n",
       "      <td>1.0</td>\n",
       "      <td>72862470</td>\n",
       "      <td>39896338</td>\n",
       "      <td>1.0</td>\n",
       "      <td>1.0</td>\n",
       "      <td>1.0</td>\n",
       "      <td>1.0</td>\n",
       "      <td>1.0</td>\n",
       "      <td>...</td>\n",
       "      <td>31.0</td>\n",
       "      <td>6.0</td>\n",
       "      <td>62.0</td>\n",
       "      <td>50 - 100</td>\n",
       "      <td>10.0</td>\n",
       "      <td>carte</td>\n",
       "      <td>roccheviberti|barbera d'alba doc, italie, vign...</td>\n",
       "      <td>9</td>\n",
       "      <td>foire aux vins</td>\n",
       "      <td>2</td>\n",
       "    </tr>\n",
       "    <tr>\n",
       "      <th>9730</th>\n",
       "      <td>NaN</td>\n",
       "      <td>whisky</td>\n",
       "      <td>1.0</td>\n",
       "      <td>72893916</td>\n",
       "      <td>39916163</td>\n",
       "      <td>1.0</td>\n",
       "      <td>1.0</td>\n",
       "      <td>NaN</td>\n",
       "      <td>NaN</td>\n",
       "      <td>NaN</td>\n",
       "      <td>...</td>\n",
       "      <td>22.5</td>\n",
       "      <td>0.0</td>\n",
       "      <td>254.3</td>\n",
       "      <td>200 - 500</td>\n",
       "      <td>0.0</td>\n",
       "      <td>amex</td>\n",
       "      <td>nikka whisky from the barrel 50 cl</td>\n",
       "      <td>47</td>\n",
       "      <td>vvs drinks</td>\n",
       "      <td>5</td>\n",
       "    </tr>\n",
       "    <tr>\n",
       "      <th>9731</th>\n",
       "      <td>NaN</td>\n",
       "      <td>rhum</td>\n",
       "      <td>1.0</td>\n",
       "      <td>72893979</td>\n",
       "      <td>39916163</td>\n",
       "      <td>1.0</td>\n",
       "      <td>1.0</td>\n",
       "      <td>NaN</td>\n",
       "      <td>NaN</td>\n",
       "      <td>NaN</td>\n",
       "      <td>...</td>\n",
       "      <td>19.5</td>\n",
       "      <td>0.0</td>\n",
       "      <td>254.3</td>\n",
       "      <td>200 - 500</td>\n",
       "      <td>0.0</td>\n",
       "      <td>amex</td>\n",
       "      <td>don papa rhum 70 cl</td>\n",
       "      <td>47</td>\n",
       "      <td>vvs drinks</td>\n",
       "      <td>5</td>\n",
       "    </tr>\n",
       "    <tr>\n",
       "      <th>9732</th>\n",
       "      <td>NaN</td>\n",
       "      <td>rhum</td>\n",
       "      <td>1.0</td>\n",
       "      <td>72903996</td>\n",
       "      <td>39922326</td>\n",
       "      <td>1.0</td>\n",
       "      <td>1.0</td>\n",
       "      <td>NaN</td>\n",
       "      <td>NaN</td>\n",
       "      <td>NaN</td>\n",
       "      <td>...</td>\n",
       "      <td>36.7</td>\n",
       "      <td>9.5</td>\n",
       "      <td>73.4</td>\n",
       "      <td>50 - 100</td>\n",
       "      <td>0.0</td>\n",
       "      <td>visa</td>\n",
       "      <td>damoiseau vieux avec emballage cadeau xo rhum ...</td>\n",
       "      <td>2</td>\n",
       "      <td>la boutique du comptoir</td>\n",
       "      <td>1</td>\n",
       "    </tr>\n",
       "    <tr>\n",
       "      <th>9737</th>\n",
       "      <td>mixologie</td>\n",
       "      <td>gin</td>\n",
       "      <td>1.0</td>\n",
       "      <td>72105295</td>\n",
       "      <td>39464336</td>\n",
       "      <td>1.0</td>\n",
       "      <td>1.0</td>\n",
       "      <td>NaN</td>\n",
       "      <td>NaN</td>\n",
       "      <td>NaN</td>\n",
       "      <td>...</td>\n",
       "      <td>41.0</td>\n",
       "      <td>4.0</td>\n",
       "      <td>41.0</td>\n",
       "      <td>30 - 50</td>\n",
       "      <td>0.0</td>\n",
       "      <td>carte</td>\n",
       "      <td>coffret gin gold 70 cl + 4 bouteilles de ledge...</td>\n",
       "      <td>3</td>\n",
       "      <td>mixologie</td>\n",
       "      <td>1</td>\n",
       "    </tr>\n",
       "  </tbody>\n",
       "</table>\n",
       "<p>6063 rows × 32 columns</p>\n",
       "</div>"
      ],
      "text/plain": [
       "          brand_name            category_2  customer_gender  id_flat_table  \\\n",
       "95       crazy horse  champagne & crémants              2.0        1645486   \n",
       "96       jose cuervo     autres & liqueurs              1.0        1751808   \n",
       "97               NaN                   NaN              1.0        2034296   \n",
       "98             nikka                whisky              2.0        1333448   \n",
       "99          rhum j.m                  rhum              2.0        1532841   \n",
       "...              ...                   ...              ...            ...   \n",
       "9729  foire aux vins                   vin              1.0       72862470   \n",
       "9730             NaN                whisky              1.0       72893916   \n",
       "9731             NaN                  rhum              1.0       72893979   \n",
       "9732             NaN                  rhum              1.0       72903996   \n",
       "9737       mixologie                   gin              1.0       72105295   \n",
       "\n",
       "      id_order  is_customer_amazon_2016  is_customer_amazon_2018  \\\n",
       "95      820206                      1.0                      1.0   \n",
       "96      879531                      1.0                      1.0   \n",
       "97     1025905                      1.0                      1.0   \n",
       "98      661337                      1.0                      1.0   \n",
       "99      762565                      1.0                      1.0   \n",
       "...        ...                      ...                      ...   \n",
       "9729  39896338                      1.0                      1.0   \n",
       "9730  39916163                      1.0                      1.0   \n",
       "9731  39916163                      1.0                      1.0   \n",
       "9732  39922326                      1.0                      1.0   \n",
       "9737  39464336                      1.0                      1.0   \n",
       "\n",
       "      is_customer_cdiscount_2016  is_customer_cdiscount_2018  \\\n",
       "95                           NaN                         NaN   \n",
       "96                           1.0                         NaN   \n",
       "97                           NaN                         NaN   \n",
       "98                           1.0                         NaN   \n",
       "99                           1.0                         NaN   \n",
       "...                          ...                         ...   \n",
       "9729                         1.0                         1.0   \n",
       "9730                         NaN                         NaN   \n",
       "9731                         NaN                         NaN   \n",
       "9732                         NaN                         NaN   \n",
       "9737                         NaN                         NaN   \n",
       "\n",
       "      is_customer_venteprivee_2016  ...  \\\n",
       "95                             1.0  ...   \n",
       "96                             NaN  ...   \n",
       "97                             NaN  ...   \n",
       "98                             1.0  ...   \n",
       "99                             1.0  ...   \n",
       "...                            ...  ...   \n",
       "9729                           1.0  ...   \n",
       "9730                           NaN  ...   \n",
       "9731                           NaN  ...   \n",
       "9732                           NaN  ...   \n",
       "9737                           NaN  ...   \n",
       "\n",
       "      order_item_total_price_paid_with_contributions_ponderated  \\\n",
       "95                                                390.0           \n",
       "96                                                 40.0           \n",
       "97                                                 34.4           \n",
       "98                                                103.7           \n",
       "99                                                 23.1           \n",
       "...                                                 ...           \n",
       "9729                                               31.0           \n",
       "9730                                               22.5           \n",
       "9731                                               19.5           \n",
       "9732                                               36.7           \n",
       "9737                                               41.0           \n",
       "\n",
       "     order_total_fees order_total_paid order_total_paid_price_range  \\\n",
       "95                0.0            150.0                    100 - 200   \n",
       "96                0.0             29.9                      15 - 30   \n",
       "97               10.5             68.8                     50 - 100   \n",
       "98                0.0             39.9                      30 - 50   \n",
       "99                4.5             38.5                      30 - 50   \n",
       "...               ...              ...                          ...   \n",
       "9729              6.0             62.0                     50 - 100   \n",
       "9730              0.0            254.3                    200 - 500   \n",
       "9731              0.0            254.3                    200 - 500   \n",
       "9732              9.5             73.4                     50 - 100   \n",
       "9737              4.0             41.0                      30 - 50   \n",
       "\n",
       "      order_total_promo  payment_method_name  \\\n",
       "95                  0.0                carte   \n",
       "96                  0.0                 visa   \n",
       "97                  0.0                 visa   \n",
       "98                  0.0                  NaN   \n",
       "99                  0.0                carte   \n",
       "...                 ...                  ...   \n",
       "9729               10.0                carte   \n",
       "9730                0.0                 amex   \n",
       "9731                0.0                 amex   \n",
       "9732                0.0                 visa   \n",
       "9737                0.0                carte   \n",
       "\n",
       "                                           product_name  \\\n",
       "95    billet open - show + 1/2 bouteille de champagn...   \n",
       "96       jose cuervo tequila jose cuervo reposado 70 cl   \n",
       "97               arcane - extraroma en coffret 2 verres   \n",
       "98                  nikka from barrel 50 cl 51.4deg - 1   \n",
       "99              rhum single cask millesime 2008 - 50 cl   \n",
       "...                                                 ...   \n",
       "9729  roccheviberti|barbera d'alba doc, italie, vign...   \n",
       "9730                 nikka whisky from the barrel 50 cl   \n",
       "9731                                don papa rhum 70 cl   \n",
       "9732  damoiseau vieux avec emballage cadeau xo rhum ...   \n",
       "9737  coffret gin gold 70 cl + 4 bouteilles de ledge...   \n",
       "\n",
       "      rank_merchant_customer              seller_name  \\\n",
       "95                         1              crazy horse   \n",
       "96                        10                   amazon   \n",
       "97                         5           excellencerhum   \n",
       "98                         3                cdiscount   \n",
       "99                         3             vente-privee   \n",
       "...                      ...                      ...   \n",
       "9729                       9           foire aux vins   \n",
       "9730                      47               vvs drinks   \n",
       "9731                      47               vvs drinks   \n",
       "9732                       2  la boutique du comptoir   \n",
       "9737                       3                mixologie   \n",
       "\n",
       "     total_order_item_quantity_per_order  \n",
       "95                                     2  \n",
       "96                                     2  \n",
       "97                                     1  \n",
       "98                                     1  \n",
       "99                                     1  \n",
       "...                                  ...  \n",
       "9729                                   2  \n",
       "9730                                   5  \n",
       "9731                                   5  \n",
       "9732                                   1  \n",
       "9737                                   1  \n",
       "\n",
       "[6063 rows x 32 columns]"
      ]
     },
     "execution_count": 14,
     "metadata": {},
     "output_type": "execute_result"
    }
   ],
   "source": [
    "data[keys_2]"
   ]
  },
  {
   "cell_type": "markdown",
   "metadata": {},
   "source": [
    "C'est en effet bien le cas, **6063** articles commandés sont liés à des clients qui ont été clients d'Amazon en 2016 et en 2018. Cette phase d'observation nous a permis de mieux comprendre la potentielle utilité de ces colonnes. Elles pourront notamment nous être utiles dans le calcul de la part de portefeuille."
   ]
  },
  {
   "cell_type": "markdown",
   "metadata": {},
   "source": [
    "## 1.4.2. Etude des doublons de commandes "
   ]
  },
  {
   "cell_type": "markdown",
   "metadata": {},
   "source": [
    "A présent, nous allons vérifier si le dataset **ne contient pas de doublons** au niveau des commandes d'articles. Pour les identifier, nous allons **combiner plusieurs critères** qui ensemble peuvent être définis comme uniques pour une transaction. Ainsi, j'ai choisi de combiner les critères suivants : \n",
    "- La date de la transaction \n",
    "- Le numéro de commande\n",
    "- Le montant total de la commande payé\n",
    "- La quantité d'articles commandés\n",
    "- Le nom du produit commandé\n",
    "\n",
    "En effet, la probabilité de l'occurence de plusieurs commandes avec l'ensemble ces critères réunis à l'identique est **quasiment nulle**. "
   ]
  },
  {
   "cell_type": "code",
   "execution_count": 15,
   "metadata": {},
   "outputs": [],
   "source": [
    "keys_3 = ['order_datetime', 'id_order', 'order_total_paid','order_item_quantity','product_name']"
   ]
  },
  {
   "cell_type": "code",
   "execution_count": 16,
   "metadata": {},
   "outputs": [
    {
     "data": {
      "text/plain": [
       "order_datetime  id_order  order_total_paid  order_item_quantity  product_name                                                                                                                                                                                \n",
       "2016-05-03      36021664  95.0              1                    dors-bien | rouge                                                                                                                                                                               2\n",
       "2018-02-22      7660831   297.8             1                    boite 6 flutes canard duchene                                                                                                                                                                   2\n",
       "2018-01-21      7660836   388.9             1                    boite 6 flutes canard duchene                                                                                                                                                                   2\n",
       "2018-12-18      34312088  65.0              1                    vin - chateauneuf-du-pape la fiole nv rouge                                                                                                                                                     2\n",
       "2018-11-23      32386907  36.0              1                    chateau laffitte laujac - 2011- grand vin rouge de bordeaux medoc - aop medoc 2011-88/100 - crus bourgeois en 1932 - medaille d'or concours international des cabernets 2015                    2\n",
       "2018-10-26      29351401  15.8              1                    et si nous devenions immortels ?: comment la technomedecine va bouleverser l humanite                                                                                                           2\n",
       "2016-09-28      13248388  12.8              1                    freixenet cava cordon negro brut 75 cl                                                                                                                                                          2\n",
       "2016-11-19      7909962   52.0              1                    sobieski menthe blanche 70cl                                                                                                                                                                    2\n",
       "2016-03-26      3460099   56.0              1                    calecon | noir, blanc - t. m                                                                                                                                                                    2\n",
       "2018-11-26      32533779  70.0              1                    pack decouverte - 12 bieres artisanales francaises 33cl. - big bang beers - artisan brasseur - interstel'loire, alpha lyrae, solar flare, red shift, the second law, andromeda, rogue planet    2\n",
       "2016-05-03      7336738   32.5              1                    dors-bien | gris, blanc                                                                                                                                                                         2\n",
       "2016-12-08      8548219   14.2              1                    storck toffifee 48 pcs                                                                                                                                                                          1\n",
       "                22565345  357.9             1                    ayala brut majeur x6 - 2                                                                                                                                                                        1\n",
       "                8548221   31.8              2                    storck toffifee 48 pcs                                                                                                                                                                          1\n",
       "                8548220   14.9              1                    storck toffifee 48 pcs                                                                                                                                                                          1\n",
       "2018-12-31      40155330  10.0              1                    une blague par jour de bigard 2019                                                                                                                                                              1\n",
       "2016-12-08      8548218   14.9              1                    storck toffifee 48 pcs                                                                                                                                                                          1\n",
       "                6607522   30.0              1                    coffret du chasseur vin avec accessoires - 1                                                                                                                                                    1\n",
       "                2280959   83.3              6                    champagne joly de trebuis x1 - 1                                                                                                                                                                1\n",
       "                22565345  357.9             6                    champagne jacquesson cuvee ndeg739                                                                                                                                                              1\n",
       "Name: id_flat_table, dtype: int64"
      ]
     },
     "execution_count": 16,
     "metadata": {},
     "output_type": "execute_result"
    }
   ],
   "source": [
    "data.fillna(-999).groupby(keys_3)['id_flat_table'].count().sort_values(ascending=False).head(20)"
   ]
  },
  {
   "cell_type": "markdown",
   "metadata": {},
   "source": [
    "Nous pouvons observer que sur la base de la combinaison de ces critères, le dataset contient **11 doublons** que nous allons supprimer."
   ]
  },
  {
   "cell_type": "code",
   "execution_count": 17,
   "metadata": {},
   "outputs": [],
   "source": [
    "data = data.drop_duplicates(subset=keys_3)"
   ]
  },
  {
   "cell_type": "markdown",
   "metadata": {},
   "source": [
    "## 1.4.3. Etudes des données de prix"
   ]
  },
  {
   "cell_type": "markdown",
   "metadata": {},
   "source": [
    "Le dataset contient plusieurs colonnes donnant des informations sur la **décomposition du prix d'une commande** :\n",
    "- *order_item_total_price_paid*\n",
    "- *order_item_total_price_paid_with_contributions*\n",
    "- *order_item_total_price_paid_with_contributions_coef*\n",
    "- *order_item_total_price_paid_with_contributions_ponderated*\n",
    "- *order_total_paid*\n",
    "\n",
    "A priori, d'après le nom des colonnes, une commande réalisée sur l'une des 3 marketplaces est susceptible de comprendre une **contribution** en plus du prix de l'article vendu, au titre de la rémunération de la plateforme pour le référencement de l'article. Puis, le nouveau prix comprenant la contribution serait **pondéré** pour générer un nouveau prix. \n",
    "\n",
    "Explorons ces colonnes plus en détail pour bien comprendre leur mode de calcul et les paramètres qui les influencent. En effet, la bonne compréhension de ces éléments va notamment impacter **notre évaluation des parts de marché en valeur de chaque marchant**.\n",
    "\n",
    "Par ailleurs, je fais l'hypothèse d'après les intitulés de commande que le **montant de la contribution payée par le vendeur de l'article à la marketplace** se calcule de la manière suivante : *contributions* = *order_item_total_price_paid_with_contributions* - *order_item_total_price_paid* et donc que le pourcentage de contribution d'établit comme suit : *% contributions* = *contributions* / *order_item_total_price_paid*.\n",
    "\n",
    "Théoriquement, il serait logique d'observer une contribution dans le prix de vente de la marchandise **lorsque le vendeur de la marchandise (*seller_name*) diffère du site marchand (apparaissant dans la colonne *merchant_name*)** (nommés *vendeurs non marchands* par la suite). Vérifions si c'est bien le cas. "
   ]
  },
  {
   "cell_type": "code",
   "execution_count": 18,
   "metadata": {},
   "outputs": [],
   "source": [
    "non_mktplace_seller = data[(data['seller_name']!= 'amazon') & (data['seller_name']!= 'cdiscount') & (data['seller_name']!= 'vente-privee')]\n",
    "non_mktplace_seller['contribution'] = non_mktplace_seller['order_item_total_price_paid_with_contributions'] - non_mktplace_seller['order_item_total_price_paid']"
   ]
  },
  {
   "cell_type": "code",
   "execution_count": 19,
   "metadata": {},
   "outputs": [
    {
     "data": {
      "image/png": "[encoded data removed]",
      "text/plain": [
       "<Figure size 864x432 with 1 Axes>"
      ]
     },
     "metadata": {
      "needs_background": "light"
     },
     "output_type": "display_data"
    }
   ],
   "source": [
    "plt.figure(figsize=(12,6))\n",
    "fig = sns.distplot(non_mktplace_seller['contribution'], kde=False, rug=True, color = '#EF8B61')\n",
    "fig.figure.suptitle(\"Distribution du montant des contributions dans l'échantillon des vendeurs non marchands\", fontsize = 18) \n",
    "plt.xlabel('Montant des contributions', fontsize=15) \n",
    "plt.ylabel('Fréquence', fontsize=15) \n",
    "plt.show()"
   ]
  },
  {
   "cell_type": "code",
   "execution_count": 20,
   "metadata": {},
   "outputs": [],
   "source": [
    "contributions_pos = (non_mktplace_seller[non_mktplace_seller['contribution'] > 0]['contribution'].count()/(non_mktplace_seller['contribution'].count()))*100\n",
    "contributions_nulles = (non_mktplace_seller[non_mktplace_seller['contribution'] == 0]['contribution'].count()/(non_mktplace_seller['contribution'].count()))*100\n",
    "contributions_neg = (non_mktplace_seller[non_mktplace_seller['contribution'] < 0]['contribution'].count()/(non_mktplace_seller['contribution'].count()))*100\n",
    "df_contributions_non_mktplace_seller_pct = pd.DataFrame({ 'Positives' : contributions_pos, 'Nulles' : contributions_nulles,\n",
    "                            'Négatives' : contributions_neg\n",
    "                           }, index=[0])"
   ]
  },
  {
   "cell_type": "code",
   "execution_count": 21,
   "metadata": {},
   "outputs": [
    {
     "data": {
      "text/plain": [
       "<Figure size 864x432 with 0 Axes>"
      ]
     },
     "metadata": {},
     "output_type": "display_data"
    },
    {
     "data": {
      "image/png": "[encoded data removed]",
      "text/plain": [
       "<Figure size 432x288 with 1 Axes>"
      ]
     },
     "metadata": {
      "needs_background": "light"
     },
     "output_type": "display_data"
    }
   ],
   "source": [
    "plt.figure(figsize=(12,6))\n",
    "fig = df_contributions_non_mktplace_seller_pct.plot.bar()\n",
    "fig.figure.suptitle(\"Contributions au sein de l'échantillon des vendeurs non marchands\", fontsize = 15) \n",
    "plt.xlabel('Répartition des contributions postives et négatives',fontsize = 10)\n",
    "plt.ylabel('Proportion (%)',fontsize = 10)\n",
    "plt.show()"
   ]
  },
  {
   "cell_type": "code",
   "execution_count": 22,
   "metadata": {},
   "outputs": [
    {
     "data": {
      "text/html": [
       "<div>\n",
       "<style scoped>\n",
       "    .dataframe tbody tr th:only-of-type {\n",
       "        vertical-align: middle;\n",
       "    }\n",
       "\n",
       "    .dataframe tbody tr th {\n",
       "        vertical-align: top;\n",
       "    }\n",
       "\n",
       "    .dataframe thead th {\n",
       "        text-align: right;\n",
       "    }\n",
       "</style>\n",
       "<table border=\"1\" class=\"dataframe\">\n",
       "  <thead>\n",
       "    <tr style=\"text-align: right;\">\n",
       "      <th></th>\n",
       "      <th>Positives</th>\n",
       "      <th>Nulles</th>\n",
       "      <th>Négatives</th>\n",
       "    </tr>\n",
       "  </thead>\n",
       "  <tbody>\n",
       "    <tr>\n",
       "      <th>0</th>\n",
       "      <td>75.308396</td>\n",
       "      <td>21.468365</td>\n",
       "      <td>3.223239</td>\n",
       "    </tr>\n",
       "  </tbody>\n",
       "</table>\n",
       "</div>"
      ],
      "text/plain": [
       "   Positives     Nulles  Négatives\n",
       "0  75.308396  21.468365   3.223239"
      ]
     },
     "execution_count": 22,
     "metadata": {},
     "output_type": "execute_result"
    }
   ],
   "source": [
    "df_contributions_non_mktplace_seller_pct"
   ]
  },
  {
   "cell_type": "code",
   "execution_count": 23,
   "metadata": {},
   "outputs": [
    {
     "data": {
      "text/plain": [
       "count    5026.000000\n",
       "mean        3.111142\n",
       "std         4.730688\n",
       "min       -70.000000\n",
       "25%         0.200000\n",
       "50%         2.500000\n",
       "75%         5.000000\n",
       "max        75.500000\n",
       "Name: contribution, dtype: float64"
      ]
     },
     "execution_count": 23,
     "metadata": {},
     "output_type": "execute_result"
    }
   ],
   "source": [
    "non_mktplace_seller['contribution'].describe()"
   ]
  },
  {
   "cell_type": "markdown",
   "metadata": {},
   "source": [
    "Les statistiques ci-dessus décrivent le montant des contributions dans **l'échantillon des vendeurs non marchands**. Les contributions sont d'une valeur moyenne de environ **3€** par article commandé.\n",
    "\n",
    "En revanche, on constate **la présence de contributions négatives** à l'aide du graphique de distribution ci-dessus. Par définition, une contribution ne peut pas être négative car cela signifierait que le site marchand paye le vendeur pour référencer ses produits ce qui va à l'encontre de son business model. Parmi l'échantillon, **162 articles commandés** présentent des contributions négatives, soit **3,22% de l'échantillon**. Maintenant, regardons de plus près ce qu'il en est pour les articles vendus par les marketplaces directement pour vérifier si notre hypothèse est vérifiée."
   ]
  },
  {
   "cell_type": "code",
   "execution_count": 24,
   "metadata": {},
   "outputs": [],
   "source": [
    "seller_vp = data[(data['seller_name']=='vente-privee')]\n",
    "seller_amz = data[(data['seller_name']=='amazon')]\n",
    "seller_cdiscount = data[(data['seller_name']=='cdiscount')]\n",
    "mktplace_seller = pd.concat([seller_vp,seller_amz,seller_cdiscount])"
   ]
  },
  {
   "cell_type": "code",
   "execution_count": 25,
   "metadata": {},
   "outputs": [],
   "source": [
    "mktplace_seller['contribution'] = mktplace_seller['order_item_total_price_paid_with_contributions'] - mktplace_seller['order_item_total_price_paid']"
   ]
  },
  {
   "cell_type": "code",
   "execution_count": 26,
   "metadata": {},
   "outputs": [
    {
     "data": {
      "image/png": "[encoded data removed]",
      "text/plain": [
       "<Figure size 864x432 with 1 Axes>"
      ]
     },
     "metadata": {
      "needs_background": "light"
     },
     "output_type": "display_data"
    }
   ],
   "source": [
    "plt.figure(figsize=(12,6))\n",
    "fig = sns.distplot(mktplace_seller['contribution'], kde=False, rug=True, color = '#EF8B61')\n",
    "fig.figure.suptitle(\"Distribution du montant des contributions dans l'échantillon des vendeurs marchands\", fontsize = 18) \n",
    "plt.xlabel('Montant des contributions', fontsize=15) \n",
    "plt.ylabel('Fréquence', fontsize=15) \n",
    "plt.show()"
   ]
  },
  {
   "cell_type": "code",
   "execution_count": 27,
   "metadata": {},
   "outputs": [
    {
     "data": {
      "text/plain": [
       "count    4702.000000\n",
       "mean       -0.560315\n",
       "std         6.518024\n",
       "min      -102.000000\n",
       "25%         0.000000\n",
       "50%         0.000000\n",
       "75%         0.000000\n",
       "max        75.500000\n",
       "Name: contribution, dtype: float64"
      ]
     },
     "execution_count": 27,
     "metadata": {},
     "output_type": "execute_result"
    }
   ],
   "source": [
    "mktplace_seller['contribution'].describe()"
   ]
  },
  {
   "cell_type": "code",
   "execution_count": 28,
   "metadata": {},
   "outputs": [],
   "source": [
    "contributions_pos_1 = (mktplace_seller[mktplace_seller['contribution'] > 0]['contribution'].count()/(mktplace_seller['contribution'].count()))*100\n",
    "contributions_nulles_1 = (mktplace_seller[mktplace_seller['contribution'] == 0]['contribution'].count()/(mktplace_seller['contribution'].count())*100)\n",
    "contributions_neg_1 = (mktplace_seller[mktplace_seller['contribution'] < 0]['contribution'].count()/(mktplace_seller['contribution'].count())*100)\n",
    "df_contributions_mktplace_seller_pct = pd.DataFrame({ 'Positives' : contributions_pos_1, \"Nulles\" : contributions_nulles_1,\n",
    "                            'Négatives' : contributions_neg_1\n",
    "                           }, index=[0])"
   ]
  },
  {
   "cell_type": "code",
   "execution_count": 29,
   "metadata": {},
   "outputs": [
    {
     "data": {
      "text/plain": [
       "<Figure size 864x432 with 0 Axes>"
      ]
     },
     "metadata": {},
     "output_type": "display_data"
    },
    {
     "data": {
      "image/png": "[encoded data removed]",
      "text/plain": [
       "<Figure size 432x288 with 1 Axes>"
      ]
     },
     "metadata": {
      "needs_background": "light"
     },
     "output_type": "display_data"
    }
   ],
   "source": [
    "plt.figure(figsize=(12,6))\n",
    "fig = df_contributions_mktplace_seller_pct.plot.bar()\n",
    "fig.figure.suptitle(\"Contributions au sein de l'échantillon des vendeurs marchands\", fontsize = 15) \n",
    "plt.xlabel('Répartition des contributions postives et négatives',fontsize = 10)\n",
    "plt.ylabel('Proportion (%)',fontsize = 10)\n",
    "plt.show()"
   ]
  },
  {
   "cell_type": "code",
   "execution_count": 30,
   "metadata": {},
   "outputs": [
    {
     "data": {
      "text/html": [
       "<div>\n",
       "<style scoped>\n",
       "    .dataframe tbody tr th:only-of-type {\n",
       "        vertical-align: middle;\n",
       "    }\n",
       "\n",
       "    .dataframe tbody tr th {\n",
       "        vertical-align: top;\n",
       "    }\n",
       "\n",
       "    .dataframe thead th {\n",
       "        text-align: right;\n",
       "    }\n",
       "</style>\n",
       "<table border=\"1\" class=\"dataframe\">\n",
       "  <thead>\n",
       "    <tr style=\"text-align: right;\">\n",
       "      <th></th>\n",
       "      <th>Positives</th>\n",
       "      <th>Nulles</th>\n",
       "      <th>Négatives</th>\n",
       "    </tr>\n",
       "  </thead>\n",
       "  <tbody>\n",
       "    <tr>\n",
       "      <th>0</th>\n",
       "      <td>22.394726</td>\n",
       "      <td>58.889834</td>\n",
       "      <td>18.71544</td>\n",
       "    </tr>\n",
       "  </tbody>\n",
       "</table>\n",
       "</div>"
      ],
      "text/plain": [
       "   Positives     Nulles  Négatives\n",
       "0  22.394726  58.889834   18.71544"
      ]
     },
     "execution_count": 30,
     "metadata": {},
     "output_type": "execute_result"
    }
   ],
   "source": [
    "df_contributions_mktplace_seller_pct"
   ]
  },
  {
   "cell_type": "markdown",
   "metadata": {},
   "source": [
    "Les statistiques ci-dessus décrivent le montant des contributions dans **l'échantillon des vendeurs marchands**.\n",
    "\n",
    "Sans surprise nous observons grâce au graphique de distribution ci-dessus que le nombre d'articles commandés avec une **contribution nulle** pour cet échantillon est majoritaire (**59% de l'échantillon**), appuyant donc notre hypothèse de départ.\n",
    "\n",
    "En revanche, nous observons qu'un certain nombre d'articles vendus présente des commissions négatives au sein de l'échantillon, justifiant notamment la valeur moyenne des contributions de l'échantillon à hauteur de **-0,56€** par article commandé. De même que pour l'échantillon des vendeurs non marchands, il n'est pas logique de constater des contributions négatives. **880 articles commandés** sont concernés par ce défaut au sein de l'échantillon.\n",
    "\n",
    "D'autre part, nous pouvons observer également des **contributions positives** pour l'échantillon des vendeurs marchands (**22% de l'échantillon**). Ce paramètre ne semble pas logique selon notre approche. Cependant, au risque de supprimer un nombre trop important de données, nous n'allons pas les supprimer ou les modifier pour rester conservateurs.\n",
    "\n",
    "Au global, parmi les deux échantillons combinés, **1042 articles commandés** (**11% du dataset**) présentent des commissions négatives. \n",
    "\n",
    "Avant d'envisager de supprimer ces données de commande, explorons plus en détail **le coefficient de pondération** appliqué au prix comprenant les contributions afin de vérifier s'il ajuste les articles commandés présentant des contributions négatives. Nous chercherons également à comprendre **les paramètres qui le définisse** et son importance dans le calcul du prix final."
   ]
  },
  {
   "cell_type": "markdown",
   "metadata": {},
   "source": [
    "## 1.4.4. Etude du coefficient de pondération appliqué au prix commissionné"
   ]
  },
  {
   "cell_type": "code",
   "execution_count": 31,
   "metadata": {},
   "outputs": [
    {
     "data": {
      "image/png": "[encoded data removed]",
      "text/plain": [
       "<Figure size 864x432 with 1 Axes>"
      ]
     },
     "metadata": {
      "needs_background": "light"
     },
     "output_type": "display_data"
    }
   ],
   "source": [
    "plt.figure(figsize=(12,6))\n",
    "fig = data['order_item_total_price_paid_with_contributions_coef'].value_counts().plot(kind='barh', color = '#EF8B61')\n",
    "fig.figure.suptitle(\"Distribution des coefficients de pondération appliqués aux prix avec contribution\", fontsize = 18) \n",
    "plt.xlabel('Fréquence', fontsize=15) \n",
    "plt.ylabel('Coefficients de pondération', fontsize=15) \n",
    "plt.show()"
   ]
  },
  {
   "cell_type": "markdown",
   "metadata": {},
   "source": [
    "Au sein du dataset, nous pouvons oberver qu'il existe **5 coefficients de pondération** différents appliqués au prix avec contribution, respectivement par **ordre de fréquence** : 2.0, 2.6, 1.0, 0.5 et 0.6.\n",
    "\n",
    "Pour mieux comprendre les paramètres déterminant le choix du coefficient appliqué à un prix, j'ai choisi d'évaluer les hypothèses suivantes :  \n",
    "- **Hypothèse 1 :** La sous-catégorie auquel l'article commandé appartient (*category_2*). On pourrait imaginer que certains produits coûtent plus cher au référencement sur une plateforme de e-commerce en raison de leurs caractéristiques, justifiant une pondération du prix avec contribution plus élevé ;\n",
    "- **Hypothèse 2 :** La rangée de prix dans laquelle la commande s'inscrit (*order_total_paid_price_range*). Dans cette hypothèse, on suppose que la pondération de prix avec constribution augmente avec le prix de l'article commandé ;"
   ]
  },
  {
   "cell_type": "markdown",
   "metadata": {},
   "source": [
    "### 1.4.1.1. Vue d'ensemble"
   ]
  },
  {
   "cell_type": "markdown",
   "metadata": {},
   "source": [
    "Tout d'abord, prenons un peu de recul à l'aide de cette matrice évaluant la corrélation entre chacune des variables du dataset. Plus la couleur de l'intersection est **verte foncée**, plus les deux variables sont corrélées **positivement**. Inversement, plus la couleur est **rouge foncée**, plus les variables sont corrélées **négativement**. "
   ]
  },
  {
   "cell_type": "code",
   "execution_count": 32,
   "metadata": {},
   "outputs": [],
   "source": [
    "corr_table = data.loc[:, ~data.columns.isin(['is_customer_amazon_2016','is_customer_amazon_2018','is_customer_cdiscount_2016','is_customer_cdiscount_2018','is_customer_venteprivee_2016','is_customer_venteprivee_2018'])]\n",
    "corr = corr_table.corr()"
   ]
  },
  {
   "cell_type": "code",
   "execution_count": 33,
   "metadata": {},
   "outputs": [
    {
     "data": {
      "image/png": "[encoded data removed]",
      "text/plain": [
       "<Figure size 864x432 with 2 Axes>"
      ]
     },
     "metadata": {
      "needs_background": "light"
     },
     "output_type": "display_data"
    }
   ],
   "source": [
    "plt.figure(figsize=(12,6))\n",
    "fig = sns.heatmap(\n",
    "    corr, \n",
    "    vmin=-1, vmax=1, center=0,\n",
    "    cmap=sns.diverging_palette(20, 220, n=200),\n",
    "    square=True)\n",
    "fig.set_xticklabels(\n",
    "    fig.get_xticklabels(),\n",
    "    rotation=45,\n",
    "    horizontalalignment='right')\n",
    "fig.set_title('Matrice de corrélation des variables du dataset', fontsize = 18)\n",
    "plt.show()"
   ]
  },
  {
   "cell_type": "markdown",
   "metadata": {},
   "source": [
    "A première vue, d'après la matrice ci-dessus, **aucune des variables du dataset ne semble être directement corrélée à l'évolution du coefficient de pondération**. Allons plus loin en testant nos hypothèses."
   ]
  },
  {
   "cell_type": "markdown",
   "metadata": {},
   "source": [
    "### 1.4.1.2. Test des hypothèses"
   ]
  },
  {
   "cell_type": "markdown",
   "metadata": {},
   "source": [
    "#### Hypothèse 1"
   ]
  },
  {
   "cell_type": "markdown",
   "metadata": {},
   "source": [
    "Vérifions si l'une des 5 pondérations est systématiquement appliquée à chaque catégorie. Prenons l'exemple des articles commandés appartenant à la **sous-catégorie des bières**."
   ]
  },
  {
   "cell_type": "code",
   "execution_count": 34,
   "metadata": {},
   "outputs": [],
   "source": [
    "h1 = data[data['category_2']== 'bières']['order_item_total_price_paid_with_contributions_coef'].value_counts()"
   ]
  },
  {
   "cell_type": "code",
   "execution_count": 35,
   "metadata": {},
   "outputs": [
    {
     "data": {
      "text/html": [
       "<div>\n",
       "<style scoped>\n",
       "    .dataframe tbody tr th:only-of-type {\n",
       "        vertical-align: middle;\n",
       "    }\n",
       "\n",
       "    .dataframe tbody tr th {\n",
       "        vertical-align: top;\n",
       "    }\n",
       "\n",
       "    .dataframe thead th {\n",
       "        text-align: right;\n",
       "    }\n",
       "</style>\n",
       "<table border=\"1\" class=\"dataframe\">\n",
       "  <thead>\n",
       "    <tr style=\"text-align: right;\">\n",
       "      <th></th>\n",
       "      <th>Nombre d'articles</th>\n",
       "    </tr>\n",
       "  </thead>\n",
       "  <tbody>\n",
       "    <tr>\n",
       "      <th>2.0</th>\n",
       "      <td>238</td>\n",
       "    </tr>\n",
       "    <tr>\n",
       "      <th>1.0</th>\n",
       "      <td>99</td>\n",
       "    </tr>\n",
       "    <tr>\n",
       "      <th>0.5</th>\n",
       "      <td>92</td>\n",
       "    </tr>\n",
       "    <tr>\n",
       "      <th>2.6</th>\n",
       "      <td>69</td>\n",
       "    </tr>\n",
       "    <tr>\n",
       "      <th>0.6</th>\n",
       "      <td>27</td>\n",
       "    </tr>\n",
       "  </tbody>\n",
       "</table>\n",
       "</div>"
      ],
      "text/plain": [
       "     Nombre d'articles\n",
       "2.0                238\n",
       "1.0                 99\n",
       "0.5                 92\n",
       "2.6                 69\n",
       "0.6                 27"
      ]
     },
     "execution_count": 35,
     "metadata": {},
     "output_type": "execute_result"
    }
   ],
   "source": [
    "df_h1 = pd.DataFrame({\"Nombre d'articles\": h1})\n",
    "df_h1"
   ]
  },
  {
   "cell_type": "markdown",
   "metadata": {},
   "source": [
    "Nous pouvons constater que plusieurs coefficients de pondération peuvent être appliqués pour une même sous-catégorie. Inutile d'aller plus loin dans l'étude de la corrélation entre ces variables. **La première hypothèse est donc rejetée**."
   ]
  },
  {
   "cell_type": "markdown",
   "metadata": {},
   "source": [
    "#### Hypothèse 2"
   ]
  },
  {
   "cell_type": "markdown",
   "metadata": {},
   "source": [
    "Etudions à présent la seconde hypothèse. Nous cherchons à évaluer si le coefficient de pondération évolue selon la rangée de prix dans laquelle s'inscrit un article commandé. Prenons l'exemple des articles commandés dont le prix s'étalonne entre **50€ - 100€**, puis **0€ - 15€**."
   ]
  },
  {
   "cell_type": "code",
   "execution_count": 36,
   "metadata": {},
   "outputs": [],
   "source": [
    "h2 = data[data['order_total_paid_price_range']== '50 - 100']['order_item_total_price_paid_with_contributions_coef'].value_counts()"
   ]
  },
  {
   "cell_type": "code",
   "execution_count": 37,
   "metadata": {},
   "outputs": [],
   "source": [
    "h2_bis = data[data['order_total_paid_price_range']== '0 - 15']['order_item_total_price_paid_with_contributions_coef'].value_counts()"
   ]
  },
  {
   "cell_type": "code",
   "execution_count": 38,
   "metadata": {},
   "outputs": [
    {
     "data": {
      "text/html": [
       "<div>\n",
       "<style scoped>\n",
       "    .dataframe tbody tr th:only-of-type {\n",
       "        vertical-align: middle;\n",
       "    }\n",
       "\n",
       "    .dataframe tbody tr th {\n",
       "        vertical-align: top;\n",
       "    }\n",
       "\n",
       "    .dataframe thead th {\n",
       "        text-align: right;\n",
       "    }\n",
       "</style>\n",
       "<table border=\"1\" class=\"dataframe\">\n",
       "  <thead>\n",
       "    <tr style=\"text-align: right;\">\n",
       "      <th></th>\n",
       "      <th>0 - 15</th>\n",
       "      <th>50 - 100</th>\n",
       "    </tr>\n",
       "  </thead>\n",
       "  <tbody>\n",
       "    <tr>\n",
       "      <th>0.5</th>\n",
       "      <td>108</td>\n",
       "      <td>410</td>\n",
       "    </tr>\n",
       "    <tr>\n",
       "      <th>0.6</th>\n",
       "      <td>42</td>\n",
       "      <td>133</td>\n",
       "    </tr>\n",
       "    <tr>\n",
       "      <th>1.0</th>\n",
       "      <td>141</td>\n",
       "      <td>399</td>\n",
       "    </tr>\n",
       "    <tr>\n",
       "      <th>2.0</th>\n",
       "      <td>350</td>\n",
       "      <td>1159</td>\n",
       "    </tr>\n",
       "    <tr>\n",
       "      <th>2.6</th>\n",
       "      <td>145</td>\n",
       "      <td>468</td>\n",
       "    </tr>\n",
       "  </tbody>\n",
       "</table>\n",
       "</div>"
      ],
      "text/plain": [
       "     0 - 15  50 - 100\n",
       "0.5     108       410\n",
       "0.6      42       133\n",
       "1.0     141       399\n",
       "2.0     350      1159\n",
       "2.6     145       468"
      ]
     },
     "execution_count": 38,
     "metadata": {},
     "output_type": "execute_result"
    }
   ],
   "source": [
    "df_h2 = pd.DataFrame({\"0 - 15\": h2_bis,\n",
    "                      \"50 - 100\": h2\n",
    "                     })\n",
    "df_h2"
   ]
  },
  {
   "cell_type": "markdown",
   "metadata": {},
   "source": [
    "Nous pouvons constater qu'il existe plusieurs pondérations pour une même rangée de prix. En effet, les 5 coefficients sont appliqués dans nos deux exemples. **La seconde hypothèse est donc rejetée**."
   ]
  },
  {
   "cell_type": "markdown",
   "metadata": {},
   "source": [
    "En conclusion, malgré les deux hypothèses émises ci-dessus, je n'ai pas identifié les déterminants du coefficient du pondération appliqué au prix avec constribution d'une commande. J'ai donc choisi **d'exclure ce paramètre de l'analyse**, au risque de fausser mon interprétation des prix avec contribution pondérés. \n",
    "\n",
    "Pour gagner en lisibilité, je vais **supprimer les colonnes relatives à ce coefficient de pondération** (*order_item_total_price_paid_with_contributions_coef* et *order_item_total_price_paid_with_contributions_ponderated*)."
   ]
  },
  {
   "cell_type": "code",
   "execution_count": 39,
   "metadata": {},
   "outputs": [],
   "source": [
    "data = data.drop(columns=['order_item_total_price_paid_with_contributions_coef','order_item_total_price_paid_with_contributions_ponderated'])"
   ]
  },
  {
   "cell_type": "markdown",
   "metadata": {},
   "source": [
    "Dans cette optique, je vais compléter le dataset d'origine en **rajoutant une colonne dédiée au calcul des contributions (non pondérées) par article commandé, ainsi qu'une autre colonne calculant le pourcentage de contribution par article commandé**. J'ai préféré opter pour cette approche, n'ayant pas le détail de la colonne total fees, qui pourrait comprendre des coûts autres que les contributions et les frais de livraison."
   ]
  },
  {
   "cell_type": "code",
   "execution_count": 40,
   "metadata": {},
   "outputs": [],
   "source": [
    "data['contributions'] = data['order_item_total_price_paid_with_contributions'] - data['order_item_total_price_paid']"
   ]
  },
  {
   "cell_type": "code",
   "execution_count": 41,
   "metadata": {},
   "outputs": [],
   "source": [
    "data['coef_contributions (%)'] = round((data['contributions']/data['order_item_total_price_paid_with_contributions'])*100,3)"
   ]
  },
  {
   "cell_type": "markdown",
   "metadata": {},
   "source": [
    "Dans l'étude des données de prix, nous avons pu noter que certaines commandes comprenaient des contributions négatives. **Cet élément n'étant pas cohérent avec la réalité, j'ai choisi de supprimer du dataset les données de commande concernées par ce défaut**."
   ]
  },
  {
   "cell_type": "code",
   "execution_count": 42,
   "metadata": {},
   "outputs": [],
   "source": [
    "data = data[data['contributions'] >= 0]"
   ]
  },
  {
   "cell_type": "code",
   "execution_count": 43,
   "metadata": {},
   "outputs": [
    {
     "name": "stdout",
     "output_type": "stream",
     "text": [
      "<class 'pandas.core.frame.DataFrame'>\n",
      "Int64Index: 8686 entries, 0 to 9738\n",
      "Data columns (total 32 columns):\n",
      " #   Column                                          Non-Null Count  Dtype         \n",
      "---  ------                                          --------------  -----         \n",
      " 0   brand_name                                      5306 non-null   object        \n",
      " 1   category_2                                      6513 non-null   object        \n",
      " 2   customer_gender                                 8505 non-null   float64       \n",
      " 3   id_flat_table                                   8686 non-null   int64         \n",
      " 4   id_order                                        8686 non-null   int64         \n",
      " 5   is_customer_amazon_2016                         5815 non-null   float64       \n",
      " 6   is_customer_amazon_2018                         7062 non-null   float64       \n",
      " 7   is_customer_cdiscount_2016                      3081 non-null   float64       \n",
      " 8   is_customer_cdiscount_2018                      3504 non-null   float64       \n",
      " 9   is_customer_venteprivee_2016                    3776 non-null   float64       \n",
      " 10  is_customer_venteprivee_2018                    4346 non-null   float64       \n",
      " 11  merchant_name                                   8686 non-null   object        \n",
      " 12  order_currency                                  8686 non-null   object        \n",
      " 13  order_datetime                                  8686 non-null   datetime64[ns]\n",
      " 14  order_delivery_fee                              5075 non-null   float64       \n",
      " 15  order_distinct_item_quantity                    8686 non-null   int64         \n",
      " 16  order_item_is_marketplace                       8686 non-null   int64         \n",
      " 17  order_item_quantity                             8686 non-null   int64         \n",
      " 18  order_item_total_price_paid                     8686 non-null   float64       \n",
      " 19  order_item_total_price_paid_price_range         8686 non-null   object        \n",
      " 20  order_item_total_price_paid_with_contributions  8686 non-null   float64       \n",
      " 21  order_total_fees                                8686 non-null   float64       \n",
      " 22  order_total_paid                                8685 non-null   float64       \n",
      " 23  order_total_paid_price_range                    8686 non-null   object        \n",
      " 24  order_total_promo                               8686 non-null   float64       \n",
      " 25  payment_method_name                             5835 non-null   object        \n",
      " 26  product_name                                    8686 non-null   object        \n",
      " 27  rank_merchant_customer                          8686 non-null   int64         \n",
      " 28  seller_name                                     8680 non-null   object        \n",
      " 29  total_order_item_quantity_per_order             8686 non-null   int64         \n",
      " 30  contributions                                   8686 non-null   float64       \n",
      " 31  coef_contributions (%)                          8621 non-null   float64       \n",
      "dtypes: datetime64[ns](1), float64(15), int64(7), object(9)\n",
      "memory usage: 2.2+ MB\n"
     ]
    }
   ],
   "source": [
    "data.info()"
   ]
  },
  {
   "cell_type": "markdown",
   "metadata": {},
   "source": [
    "Et voici ! Le dataset est prêt pour l'analyse. Il contient désormais **32 colonnes et 8686 lignes non défectueuses**. "
   ]
  },
  {
   "cell_type": "markdown",
   "metadata": {},
   "source": [
    "# **PARTIE 2 - ANALYSE DU DATASET**"
   ]
  },
  {
   "cell_type": "markdown",
   "metadata": {},
   "source": [
    "## **2.1. Question 1** : *Quelles sont les parts de marché des acteurs en présence ? Quels sont les drivers de leur évolution ?*"
   ]
  },
  {
   "cell_type": "markdown",
   "metadata": {},
   "source": [
    "Pour le calcul des parts de marché des acteurs en présence, nous retiendrons les deux méthodes suivantes :\n",
    "\n",
    "- **Part de marché en volume** = (Nombre d'unités vendues par le site marchand) / (Nombre d'unités vendues par l’ensemble des sites marchands sur le marché)\n",
    "- **Part de marché en valeur** = (Chiffre d’affaires du site marchand) / (Chiffre d’affaires total de tous les sites marchands sur le marché)\n",
    "\n",
    "Etant donné la consitution du dataset, nous considérons que le **marché des sites marchands réalisant de la vente en ligne dans la catégorie épicerie** est constitué uniquement d'Amazon, Vente-privée et Cdiscount.\n",
    "\n",
    "Pour le calcul des parts de marché en volume, nous nous baserons sur les données de la colonne suivante : *total_order_item_quantity_per_order* qui nous informe sur le nombre total d'articles par commande.\n",
    "\n",
    "Concernant le calcul des parts de marché en valeur, il nous faudra décomposer le calcul. En effet, Amazon, Cdiscount et Vente-privée sont des **plateformes hybrides** qui combinent **e-commerce classique et marketplace**. Leur chiffre d'affaires correspond donc à la **somme des ventes réalisées en direct** (e-commerce classique) et des **commissions prélevées sur les transactions réalisées via la marketplace**.\n",
    "\n",
    "Nous allons procéder aux calculs en distinguant les données respectivement relatives à l'année **2016 et 2018**. Pour faciliter les calculs, j'ai construit 6 masques sur la base de la combinaison des colonnes *merchant_name* et *order_datetime* pour identifier les données relatives à un site marchand sur une 2016 et 2018."
   ]
  },
  {
   "cell_type": "code",
   "execution_count": 44,
   "metadata": {},
   "outputs": [],
   "source": [
    "mask_amazon_2016 = ((data['merchant_name'] == 'amazon') & ((pd.DatetimeIndex(data['order_datetime']).year) == 2016))\n",
    "mask_amazon_2018 = ((data['merchant_name'] == 'amazon') & ((pd.DatetimeIndex(data['order_datetime']).year) == 2018))\n",
    "mask_cdiscount_2016 = ((data['merchant_name'] == 'cdiscount') & ((pd.DatetimeIndex(data['order_datetime']).year) == 2016))\n",
    "mask_cdiscount_2018 = ((data['merchant_name'] == 'cdiscount') & ((pd.DatetimeIndex(data['order_datetime']).year) == 2018))\n",
    "mask_venteprivee_2016 = ((data['merchant_name'] == 'vente privee') & ((pd.DatetimeIndex(data['order_datetime']).year) == 2016))\n",
    "mask_venteprivee_2018 = ((data['merchant_name'] == 'vente privee') & ((pd.DatetimeIndex(data['order_datetime']).year) == 2018))"
   ]
  },
  {
   "cell_type": "markdown",
   "metadata": {},
   "source": [
    "### 2.1.1. Calcul des parts de marché en volume"
   ]
  },
  {
   "cell_type": "markdown",
   "metadata": {},
   "source": [
    "Dans cette section, je vais calculer la part de marché en volume de chaque marchand, à partir du **nombre d'articles vendus par commande**."
   ]
  },
  {
   "cell_type": "code",
   "execution_count": 45,
   "metadata": {},
   "outputs": [],
   "source": [
    "n_items_sold_16 = []\n",
    "n_items_sold_18 = []\n",
    "pdm_vol_16 = []\n",
    "pdm_vol_18 = []\n",
    "index_rows = ['amazon','cdiscount','vente-privee','total']\n",
    "\n",
    "amz_16_items_sold = int(data[mask_amazon_2016].groupby('id_order')['total_order_item_quantity_per_order'].unique().sum())\n",
    "amz_18_items_sold = int(data[mask_amazon_2018].groupby('id_order')['total_order_item_quantity_per_order'].unique().sum())\n",
    "cdisc_16_items_sold = int(data[mask_cdiscount_2016].groupby('id_order')['total_order_item_quantity_per_order'].unique().sum())\n",
    "cdisc_18_items_sold = int(data[mask_cdiscount_2018].groupby('id_order')['total_order_item_quantity_per_order'].unique().sum())\n",
    "vp_16_items_sold = int(data[mask_venteprivee_2016].groupby('id_order')['total_order_item_quantity_per_order'].unique().sum())\n",
    "vp_18_items_sold = int(data[mask_venteprivee_2018].groupby('id_order')['total_order_item_quantity_per_order'].unique().sum())\n",
    "total_16_items_sold = amz_16_items_sold + cdisc_16_items_sold + vp_16_items_sold \n",
    "total_18_items_sold = amz_18_items_sold + cdisc_18_items_sold + vp_18_items_sold\n",
    "pdm_vol_16_amz = round((amz_16_items_sold/total_16_items_sold)*100,2)\n",
    "pdm_vol_16_cdisc = round((cdisc_16_items_sold/total_16_items_sold)*100,2)\n",
    "pdm_vol_16_vp = round((vp_16_items_sold/total_16_items_sold)*100,2)\n",
    "pdm_vol_18_amz = round((amz_18_items_sold/total_18_items_sold)*100,2)\n",
    "pdm_vol_18_cdisc = round((cdisc_18_items_sold/total_18_items_sold)*100,2)\n",
    "pdm_vol_18_vp = round((vp_18_items_sold/total_18_items_sold)*100,2)\n",
    "\n",
    "\n",
    "n_items_sold_16.extend((amz_16_items_sold,cdisc_16_items_sold,vp_16_items_sold,total_16_items_sold))                      \n",
    "n_items_sold_18.extend((amz_18_items_sold,cdisc_18_items_sold,vp_18_items_sold,total_18_items_sold))  \n",
    "pdm_vol_16.extend((pdm_vol_16_amz,pdm_vol_16_cdisc,pdm_vol_16_vp,100))\n",
    "pdm_vol_18.extend((pdm_vol_18_amz,pdm_vol_18_cdisc,pdm_vol_18_vp,100))\n",
    "\n",
    "df_summary = pd.DataFrame({ 'index_titres' : index_rows,\n",
    "                            'n_articles_vendus_16' : n_items_sold_16,\n",
    "                            'n_articles_vendus_18' : n_items_sold_18,\n",
    "                            'pdm_vol_16 (%)' : pdm_vol_16,\n",
    "                            'pdm_vol_18 (%)' : pdm_vol_18\n",
    "                           })\n",
    "df_summary = df_summary.set_index('index_titres')"
   ]
  },
  {
   "cell_type": "markdown",
   "metadata": {},
   "source": [
    "### 2.1.2. Calcul des parts de marché en valeur"
   ]
  },
  {
   "cell_type": "markdown",
   "metadata": {},
   "source": [
    "Commençons par calculer le chiffre d'affaires des marchands généré par la **somme des ventes réalisées en direct**.\n",
    "\n",
    "Le calcul sera basé sur la somme de la colonne *order_item_total_price_paid_with_contributions*, correspondant au prix total payé avec contribution pour la commande de l'article (**hors frais et promotions annexes**). En effet, j'ai choisi dans la phase 1 de supprimer le paramètre de pondération du prix avec contribution de mon raisonnement, il n'est donc pas nécessaire d'aller jusqu'à la colonne *order_total_paid* pour le calcul de la part de marché en valeur. \n",
    "\n",
    "Dans ce cadre, nous allons filtrer le dataset à l'aide du masque relatif à l'année et au site marchand concerné puis trier les articles commandés qui ont été vendus directement par le site marchand à partir de la colonne *seller_name*."
   ]
  },
  {
   "cell_type": "code",
   "execution_count": 46,
   "metadata": {},
   "outputs": [],
   "source": [
    "direct_sales_16 = []\n",
    "direct_sales_18 = []\n",
    "\n",
    "amz_16 = data[mask_amazon_2016]\n",
    "amz_16_direct_sales = amz_16[amz_16[\"seller_name\"]== 'amazon']['order_item_total_price_paid_with_contributions'].sum()\n",
    "amz_18 = data[mask_amazon_2018]\n",
    "amz_18_direct_sales = amz_18[amz_18[\"seller_name\"]== 'amazon']['order_item_total_price_paid_with_contributions'].sum()\n",
    "cdisc_16 = data[mask_cdiscount_2016]\n",
    "cdisc_16_direct_sales = cdisc_16[cdisc_16[\"seller_name\"]== 'cdiscount']['order_item_total_price_paid_with_contributions'].sum()\n",
    "cdisc_18 = data[mask_cdiscount_2018]\n",
    "cdisc_18_direct_sales = cdisc_18[cdisc_18[\"seller_name\"]== 'cdiscount']['order_item_total_price_paid_with_contributions'].sum()\n",
    "vp_16 = data[mask_venteprivee_2016]\n",
    "vp_16_direct_sales = vp_16[vp_16[\"seller_name\"]== 'vente-privee']['order_item_total_price_paid_with_contributions'].sum()\n",
    "vp_18 = data[mask_venteprivee_2018]\n",
    "vp_18_direct_sales = vp_18[vp_18[\"seller_name\"]== 'vente-privee']['order_item_total_price_paid_with_contributions'].sum()\n",
    "total_direct_sales_16 = amz_16_direct_sales + cdisc_16_direct_sales + vp_16_direct_sales\n",
    "total_direct_sales_18 = amz_18_direct_sales + cdisc_18_direct_sales + vp_18_direct_sales\n",
    "\n",
    "direct_sales_16.extend((amz_16_direct_sales,cdisc_16_direct_sales,vp_16_direct_sales,total_direct_sales_16))                      \n",
    "direct_sales_18.extend((amz_18_direct_sales,cdisc_18_direct_sales,vp_18_direct_sales,total_direct_sales_18))                      \n",
    "\n",
    "df_summary['ventes_directes_16'] = direct_sales_16\n",
    "df_summary['ventes_directes_18'] = direct_sales_18"
   ]
  },
  {
   "cell_type": "markdown",
   "metadata": {},
   "source": [
    "Calculons à présent le chiffre d'affaires généré par les **contributions prélevées sur les transactions** de la marketplace. Le calcul sera réalisé à partir du masque relatif à l'année et au site marchand concerné puis nous filtrerons les commandes de sorte à ne conserver que les articles commandés pour lesquels le vendeur est différent du site marchand (générant donc une contribution pour le site marchand). Nous utiliserons la colonne suivante : *contributions*, créée dans la partie 1."
   ]
  },
  {
   "cell_type": "code",
   "execution_count": 47,
   "metadata": {},
   "outputs": [],
   "source": [
    "contributions_16 = []\n",
    "contributions_18 = []\n",
    "\n",
    "amz_16_contributions = amz_16[amz_16[\"seller_name\"] != 'amazon']['contributions'].sum()\n",
    "amz_18_contributions = amz_18[amz_18[\"seller_name\"] != 'amazon']['contributions'].sum()\n",
    "cdisc_16_contributions = cdisc_16[cdisc_16[\"seller_name\"] != 'cdiscount']['contributions'].sum()\n",
    "cdisc_18_contributions = cdisc_18[cdisc_18[\"seller_name\"] != 'cdiscount']['contributions'].sum()\n",
    "vp_16_contributions = vp_16[vp_16[\"seller_name\"] != 'vente-privee']['contributions'].sum()\n",
    "vp_18_contributions = vp_18[vp_18[\"seller_name\"] != 'vente-privee']['contributions'].sum()\n",
    "total_contributions_16 = amz_16_contributions + cdisc_16_contributions + vp_16_contributions\n",
    "total_contributions_18 = amz_18_contributions + cdisc_18_contributions + vp_18_contributions\n",
    "\n",
    "contributions_16.extend((amz_16_contributions,cdisc_16_contributions,vp_16_contributions,total_contributions_16))\n",
    "contributions_18.extend((amz_18_contributions,cdisc_18_contributions,vp_18_contributions,total_contributions_18))\n",
    "\n",
    "df_summary['contributions_16'] = contributions_16\n",
    "df_summary['contributions_18'] = contributions_18"
   ]
  },
  {
   "cell_type": "markdown",
   "metadata": {},
   "source": [
    "Calculons maintenant le **chiffre d'affaires total** et les **parts de marché en valeur** de chacun des sites marchands en agrégeant les données obtenues ci-dessus."
   ]
  },
  {
   "cell_type": "code",
   "execution_count": 48,
   "metadata": {},
   "outputs": [],
   "source": [
    "total_sales_16 = []\n",
    "total_sales_18 = []\n",
    "pdm_val_16 = []\n",
    "pdm_val_18 = []\n",
    "\n",
    "total_sales_amz_16 = amz_16_direct_sales + amz_16_contributions\n",
    "total_sales_amz_18 = amz_18_direct_sales + amz_18_contributions\n",
    "total_sales_cdisc_16 = cdisc_16_direct_sales + cdisc_16_contributions\n",
    "total_sales_cdisc_18 = cdisc_18_direct_sales + cdisc_18_contributions\n",
    "total_sales_vp_16 = vp_16_direct_sales + vp_16_contributions\n",
    "total_sales_vp_18 = vp_18_direct_sales + vp_18_contributions\n",
    "total_sales_market_16 = total_sales_amz_16 + total_sales_cdisc_16 + total_sales_vp_16\n",
    "total_sales_market_18 = total_sales_amz_18 + total_sales_cdisc_18 + total_sales_vp_18\n",
    "pdm_val_amz_16 = round((total_sales_amz_16/total_sales_market_16)*100,2)\n",
    "pdm_val_amz_18 = round((total_sales_amz_18/total_sales_market_18)*100,2)\n",
    "pdm_val_cdisc_16 = round((total_sales_cdisc_16/total_sales_market_16)*100,2)\n",
    "pdm_val_cdisc_18 = round((total_sales_cdisc_18/total_sales_market_18)*100,2)\n",
    "pdm_val_vp_16 = round((total_sales_vp_16/total_sales_market_16)*100,2)\n",
    "pdm_val_vp_18 = round((total_sales_vp_18/total_sales_market_18)*100,2)\n",
    "\n",
    "total_sales_16.extend((total_sales_amz_16,total_sales_cdisc_16,total_sales_vp_16,total_sales_market_16))\n",
    "total_sales_18.extend((total_sales_amz_18,total_sales_cdisc_18,total_sales_vp_18,total_sales_market_18))\n",
    "pdm_val_16.extend((pdm_val_amz_16,pdm_val_cdisc_16,pdm_val_vp_16,100))\n",
    "pdm_val_18.extend((pdm_val_amz_18,pdm_val_cdisc_18,pdm_val_vp_18,100))\n",
    "\n",
    "df_summary[\"chiffre_d'affaires_16\"] = total_sales_16\n",
    "df_summary[\"chiffre_d'affaires_18\"] = total_sales_18\n",
    "df_summary[\"pdm_val_16 (%)\"] = pdm_val_16\n",
    "df_summary[\"pdm_val_18 (%)\"] = pdm_val_18"
   ]
  },
  {
   "cell_type": "markdown",
   "metadata": {},
   "source": [
    "### 2.1.3. Synthèse"
   ]
  },
  {
   "cell_type": "code",
   "execution_count": 49,
   "metadata": {},
   "outputs": [
    {
     "data": {
      "text/html": [
       "<div>\n",
       "<style scoped>\n",
       "    .dataframe tbody tr th:only-of-type {\n",
       "        vertical-align: middle;\n",
       "    }\n",
       "\n",
       "    .dataframe tbody tr th {\n",
       "        vertical-align: top;\n",
       "    }\n",
       "\n",
       "    .dataframe thead th {\n",
       "        text-align: right;\n",
       "    }\n",
       "</style>\n",
       "<table border=\"1\" class=\"dataframe\">\n",
       "  <thead>\n",
       "    <tr style=\"text-align: right;\">\n",
       "      <th></th>\n",
       "      <th>n_articles_vendus_16</th>\n",
       "      <th>n_articles_vendus_18</th>\n",
       "      <th>pdm_vol_16 (%)</th>\n",
       "      <th>pdm_vol_18 (%)</th>\n",
       "      <th>ventes_directes_16</th>\n",
       "      <th>ventes_directes_18</th>\n",
       "      <th>contributions_16</th>\n",
       "      <th>contributions_18</th>\n",
       "      <th>chiffre_d'affaires_16</th>\n",
       "      <th>chiffre_d'affaires_18</th>\n",
       "      <th>pdm_val_16 (%)</th>\n",
       "      <th>pdm_val_18 (%)</th>\n",
       "    </tr>\n",
       "    <tr>\n",
       "      <th>index_titres</th>\n",
       "      <th></th>\n",
       "      <th></th>\n",
       "      <th></th>\n",
       "      <th></th>\n",
       "      <th></th>\n",
       "      <th></th>\n",
       "      <th></th>\n",
       "      <th></th>\n",
       "      <th></th>\n",
       "      <th></th>\n",
       "      <th></th>\n",
       "      <th></th>\n",
       "    </tr>\n",
       "  </thead>\n",
       "  <tbody>\n",
       "    <tr>\n",
       "      <th>amazon</th>\n",
       "      <td>1354</td>\n",
       "      <td>4839</td>\n",
       "      <td>10.00</td>\n",
       "      <td>32.72</td>\n",
       "      <td>8786.8</td>\n",
       "      <td>36381.5</td>\n",
       "      <td>1477.7</td>\n",
       "      <td>2990.1</td>\n",
       "      <td>10264.5</td>\n",
       "      <td>39371.6</td>\n",
       "      <td>15.56</td>\n",
       "      <td>44.25</td>\n",
       "    </tr>\n",
       "    <tr>\n",
       "      <th>cdiscount</th>\n",
       "      <td>4783</td>\n",
       "      <td>5287</td>\n",
       "      <td>35.34</td>\n",
       "      <td>35.75</td>\n",
       "      <td>40662.1</td>\n",
       "      <td>40083.4</td>\n",
       "      <td>231.6</td>\n",
       "      <td>299.4</td>\n",
       "      <td>40893.7</td>\n",
       "      <td>40382.8</td>\n",
       "      <td>61.99</td>\n",
       "      <td>45.39</td>\n",
       "    </tr>\n",
       "    <tr>\n",
       "      <th>vente-privee</th>\n",
       "      <td>7398</td>\n",
       "      <td>4662</td>\n",
       "      <td>54.66</td>\n",
       "      <td>31.53</td>\n",
       "      <td>9682.1</td>\n",
       "      <td>2858.5</td>\n",
       "      <td>5129.2</td>\n",
       "      <td>6364.8</td>\n",
       "      <td>14811.3</td>\n",
       "      <td>9223.3</td>\n",
       "      <td>22.45</td>\n",
       "      <td>10.37</td>\n",
       "    </tr>\n",
       "    <tr>\n",
       "      <th>total</th>\n",
       "      <td>13535</td>\n",
       "      <td>14788</td>\n",
       "      <td>100.00</td>\n",
       "      <td>100.00</td>\n",
       "      <td>59131.0</td>\n",
       "      <td>79323.4</td>\n",
       "      <td>6838.5</td>\n",
       "      <td>9654.3</td>\n",
       "      <td>65969.5</td>\n",
       "      <td>88977.7</td>\n",
       "      <td>100.00</td>\n",
       "      <td>100.00</td>\n",
       "    </tr>\n",
       "  </tbody>\n",
       "</table>\n",
       "</div>"
      ],
      "text/plain": [
       "              n_articles_vendus_16  n_articles_vendus_18  pdm_vol_16 (%)  \\\n",
       "index_titres                                                               \n",
       "amazon                        1354                  4839           10.00   \n",
       "cdiscount                     4783                  5287           35.34   \n",
       "vente-privee                  7398                  4662           54.66   \n",
       "total                        13535                 14788          100.00   \n",
       "\n",
       "              pdm_vol_18 (%)  ventes_directes_16  ventes_directes_18  \\\n",
       "index_titres                                                           \n",
       "amazon                 32.72              8786.8             36381.5   \n",
       "cdiscount              35.75             40662.1             40083.4   \n",
       "vente-privee           31.53              9682.1              2858.5   \n",
       "total                 100.00             59131.0             79323.4   \n",
       "\n",
       "              contributions_16  contributions_18  chiffre_d'affaires_16  \\\n",
       "index_titres                                                              \n",
       "amazon                  1477.7            2990.1                10264.5   \n",
       "cdiscount                231.6             299.4                40893.7   \n",
       "vente-privee            5129.2            6364.8                14811.3   \n",
       "total                   6838.5            9654.3                65969.5   \n",
       "\n",
       "              chiffre_d'affaires_18  pdm_val_16 (%)  pdm_val_18 (%)  \n",
       "index_titres                                                         \n",
       "amazon                      39371.6           15.56           44.25  \n",
       "cdiscount                   40382.8           61.99           45.39  \n",
       "vente-privee                 9223.3           22.45           10.37  \n",
       "total                       88977.7          100.00          100.00  "
      ]
     },
     "execution_count": 49,
     "metadata": {},
     "output_type": "execute_result"
    }
   ],
   "source": [
    "df_summary"
   ]
  },
  {
   "cell_type": "code",
   "execution_count": 54,
   "metadata": {},
   "outputs": [
    {
     "data": {
      "image/png": "[encoded data removed]",
      "text/plain": [
       "<Figure size 1080x2160 with 4 Axes>"
      ]
     },
     "metadata": {},
     "output_type": "display_data"
    }
   ],
   "source": [
    "fig = plt.figure(figsize=(15,30))\n",
    "\n",
    "ax1 = fig.add_subplot(3,2,1)\n",
    "ax2 = fig.add_subplot(3,2,2)\n",
    "ax3 = fig.add_subplot(3,2,3)\n",
    "ax4 = fig.add_subplot(3,2,4)\n",
    "\n",
    "colors = ['gold', 'steelblue', 'magenta']\n",
    "labels = ['amazon','cdiscount','vente-privee']\n",
    "\n",
    "sizes_1 = df_summary['pdm_vol_16 (%)'][:3]\n",
    "patches, texts = plt.pie(sizes_1, colors=colors, shadow=True, startangle=90)\n",
    "explode_1 = (0, 0, 0.1) \n",
    "ax1.legend(patches, labels, loc=\"best\")\n",
    "ax1.set_title('Répartition des parts de marchés en volume 2016',fontsize=15)\n",
    "ax1.pie(sizes_1, explode=explode_1, colors = colors, autopct='%1.1f%%',shadow=True, startangle=90)\n",
    "\n",
    "sizes_2 = df_summary['pdm_vol_18 (%)'][:3]\n",
    "explode_2 = (0, 0.1, 0) \n",
    "ax2.set_title('Répartition des parts de marchés en volume 2018',fontsize=15)\n",
    "ax2.pie(sizes_2, explode=explode_2, colors = colors, autopct='%1.1f%%',shadow=True, startangle=90)\n",
    "\n",
    "sizes_3 = df_summary['pdm_val_16 (%)'][:3]\n",
    "explode_3 = (0, 0.1, 0) \n",
    "ax3.legend(patches, labels, loc=\"best\")\n",
    "ax3.set_title('Répartition des parts de marchés en valeur 2016',fontsize=15)\n",
    "ax3.pie(sizes_3, explode=explode_3, colors = colors, autopct='%1.1f%%',shadow=True, startangle=90)\n",
    "\n",
    "sizes_4 = df_summary['pdm_val_18 (%)'][:3]\n",
    "explode_4 = (0, 0, 0) \n",
    "ax4.set_title('Répartition des parts de marchés en valeur 2018',fontsize=15)\n",
    "ax4.pie(sizes_4, explode=explode_4, colors = colors, autopct='%1.1f%%',shadow=True, startangle=90)\n",
    "\n",
    "\n",
    "plt.savefig('/Users/tangigouez/Desktop/Foxintelligence/Images/market_shares.png')\n",
    "plt.tight_layout()\n",
    "plt.show()"
   ]
  },
  {
   "cell_type": "markdown",
   "metadata": {},
   "source": [
    "Nous pouvons observer une **évolution conséquente des parts de marchés entre 2016 et 2018** des principaux sites marchands sur le catégorie épicerie. \n",
    "\n",
    "Tout d'abord, Vente-privée qui dominait le marché en termes d'articles vendus en 2016 (**54,7%**) a vu sa part de marché en volume diminuer de **23,2 points**, au profit d'Amazon qui a gagné **22,7 points** de parts de marchés. Cdiscount de son côté a maintenu ses parts de marché et s'est positionné comme le nouveau leader en termes d'unités vendues (**35,7%**).\n",
    "\n",
    "En termes de parts de marché en valeur, nous pouvons noter une croissance spectaculaire d'Amazon une nouvelle fois, qui a gagné **28,6 points** entre 2016 et 2018. Sans surprise, Vente-Privée a vu ses parts de marché chuter de **12,1 points**. Cdiscount a également connu une érosion de ses parts de marché (**-16,6 points**) mais maintient sa posture de leader avec **45,4%** du marché, talonné par Amazon avec **44,2%**. \n",
    "\n",
    "Globalement, le marché est devenu **plus homogène en 2018**, par rapport à 2016. En effet, sur l'année 2016 un unique acteur détenait **plus de 50% du marché** respectivement Vente-privée en volume et Cdiscount en valeur. Désormais, le leader du marché détient **moins de 50%** et la course pour la tête du classement est très concurrentielle.\n",
    "\n",
    "Vente-privée est clairement le site marchand **en déclin** sur cette catégorie, au profit d'Amazon qui a connu **la progression la plus spectaculaire** autant en termes de parts de marché en volume que en valeur. Cdiscount est parvenu a **maintenir convenablement** ses parts de marché entre 2016 et 2018, ce qui lui a permis de se positionner comme le **leader du marché en 2018**. Cependant, Amazon semble être l'acteur le plus prometteur sur cette catégorie au regard de son évolution et l'on peut s'attendre à ce qu'il devienne le nouveau leader rapidement."
   ]
  },
  {
   "cell_type": "markdown",
   "metadata": {},
   "source": [
    "Pour mieux comprendre l'évolution du marché et entre 2016 et 2018 et les stratégies des sites marchands, étudions à présent les **composants du chiffre d'affaires** pour évaluer l'approche qui aura été la plus payante entre 2016 et 2018: \n",
    "- 1) Axer sa croissance sur les gains générés par les **contributions** ; \n",
    "- 2) Développer les ventes directes par la création d'une **offre produit propriétaire** et indépendante des vendeurs tiers ;\n",
    "- 3) Une **offre mixte** qui permet de trouver un équilibre entre les deux sources de revenus."
   ]
  },
  {
   "cell_type": "code",
   "execution_count": 55,
   "metadata": {},
   "outputs": [],
   "source": [
    "ventes_directes_16_data = list(df_summary['ventes_directes_16'][:3])\n",
    "ventes_directes_16_data = [round(num) for num in ventes_directes_16_data]\n",
    "\n",
    "contributions_16_data = list(df_summary['contributions_16'][:3])\n",
    "contributions_16_data = [round(num) for num in contributions_16_data]\n",
    "\n",
    "ventes_directes_18_data = list(df_summary['ventes_directes_18'][:3])\n",
    "ventes_directes_18_data = [round(num) for num in ventes_directes_18_data]\n",
    "\n",
    "contributions_18_data = list(df_summary['contributions_18'][:3])\n",
    "contributions_18_data = [round(num) for num in contributions_18_data]"
   ]
  },
  {
   "cell_type": "code",
   "execution_count": 56,
   "metadata": {},
   "outputs": [
    {
     "data": {
      "image/png": "[encoded data removed]",
      "text/plain": [
       "<Figure size 864x576 with 1 Axes>"
      ]
     },
     "metadata": {
      "needs_background": "light"
     },
     "output_type": "display_data"
    }
   ],
   "source": [
    "ventes_directes_16 = ventes_directes_16_data\n",
    "contributions_16 = contributions_16_data\n",
    "\n",
    "ind = np.arange(len(ventes_directes_16))\n",
    "width = 0.35  \n",
    "\n",
    "fig, ax = plt.subplots()\n",
    "rects1 = ax.bar(ind - width/2, ventes_directes_16, width,\n",
    "                label='ventes directes')\n",
    "rects2 = ax.bar(ind + width/2, contributions_16, width,\n",
    "                label='contributions')\n",
    "\n",
    "ax.set_ylabel('Montant',fontsize = 13)\n",
    "ax.set_title(\"Répartition du chiffre d'affaires des sites marchand en 2016\",fontsize = 15)\n",
    "ax.set_xticks(ind)\n",
    "ax.set_xticklabels(('amazon', 'cdiscount', 'vente-privee'),fontsize = 13)\n",
    "ax.legend()\n",
    "\n",
    "\n",
    "def autolabel(rects, xpos='center'):\n",
    "    ha = {'center': 'center', 'right': 'left', 'left': 'right'}\n",
    "    offset = {'center': 0, 'right': 1, 'left': -1}\n",
    "\n",
    "    for rect in rects:\n",
    "        height = rect.get_height()\n",
    "        ax.annotate('{}'.format(height),\n",
    "                    xy=(rect.get_x() + rect.get_width() / 2, height),\n",
    "                    xytext=(offset[xpos]*3, 3),  \n",
    "                    textcoords=\"offset points\",  \n",
    "                    ha=ha[xpos], va='bottom')\n",
    "\n",
    "\n",
    "autolabel(rects1, \"center\")\n",
    "autolabel(rects2, \"center\")\n",
    "\n",
    "fig.set_size_inches(12, 8)\n",
    "plt.savefig('/Users/tangigouez/Desktop/Foxintelligence/Images/turnover_share_2016.png')\n",
    "fig.tight_layout()\n",
    "\n",
    "plt.show()"
   ]
  },
  {
   "cell_type": "code",
   "execution_count": 57,
   "metadata": {},
   "outputs": [
    {
     "data": {
      "image/png": "[encoded data removed]",
      "text/plain": [
       "<Figure size 864x576 with 1 Axes>"
      ]
     },
     "metadata": {
      "needs_background": "light"
     },
     "output_type": "display_data"
    }
   ],
   "source": [
    "ventes_directes_18 = ventes_directes_18_data\n",
    "contributions_18 = contributions_18_data\n",
    "\n",
    "ind = np.arange(len(ventes_directes_18))\n",
    "width = 0.35  \n",
    "\n",
    "fig, ax = plt.subplots()\n",
    "rects1 = ax.bar(ind - width/2, ventes_directes_18, width,\n",
    "                label='ventes directes')\n",
    "rects2 = ax.bar(ind + width/2, contributions_18, width,\n",
    "                label='contributions')\n",
    "\n",
    "ax.set_ylabel('Montant',fontsize = 13)\n",
    "ax.set_title(\"Répartition du chiffre d'affaires des sites marchand en 2018\",fontsize = 15)\n",
    "ax.set_xticks(ind)\n",
    "ax.set_xticklabels(('amazon', 'cdiscount', 'vente-privee'),fontsize = 13)\n",
    "ax.legend()\n",
    "\n",
    "\n",
    "def autolabel(rects, xpos='center'):\n",
    "    ha = {'center': 'center', 'right': 'left', 'left': 'right'}\n",
    "    offset = {'center': 0, 'right': 1, 'left': -1}\n",
    "\n",
    "    for rect in rects:\n",
    "        height = rect.get_height()\n",
    "        ax.annotate('{}'.format(height),\n",
    "                    xy=(rect.get_x() + rect.get_width() / 2, height),\n",
    "                    xytext=(offset[xpos]*3, 3),  # use 3 points offset\n",
    "                    textcoords=\"offset points\",  # in both directions\n",
    "                    ha=ha[xpos], va='bottom')\n",
    "\n",
    "\n",
    "autolabel(rects1, \"center\")\n",
    "autolabel(rects2, \"center\")\n",
    "\n",
    "fig.tight_layout()\n",
    "fig.set_size_inches(12, 8)\n",
    "plt.savefig('/Users/tangigouez/Desktop/Foxintelligence/Images/turnover_share_2018.png')\n",
    "\n",
    "plt.show()"
   ]
  },
  {
   "cell_type": "markdown",
   "metadata": {},
   "source": [
    "En 2016, la part des **ventes directes** dans le chiffre d'affaires des sites marchands est majoritaire. Les **contributions** ne consitituent qu'une faible part du chiffre d'affaires d'Amazon et Cdiscount, alors que le chiffre d'affaires de vente-privée et plus équilibré. \n",
    "\n",
    "En 2018, vente-privée a vu la part des contributions devenir majoritaire dans son chiffre d'affaires, alors que les 2 autres sites marchands ont poursuivi la **même stratégie que en 2016**. L'approche mixte adoptée par vente-privée s'est donc avérée **moins payante**."
   ]
  },
  {
   "cell_type": "markdown",
   "metadata": {},
   "source": [
    "## **2.2. Question 2** : *Quel est le prix moyen par article sur la sous-catégorie ‘vins’ pour chaque marchand ?*"
   ]
  },
  {
   "cell_type": "markdown",
   "metadata": {},
   "source": [
    "Pour répondre à cette question, nous allons nous appuyer sur les colonnes suivantes du dataset d'origine : *order_item_total_price_paid* et *total_order_item_quantity_per_order*. **Nous ne prendrons pas en compte les contributions dans le calcul** pour nous focaliser uniquement sur les prix des articles pratiqués par les vendeurs sur chaque site marchands, indépendemment de la politique de contributions de ces derniers. \n",
    "\n",
    "L'objectif est donc de distinguer le site marchand le plus adapté à la vente d'un article **selon sa gamme de prix**, correspondant à une cible client bien définie."
   ]
  },
  {
   "cell_type": "code",
   "execution_count": 58,
   "metadata": {},
   "outputs": [],
   "source": [
    "wine_items = data[data['category_2']=='vin']\n",
    "wine_items['item_indiv_price'] = wine_items['order_item_total_price_paid']/wine_items['total_order_item_quantity_per_order']\n",
    "df_summary_1 = wine_items.groupby('merchant_name')['item_indiv_price'].mean().reset_index().rename(columns={'item_indiv_price':'prix_moyen_par_article'})"
   ]
  },
  {
   "cell_type": "code",
   "execution_count": 59,
   "metadata": {},
   "outputs": [
    {
     "data": {
      "image/png": "[encoded data removed]",
      "text/plain": [
       "<Figure size 864x432 with 1 Axes>"
      ]
     },
     "metadata": {
      "needs_background": "light"
     },
     "output_type": "display_data"
    }
   ],
   "source": [
    "plt.figure(figsize=(12,6))\n",
    "fig = sns.barplot(x=\"merchant_name\", y=\"prix_moyen_par_article\", data=df_summary_1)\n",
    "fig.figure.suptitle(\"Prix moyen par article sur la sous-catégorie vins pour chaque site marchand\", fontsize = 15) \n",
    "plt.xlabel('marchands', fontsize=13) \n",
    "plt.ylabel('prix moyen', fontsize=13) \n",
    "plt.savefig('/Users/tangigouez/Desktop/Foxintelligence/Images/avg_price_per_wine_category.png')\n",
    "plt.show()"
   ]
  },
  {
   "cell_type": "code",
   "execution_count": 60,
   "metadata": {},
   "outputs": [
    {
     "data": {
      "text/html": [
       "<div>\n",
       "<style scoped>\n",
       "    .dataframe tbody tr th:only-of-type {\n",
       "        vertical-align: middle;\n",
       "    }\n",
       "\n",
       "    .dataframe tbody tr th {\n",
       "        vertical-align: top;\n",
       "    }\n",
       "\n",
       "    .dataframe thead th {\n",
       "        text-align: right;\n",
       "    }\n",
       "</style>\n",
       "<table border=\"1\" class=\"dataframe\">\n",
       "  <thead>\n",
       "    <tr style=\"text-align: right;\">\n",
       "      <th></th>\n",
       "      <th>merchant_name</th>\n",
       "      <th>prix_moyen_par_article</th>\n",
       "    </tr>\n",
       "  </thead>\n",
       "  <tbody>\n",
       "    <tr>\n",
       "      <th>0</th>\n",
       "      <td>amazon</td>\n",
       "      <td>22.800336</td>\n",
       "    </tr>\n",
       "    <tr>\n",
       "      <th>1</th>\n",
       "      <td>cdiscount</td>\n",
       "      <td>7.886705</td>\n",
       "    </tr>\n",
       "    <tr>\n",
       "      <th>2</th>\n",
       "      <td>vente privee</td>\n",
       "      <td>18.064198</td>\n",
       "    </tr>\n",
       "  </tbody>\n",
       "</table>\n",
       "</div>"
      ],
      "text/plain": [
       "  merchant_name  prix_moyen_par_article\n",
       "0        amazon               22.800336\n",
       "1     cdiscount                7.886705\n",
       "2  vente privee               18.064198"
      ]
     },
     "execution_count": 60,
     "metadata": {},
     "output_type": "execute_result"
    }
   ],
   "source": [
    "df_summary_1"
   ]
  },
  {
   "cell_type": "markdown",
   "metadata": {},
   "source": [
    "Amazon est le site marchand qui pratique les prix les plus élevés sur la sous-catégorie vin avec un prix moyen par article de **22,80€**, suivi de vente-privée avec **18,06€**. A l'opposé nous retrouvons Cdiscount qui dispose d'un prix moyen par article de **7,88€**. \n",
    "\n",
    "Vente-privée se retrouve donc intercalé entre deux extrêmes : Amazon et Cdiscount. Ces deux derniers ont un positionnement clair en termes de prix et par conséquent parviennent certainement à mieux toucher des segments de clients précis dans leurs offres."
   ]
  },
  {
   "cell_type": "markdown",
   "metadata": {},
   "source": [
    "## **2.3. Question 3** : *Calculez la part de portefeuille des cohortes de clients Vente Privée 2016 et Vente Privée 2018. Quelles conclusions peut-on tirer ?*"
   ]
  },
  {
   "cell_type": "markdown",
   "metadata": {},
   "source": [
    "La part de portefeuille est le montant qu'un client existant dépense régulièrement pour une marque en particulier plutôt qu'auprès de marques concurrentes sur le même type de produit. Globalement, il s'agit de la **\"part\" concurrentielle d'une marque** par rapport à l'argent disponible qu'un consommateur a choisi de dépenser pour cette catégorie de produit.\n",
    "\n",
    "Par exemple, imaginez qu'un consommateur alloue 100 euros par mois à l'achat de détergents et qu'il ait besoin d'un nouveau flacon de détergent toutes les deux semaines. Deux marques concurrentes se disputent le budget disponible de ce consommateur et font payer 50 euros pour une bouteille de détergent. Si le consommateur achète une marque au début du mois et l'autre deux semaines plus tard, les deux marques ont une part de portefeuille de 50 % pour ce mois en particulier.\n",
    "\n",
    "Augmenter la part de portefeuille d'un client individuel peut être **aussi rentable que d'essayer d'attirer de nouveaux clients**. C'est pourquoi les entreprises s'attachent souvent à augmenter la part de portefeuille de leurs clients réguliers autant, voire plus, qu'à en gagner de nouveaux. \n",
    "\n",
    "Pour réaliser ce calcul, nous allons nous appuyer sur les colonnes : *is_customer_merchant_name_year*. Celles ci nous permettent d'identifier si **l'auteur d'une commande est client sur plusieurs sites marchands à la fois** et de définir lesquels en particulier. Pour répondre à la question, nous allons **filtrer les articles commandés qui concernent des clients de vente-privée en 2016 et en 2018**. Nous allons ensuite calculer la **proportion de leurs dépenses réalisées respectivement chez Amazon, Cdiscount et Vente-Privée** à partir des colonnes *merchant_name* (site marchand sur lequel ils ont réalisé une commande) et *order_item_total_price_paid_with_contributions* (qui nous indique le montant des dépenses)."
   ]
  },
  {
   "cell_type": "code",
   "execution_count": 61,
   "metadata": {},
   "outputs": [],
   "source": [
    "vp_16_cohort = data[data['is_customer_venteprivee_2016'] == 1.0]\n",
    "sow_vp_16 = (vp_16_cohort.groupby('merchant_name')['order_item_total_price_paid_with_contributions'].sum()/vp_16_cohort['order_item_total_price_paid_with_contributions'].sum())*100"
   ]
  },
  {
   "cell_type": "code",
   "execution_count": 62,
   "metadata": {},
   "outputs": [],
   "source": [
    "vp_18_cohort = data[data['is_customer_venteprivee_2018'] == 1.0]\n",
    "sow_vp_18 = (vp_18_cohort.groupby('merchant_name')['order_item_total_price_paid_with_contributions'].sum()/vp_18_cohort['order_item_total_price_paid_with_contributions'].sum())*100"
   ]
  },
  {
   "cell_type": "code",
   "execution_count": 63,
   "metadata": {},
   "outputs": [],
   "source": [
    "index_rows = ['amazon','cdiscount','vente-privee']\n",
    "sow_vp_16 = list(sow_vp_16)\n",
    "sow_vp_16 = [round(num,2) for num in sow_vp_16]\n",
    "sow_vp_18 = list(sow_vp_18)\n",
    "sow_vp_18 = [round(num,2) for num in sow_vp_18]\n",
    "\n",
    "df_summary_2 = pd.DataFrame({ 'marchands' : index_rows,\n",
    "                            'part de portefeuille vente privee 2016' : sow_vp_16,\n",
    "                             'part de portefeuille vente privee 2018' : sow_vp_18\n",
    "                           })"
   ]
  },
  {
   "cell_type": "code",
   "execution_count": 64,
   "metadata": {},
   "outputs": [
    {
     "data": {
      "text/html": [
       "<div>\n",
       "<style scoped>\n",
       "    .dataframe tbody tr th:only-of-type {\n",
       "        vertical-align: middle;\n",
       "    }\n",
       "\n",
       "    .dataframe tbody tr th {\n",
       "        vertical-align: top;\n",
       "    }\n",
       "\n",
       "    .dataframe thead th {\n",
       "        text-align: right;\n",
       "    }\n",
       "</style>\n",
       "<table border=\"1\" class=\"dataframe\">\n",
       "  <thead>\n",
       "    <tr style=\"text-align: right;\">\n",
       "      <th></th>\n",
       "      <th>marchands</th>\n",
       "      <th>part de portefeuille vente privee 2016</th>\n",
       "      <th>part de portefeuille vente privee 2018</th>\n",
       "    </tr>\n",
       "  </thead>\n",
       "  <tbody>\n",
       "    <tr>\n",
       "      <th>0</th>\n",
       "      <td>amazon</td>\n",
       "      <td>8.71</td>\n",
       "      <td>9.89</td>\n",
       "    </tr>\n",
       "    <tr>\n",
       "      <th>1</th>\n",
       "      <td>cdiscount</td>\n",
       "      <td>8.90</td>\n",
       "      <td>9.82</td>\n",
       "    </tr>\n",
       "    <tr>\n",
       "      <th>2</th>\n",
       "      <td>vente-privee</td>\n",
       "      <td>82.39</td>\n",
       "      <td>80.29</td>\n",
       "    </tr>\n",
       "  </tbody>\n",
       "</table>\n",
       "</div>"
      ],
      "text/plain": [
       "      marchands  part de portefeuille vente privee 2016  \\\n",
       "0        amazon                                    8.71   \n",
       "1     cdiscount                                    8.90   \n",
       "2  vente-privee                                   82.39   \n",
       "\n",
       "   part de portefeuille vente privee 2018  \n",
       "0                                    9.89  \n",
       "1                                    9.82  \n",
       "2                                   80.29  "
      ]
     },
     "execution_count": 64,
     "metadata": {},
     "output_type": "execute_result"
    }
   ],
   "source": [
    "df_summary_2"
   ]
  },
  {
   "cell_type": "code",
   "execution_count": 65,
   "metadata": {},
   "outputs": [
    {
     "data": {
      "image/png": "[encoded data removed]",
      "text/plain": [
       "<Figure size 1080x1440 with 2 Axes>"
      ]
     },
     "metadata": {},
     "output_type": "display_data"
    }
   ],
   "source": [
    "fig = plt.figure(figsize=(15,20))\n",
    "\n",
    "ax1 = fig.add_subplot(3,2,1)\n",
    "ax2 = fig.add_subplot(3,2,2)\n",
    "\n",
    "colors = ['gold', 'steelblue', 'magenta']\n",
    "labels = ['amazon','cdiscount','vente-privee']\n",
    "explode = (0, 0, 0.1) \n",
    "\n",
    "sizes_1 = df_summary_2['part de portefeuille vente privee 2016']\n",
    "ax1.legend(patches, labels, loc=\"best\")\n",
    "ax1.set_title('Part de portefeuille des clients vente privee en 2016',fontsize=15)\n",
    "ax1.pie(sizes_1, explode=explode, colors = colors, autopct='%1.1f%%',shadow=True, startangle=90)\n",
    "\n",
    "sizes_2 = df_summary_2['part de portefeuille vente privee 2018']\n",
    "explode_2 = (0, 0, 0.1) \n",
    "ax2.set_title('Part de portefeuille des clients vente privee en 2018',fontsize=15)\n",
    "ax2.pie(sizes_2, explode=explode, colors = colors, autopct='%1.1f%%',shadow=True, startangle=90)\n",
    "\n",
    "plt.savefig('/Users/tangigouez/Desktop/Foxintelligence/Images/share_of_wallet_vp_16_18.png')\n",
    "plt.tight_layout()\n",
    "plt.show()"
   ]
  },
  {
   "cell_type": "markdown",
   "metadata": {},
   "source": [
    "Nous pouvons constater que la part de portefeuille de Vente-privée a perdu **2,1 points entre 2016 et 2018**, au profit de Amazon et Cdiscount. Par conséquent, on peut en déduire que vente-privée a perdu en fidélisation clientèle. \n",
    "\n",
    "Cette baisse est potentiellement lié à une **diminution de la satisfaction des clients de vente-privée** et à l'**évolution de l'offre de la concurrence entre 2016 et 2018**, qui a convaincu les clients de vente-privée d'y allouer une part plus importante de leur budget dédié aux produits de la catégorie épicerie."
   ]
  },
  {
   "cell_type": "markdown",
   "metadata": {},
   "source": [
    "## **2.4. Bonus**"
   ]
  },
  {
   "cell_type": "markdown",
   "metadata": {},
   "source": [
    "Pour aller plus loin, nous pouvons analyser de plus près les composantes de la croissance des ventes en ligne que nous pouvons résumer en l'équation suivante : \n",
    "\n",
    "**Ventes en ligne = Nombre de cyber-acheteurs x Nombre de transactions annuelles par cyber-acheteurs x Panier moyen par transaction.**\n",
    "\n",
    "Etudions ces paramètres pour chacun des sites marchands afin de mieux comprendre l'évolution du marché entre 2016 et 2018."
   ]
  },
  {
   "cell_type": "markdown",
   "metadata": {},
   "source": [
    "### 2.4.1. Etude du panier moyen par commande sur chaque site marchand"
   ]
  },
  {
   "cell_type": "markdown",
   "metadata": {},
   "source": [
    "Nous allons nous intéresser dans cette partie aux dépenses moyennes réalisées par commande sur chacun des sites marchands. Pour réaliser le calcul des dépenses, nous allons nous appuyer sur la colonne suivante : *order_item_total_price_paid*, soit indépendemment de la politique de contribution."
   ]
  },
  {
   "cell_type": "code",
   "execution_count": 66,
   "metadata": {},
   "outputs": [],
   "source": [
    "amz_16_avg_basket = amz_16.groupby('id_order')['order_item_total_price_paid'].sum().mean()\n",
    "amz_18_avg_basket = amz_18.groupby('id_order')['order_item_total_price_paid'].sum().mean()\n",
    "cdisc_16_avg_basket = cdisc_16.groupby('id_order')['order_item_total_price_paid'].sum().mean()\n",
    "cdisc_18_avg_basket = cdisc_18.groupby('id_order')['order_item_total_price_paid'].sum().mean()\n",
    "vp_16_avg_basket = vp_16.groupby('id_order')['order_item_total_price_paid'].sum().mean()\n",
    "vp_18_avg_basket = vp_18.groupby('id_order')['order_item_total_price_paid'].sum().mean()"
   ]
  },
  {
   "cell_type": "code",
   "execution_count": 67,
   "metadata": {},
   "outputs": [],
   "source": [
    "avg_basket_16 = []\n",
    "avg_basket_18 = []\n",
    "\n",
    "avg_basket_16.extend((amz_16_avg_basket,cdisc_16_avg_basket,vp_16_avg_basket))\n",
    "avg_basket_18.extend((amz_18_avg_basket,cdisc_18_avg_basket,vp_18_avg_basket))\n",
    "\n",
    "df_summary_3 = pd.DataFrame({ 'marchands' : index_rows,\n",
    "                            'panier moyen par commande 2016' : avg_basket_16,\n",
    "                             'panier moyen par commande 2018' : avg_basket_18\n",
    "                           })"
   ]
  },
  {
   "cell_type": "code",
   "execution_count": 68,
   "metadata": {},
   "outputs": [],
   "source": [
    "df_summary_3['variation(%)'] = ((df_summary_3['panier moyen par commande 2018'] - df_summary_3['panier moyen par commande 2016'])/(df_summary_3['panier moyen par commande 2016'])*100)"
   ]
  },
  {
   "cell_type": "code",
   "execution_count": 69,
   "metadata": {},
   "outputs": [
    {
     "data": {
      "text/html": [
       "<div>\n",
       "<style scoped>\n",
       "    .dataframe tbody tr th:only-of-type {\n",
       "        vertical-align: middle;\n",
       "    }\n",
       "\n",
       "    .dataframe tbody tr th {\n",
       "        vertical-align: top;\n",
       "    }\n",
       "\n",
       "    .dataframe thead th {\n",
       "        text-align: right;\n",
       "    }\n",
       "</style>\n",
       "<table border=\"1\" class=\"dataframe\">\n",
       "  <thead>\n",
       "    <tr style=\"text-align: right;\">\n",
       "      <th></th>\n",
       "      <th>marchands</th>\n",
       "      <th>panier moyen par commande 2016</th>\n",
       "      <th>panier moyen par commande 2018</th>\n",
       "      <th>variation(%)</th>\n",
       "    </tr>\n",
       "  </thead>\n",
       "  <tbody>\n",
       "    <tr>\n",
       "      <th>0</th>\n",
       "      <td>amazon</td>\n",
       "      <td>39.272438</td>\n",
       "      <td>32.538693</td>\n",
       "      <td>-17.146235</td>\n",
       "    </tr>\n",
       "    <tr>\n",
       "      <th>1</th>\n",
       "      <td>cdiscount</td>\n",
       "      <td>70.466557</td>\n",
       "      <td>69.598190</td>\n",
       "      <td>-1.232311</td>\n",
       "    </tr>\n",
       "    <tr>\n",
       "      <th>2</th>\n",
       "      <td>vente-privee</td>\n",
       "      <td>65.886336</td>\n",
       "      <td>64.298210</td>\n",
       "      <td>-2.410403</td>\n",
       "    </tr>\n",
       "  </tbody>\n",
       "</table>\n",
       "</div>"
      ],
      "text/plain": [
       "      marchands  panier moyen par commande 2016  \\\n",
       "0        amazon                       39.272438   \n",
       "1     cdiscount                       70.466557   \n",
       "2  vente-privee                       65.886336   \n",
       "\n",
       "   panier moyen par commande 2018  variation(%)  \n",
       "0                       32.538693    -17.146235  \n",
       "1                       69.598190     -1.232311  \n",
       "2                       64.298210     -2.410403  "
      ]
     },
     "execution_count": 69,
     "metadata": {},
     "output_type": "execute_result"
    }
   ],
   "source": [
    "df_summary_3"
   ]
  },
  {
   "cell_type": "code",
   "execution_count": 70,
   "metadata": {},
   "outputs": [
    {
     "data": {
      "image/png": "[encoded data removed]",
      "text/plain": [
       "<Figure size 864x432 with 1 Axes>"
      ]
     },
     "metadata": {
      "needs_background": "light"
     },
     "output_type": "display_data"
    }
   ],
   "source": [
    "plt.figure(figsize=(12,6))\n",
    "fig = sns.barplot(x='marchands', y='variation(%)', data=df_summary_3)\n",
    "fig.figure.suptitle(\"Evolution du panier moyen par commande par site marchand entre 2016 et 2018\", fontsize = 15) \n",
    "plt.xlabel('Sites marchands',fontsize = 13)\n",
    "plt.ylabel('Variation (%)',fontsize = 13)\n",
    "plt.savefig('/Users/tangigouez/Desktop/Foxintelligence/Images/avg_basket_var.png')\n",
    "plt.show()"
   ]
  },
  {
   "cell_type": "markdown",
   "metadata": {},
   "source": [
    "### 2.4.2. Etude du nombre de transactions par site marchand"
   ]
  },
  {
   "cell_type": "code",
   "execution_count": 71,
   "metadata": {},
   "outputs": [],
   "source": [
    "amz_16_n_transactions = len(amz_16.groupby('id_order'))\n",
    "amz_18_n_transactions = len(amz_18.groupby('id_order'))\n",
    "cdisc_16_n_transactions = len(cdisc_16.groupby('id_order'))\n",
    "cdisc_18_n_transactions = len(cdisc_18.groupby('id_order'))\n",
    "vp_16_n_transactions = len(vp_16.groupby('id_order'))\n",
    "vp_18_n_transactions = len(vp_18.groupby('id_order'))"
   ]
  },
  {
   "cell_type": "code",
   "execution_count": 72,
   "metadata": {},
   "outputs": [],
   "source": [
    "n_transactions_16 = []\n",
    "n_transactions_18 = []\n",
    "\n",
    "n_transactions_16.extend((amz_16_n_transactions,cdisc_16_n_transactions,vp_16_n_transactions))\n",
    "n_transactions_18.extend((amz_18_n_transactions,cdisc_18_n_transactions,vp_18_n_transactions))\n",
    "\n",
    "df_summary_4 = pd.DataFrame({ 'marchands' : index_rows,\n",
    "                            'Nombre de transactions 2016' : n_transactions_16,\n",
    "                             'Nombre de transactions 2018' : n_transactions_18\n",
    "                           })"
   ]
  },
  {
   "cell_type": "code",
   "execution_count": 73,
   "metadata": {},
   "outputs": [],
   "source": [
    "df_summary_4['variation(%)'] = ((df_summary_4['Nombre de transactions 2018'] - df_summary_4['Nombre de transactions 2016'])/(df_summary_4['Nombre de transactions 2016'])*100)"
   ]
  },
  {
   "cell_type": "code",
   "execution_count": 74,
   "metadata": {},
   "outputs": [
    {
     "data": {
      "text/html": [
       "<div>\n",
       "<style scoped>\n",
       "    .dataframe tbody tr th:only-of-type {\n",
       "        vertical-align: middle;\n",
       "    }\n",
       "\n",
       "    .dataframe tbody tr th {\n",
       "        vertical-align: top;\n",
       "    }\n",
       "\n",
       "    .dataframe thead th {\n",
       "        text-align: right;\n",
       "    }\n",
       "</style>\n",
       "<table border=\"1\" class=\"dataframe\">\n",
       "  <thead>\n",
       "    <tr style=\"text-align: right;\">\n",
       "      <th></th>\n",
       "      <th>marchands</th>\n",
       "      <th>Nombre de transactions 2016</th>\n",
       "      <th>Nombre de transactions 2018</th>\n",
       "      <th>variation(%)</th>\n",
       "    </tr>\n",
       "  </thead>\n",
       "  <tbody>\n",
       "    <tr>\n",
       "      <th>0</th>\n",
       "      <td>amazon</td>\n",
       "      <td>566</td>\n",
       "      <td>2189</td>\n",
       "      <td>286.749117</td>\n",
       "    </tr>\n",
       "    <tr>\n",
       "      <th>1</th>\n",
       "      <td>cdiscount</td>\n",
       "      <td>607</td>\n",
       "      <td>663</td>\n",
       "      <td>9.225700</td>\n",
       "    </tr>\n",
       "    <tr>\n",
       "      <th>2</th>\n",
       "      <td>vente-privee</td>\n",
       "      <td>1171</td>\n",
       "      <td>1341</td>\n",
       "      <td>14.517506</td>\n",
       "    </tr>\n",
       "  </tbody>\n",
       "</table>\n",
       "</div>"
      ],
      "text/plain": [
       "      marchands  Nombre de transactions 2016  Nombre de transactions 2018  \\\n",
       "0        amazon                          566                         2189   \n",
       "1     cdiscount                          607                          663   \n",
       "2  vente-privee                         1171                         1341   \n",
       "\n",
       "   variation(%)  \n",
       "0    286.749117  \n",
       "1      9.225700  \n",
       "2     14.517506  "
      ]
     },
     "execution_count": 74,
     "metadata": {},
     "output_type": "execute_result"
    }
   ],
   "source": [
    "df_summary_4"
   ]
  },
  {
   "cell_type": "code",
   "execution_count": 75,
   "metadata": {},
   "outputs": [
    {
     "data": {
      "image/png": "[encoded data removed]",
      "text/plain": [
       "<Figure size 864x432 with 1 Axes>"
      ]
     },
     "metadata": {
      "needs_background": "light"
     },
     "output_type": "display_data"
    }
   ],
   "source": [
    "plt.figure(figsize=(12,6))\n",
    "fig = sns.barplot(x='variation(%)', y='marchands', data=df_summary_4)\n",
    "fig.figure.suptitle(\"Evolution du nombre de transactions par site marchand entre 2016 et 2018\", fontsize = 15) \n",
    "plt.xlabel('Variation (%)',fontsize = 13)\n",
    "plt.ylabel('Sites marchands',fontsize = 13)\n",
    "plt.savefig('/Users/tangigouez/Desktop/Foxintelligence/Images/n_transactions_var.png')\n",
    "plt.show()"
   ]
  },
  {
   "cell_type": "markdown",
   "metadata": {},
   "source": [
    "### 2.4.3. Etude du nombre moyen d'articles par commande sur chaque site marchand"
   ]
  },
  {
   "cell_type": "code",
   "execution_count": 76,
   "metadata": {},
   "outputs": [],
   "source": [
    "avg_items_order_amz_16 = round(float(amz_16.groupby('id_order')['total_order_item_quantity_per_order'].unique().mean()),2)\n",
    "avg_items_order_cdisc_16 = round(float(cdisc_16.groupby('id_order')['total_order_item_quantity_per_order'].unique().mean()),2)\n",
    "avg_items_order_vp_16 = round(float(vp_16.groupby('id_order')['total_order_item_quantity_per_order'].unique().mean()),2)\n",
    "avg_items_order_amz_18 = round(float(amz_18.groupby('id_order')['total_order_item_quantity_per_order'].unique().mean()),2)\n",
    "avg_items_order_cdisc_18 = round(float(cdisc_18.groupby('id_order')['total_order_item_quantity_per_order'].unique().mean()),2)\n",
    "avg_items_order_vp_18 = round(float(vp_18.groupby('id_order')['total_order_item_quantity_per_order'].unique().mean()),2)"
   ]
  },
  {
   "cell_type": "code",
   "execution_count": 77,
   "metadata": {},
   "outputs": [],
   "source": [
    "avg_items_order_16 = []\n",
    "avg_items_order_18 = []\n",
    "\n",
    "avg_items_order_16.extend((avg_items_order_amz_16,avg_items_order_cdisc_16,avg_items_order_vp_16))\n",
    "avg_items_order_18.extend((avg_items_order_amz_18,avg_items_order_cdisc_18,avg_items_order_vp_18))\n",
    "\n",
    "df_summary_5 = pd.DataFrame({ 'marchands' : index_rows,\n",
    "                            \"Nombre moyen d'articles par commande 2016\" : avg_items_order_16,\n",
    "                             \"Nombre moyen d'articles par commande 2018\" : avg_items_order_18\n",
    "                           })"
   ]
  },
  {
   "cell_type": "code",
   "execution_count": 78,
   "metadata": {},
   "outputs": [],
   "source": [
    "df_summary_5['variation(%)'] = ((df_summary_5[\"Nombre moyen d'articles par commande 2018\"] - df_summary_5[\"Nombre moyen d'articles par commande 2016\"])/(df_summary_5[\"Nombre moyen d'articles par commande 2016\"])*100)"
   ]
  },
  {
   "cell_type": "code",
   "execution_count": 79,
   "metadata": {},
   "outputs": [
    {
     "data": {
      "image/png": "[encoded data removed]",
      "text/plain": [
       "<Figure size 864x432 with 1 Axes>"
      ]
     },
     "metadata": {
      "needs_background": "light"
     },
     "output_type": "display_data"
    }
   ],
   "source": [
    "plt.figure(figsize=(12,6))\n",
    "fig = sns.barplot(x=\"variation(%)\", y='marchands', data=df_summary_5)\n",
    "fig.figure.suptitle(\"Evolution du nombre moyen d'articles par commande entre 2016 et 2018\", fontsize = 15) \n",
    "plt.xlabel(\"Variation (%)\",fontsize = 13)\n",
    "plt.ylabel('Sites marchands',fontsize = 13)\n",
    "plt.savefig('/Users/tangigouez/Desktop/Foxintelligence/Images/avg_item_order_var.png')\n",
    "plt.show()"
   ]
  },
  {
   "cell_type": "markdown",
   "metadata": {},
   "source": [
    "### 2.4.4. Etude de la politique de contribution par article commandé par site marchand"
   ]
  },
  {
   "cell_type": "code",
   "execution_count": 80,
   "metadata": {},
   "outputs": [],
   "source": [
    "avg_contribution_amz_16 = amz_16['coef_contributions (%)'].mean()\n",
    "avg_contribution_amz_18 = amz_18['coef_contributions (%)'].mean()\n",
    "avg_contribution_cdisc_16 = cdisc_16['coef_contributions (%)'].mean()\n",
    "avg_contribution_cdisc_18 = cdisc_18['coef_contributions (%)'].mean()\n",
    "avg_contribution_vp_16 = vp_16['coef_contributions (%)'].mean()\n",
    "avg_contribution_vp_18 = vp_18['coef_contributions (%)'].mean()"
   ]
  },
  {
   "cell_type": "code",
   "execution_count": 81,
   "metadata": {},
   "outputs": [],
   "source": [
    "avg_contribution_16 = []\n",
    "avg_contribution_18 = []\n",
    "\n",
    "avg_contribution_16.extend((avg_contribution_amz_16,avg_contribution_cdisc_16,avg_contribution_vp_16))\n",
    "avg_contribution_18.extend((avg_contribution_amz_18,avg_contribution_cdisc_18,avg_contribution_vp_18))\n",
    "\n",
    "df_summary_6 = pd.DataFrame({ 'marchands' : index_rows,\n",
    "                            \"% de contribution moyen 2016\" : avg_contribution_16,\n",
    "                             \"% de contribution moyen 2018\" : avg_contribution_18\n",
    "                           })"
   ]
  },
  {
   "cell_type": "code",
   "execution_count": 82,
   "metadata": {},
   "outputs": [],
   "source": [
    "df_summary_6['variation'] = df_summary_6[\"% de contribution moyen 2018\"] - df_summary_6[\"% de contribution moyen 2016\"]"
   ]
  },
  {
   "cell_type": "code",
   "execution_count": 83,
   "metadata": {},
   "outputs": [
    {
     "data": {
      "text/html": [
       "<div>\n",
       "<style scoped>\n",
       "    .dataframe tbody tr th:only-of-type {\n",
       "        vertical-align: middle;\n",
       "    }\n",
       "\n",
       "    .dataframe tbody tr th {\n",
       "        vertical-align: top;\n",
       "    }\n",
       "\n",
       "    .dataframe thead th {\n",
       "        text-align: right;\n",
       "    }\n",
       "</style>\n",
       "<table border=\"1\" class=\"dataframe\">\n",
       "  <thead>\n",
       "    <tr style=\"text-align: right;\">\n",
       "      <th></th>\n",
       "      <th>marchands</th>\n",
       "      <th>% de contribution moyen 2016</th>\n",
       "      <th>% de contribution moyen 2018</th>\n",
       "      <th>variation</th>\n",
       "    </tr>\n",
       "  </thead>\n",
       "  <tbody>\n",
       "    <tr>\n",
       "      <th>0</th>\n",
       "      <td>amazon</td>\n",
       "      <td>8.552486</td>\n",
       "      <td>4.989258</td>\n",
       "      <td>-3.563228</td>\n",
       "    </tr>\n",
       "    <tr>\n",
       "      <th>1</th>\n",
       "      <td>cdiscount</td>\n",
       "      <td>3.765610</td>\n",
       "      <td>3.320941</td>\n",
       "      <td>-0.444669</td>\n",
       "    </tr>\n",
       "    <tr>\n",
       "      <th>2</th>\n",
       "      <td>vente-privee</td>\n",
       "      <td>8.886545</td>\n",
       "      <td>8.635047</td>\n",
       "      <td>-0.251497</td>\n",
       "    </tr>\n",
       "  </tbody>\n",
       "</table>\n",
       "</div>"
      ],
      "text/plain": [
       "      marchands  % de contribution moyen 2016  % de contribution moyen 2018  \\\n",
       "0        amazon                      8.552486                      4.989258   \n",
       "1     cdiscount                      3.765610                      3.320941   \n",
       "2  vente-privee                      8.886545                      8.635047   \n",
       "\n",
       "   variation  \n",
       "0  -3.563228  \n",
       "1  -0.444669  \n",
       "2  -0.251497  "
      ]
     },
     "execution_count": 83,
     "metadata": {},
     "output_type": "execute_result"
    }
   ],
   "source": [
    "df_summary_6"
   ]
  },
  {
   "cell_type": "code",
   "execution_count": 84,
   "metadata": {},
   "outputs": [
    {
     "data": {
      "image/png": "[encoded data removed]",
      "text/plain": [
       "<Figure size 864x432 with 1 Axes>"
      ]
     },
     "metadata": {
      "needs_background": "light"
     },
     "output_type": "display_data"
    }
   ],
   "source": [
    "plt.figure(figsize=(12,6))\n",
    "fig = sns.barplot(x=\"marchands\", y='variation', data=df_summary_6)\n",
    "fig.figure.suptitle(\"Variation du % de contribution moyen par site marchand entre 2016 et 2018\", fontsize = 15) \n",
    "plt.xlabel(\"Sites marchands\",fontsize = 13)\n",
    "plt.ylabel('Variation',fontsize = 13)\n",
    "plt.savefig('/Users/tangigouez/Desktop/Foxintelligence/Images/avg_contribution_var.png')\n",
    "plt.show()"
   ]
  }
 ],
 "metadata": {
  "kernelspec": {
   "display_name": "Python 3",
   "language": "python",
   "name": "python3"
  },
  "language_info": {
   "codemirror_mode": {
    "name": "ipython",
    "version": 3
   },
   "file_extension": ".py",
   "mimetype": "text/x-python",
   "name": "python",
   "nbconvert_exporter": "python",
   "pygments_lexer": "ipython3",
   "version": "3.7.3"
  }
 },
 "nbformat": 4,
 "nbformat_minor": 4
}
